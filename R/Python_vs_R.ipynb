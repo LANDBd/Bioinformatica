{
  "nbformat": 4,
  "nbformat_minor": 0,
  "metadata": {
    "colab": {
      "provenance": []
    },
    "kernelspec": {
      "name": "python3",
      "display_name": "Python 3"
    },
    "language_info": {
      "name": "python"
    }
  },
  "cells": [
    {
      "cell_type": "markdown",
      "source": [
        "### **\"Python vs R\"**"
      ],
      "metadata": {
        "id": "k-LiWdXAhlvp"
      }
    },
    {
      "cell_type": "code",
      "source": [
        "# Instala los paquetes si no los tienes\n",
        "install.packages(\"mlbench\")\n",
        "install.packages(\"dplyr\")\n",
        "install.packages(\"caret\")"
      ],
      "metadata": {
        "colab": {
          "base_uri": "https://localhost:8080/"
        },
        "id": "YaiLPCyRa-go",
        "outputId": "f97be91f-b396-4c0d-c4ad-7de3069aacb2"
      },
      "execution_count": null,
      "outputs": [
        {
          "output_type": "stream",
          "name": "stderr",
          "text": [
            "Installing package into ‘/usr/local/lib/R/site-library’\n",
            "(as ‘lib’ is unspecified)\n",
            "\n",
            "Warning message in install.packages(\"mlbench\"):\n",
            "“installation of package ‘mlbench’ had non-zero exit status”\n",
            "Installing package into ‘/usr/local/lib/R/site-library’\n",
            "(as ‘lib’ is unspecified)\n",
            "\n",
            "Installing package into ‘/usr/local/lib/R/site-library’\n",
            "(as ‘lib’ is unspecified)\n",
            "\n",
            "also installing the dependencies ‘listenv’, ‘parallelly’, ‘future’, ‘globals’, ‘shape’, ‘future.apply’, ‘numDeriv’, ‘progressr’, ‘SQUAREM’, ‘diagram’, ‘lava’, ‘prodlim’, ‘proxy’, ‘iterators’, ‘clock’, ‘gower’, ‘hardhat’, ‘ipred’, ‘sparsevctrs’, ‘timeDate’, ‘e1071’, ‘foreach’, ‘ModelMetrics’, ‘plyr’, ‘pROC’, ‘recipes’, ‘reshape2’\n",
            "\n",
            "\n"
          ]
        }
      ]
    },
    {
      "cell_type": "code",
      "execution_count": 2,
      "metadata": {
        "colab": {
          "base_uri": "https://localhost:8080/"
        },
        "id": "9ImJDMwCabMe",
        "outputId": "21e23e59-0cd2-4f3b-d3c6-9ad174bb63dc"
      },
      "outputs": [
        {
          "output_type": "stream",
          "name": "stderr",
          "text": [
            "\n",
            "Attaching package: ‘dplyr’\n",
            "\n",
            "\n",
            "The following objects are masked from ‘package:stats’:\n",
            "\n",
            "    filter, lag\n",
            "\n",
            "\n",
            "The following objects are masked from ‘package:base’:\n",
            "\n",
            "    intersect, setdiff, setequal, union\n",
            "\n",
            "\n",
            "Loading required package: ggplot2\n",
            "\n",
            "Loading required package: lattice\n",
            "\n"
          ]
        }
      ],
      "source": [
        "# Cargar librerías\n",
        "library(mlbench)   # Contiene el dataset\n",
        "library(dplyr)     # Para manipulación de datos\n",
        "library(caret)     # Para partición de datos y evaluación"
      ]
    },
    {
      "cell_type": "code",
      "source": [
        "# Cargar dataset\n",
        "data(PimaIndiansDiabetes)\n",
        "df <- PimaIndiansDiabetes"
      ],
      "metadata": {
        "id": "14P7T_Graqjf"
      },
      "execution_count": 3,
      "outputs": []
    },
    {
      "cell_type": "code",
      "source": [
        "write.csv(df, \"PimaIndiansDataset.csv\", row.names = FALSE)"
      ],
      "metadata": {
        "id": "gROYrdrUO9-t"
      },
      "execution_count": 4,
      "outputs": []
    },
    {
      "cell_type": "code",
      "source": [
        "head(df)"
      ],
      "metadata": {
        "colab": {
          "base_uri": "https://localhost:8080/",
          "height": 286
        },
        "id": "oFiODfhBJv-a",
        "outputId": "3c280746-554d-4b0c-e070-2f436344265d"
      },
      "execution_count": 16,
      "outputs": [
        {
          "output_type": "display_data",
          "data": {
            "text/html": [
              "<table class=\"dataframe\">\n",
              "<caption>A data.frame: 6 × 9</caption>\n",
              "<thead>\n",
              "\t<tr><th></th><th scope=col>pregnant</th><th scope=col>glucose</th><th scope=col>pressure</th><th scope=col>triceps</th><th scope=col>insulin</th><th scope=col>mass</th><th scope=col>pedigree</th><th scope=col>age</th><th scope=col>diabetes</th></tr>\n",
              "\t<tr><th></th><th scope=col>&lt;dbl&gt;</th><th scope=col>&lt;dbl&gt;</th><th scope=col>&lt;dbl&gt;</th><th scope=col>&lt;dbl&gt;</th><th scope=col>&lt;dbl&gt;</th><th scope=col>&lt;dbl&gt;</th><th scope=col>&lt;dbl&gt;</th><th scope=col>&lt;dbl&gt;</th><th scope=col>&lt;fct&gt;</th></tr>\n",
              "</thead>\n",
              "<tbody>\n",
              "\t<tr><th scope=row>1</th><td>6</td><td>148</td><td>72</td><td>35</td><td>  0</td><td>33.6</td><td>0.627</td><td>50</td><td>pos</td></tr>\n",
              "\t<tr><th scope=row>2</th><td>1</td><td> 85</td><td>66</td><td>29</td><td>  0</td><td>26.6</td><td>0.351</td><td>31</td><td>neg</td></tr>\n",
              "\t<tr><th scope=row>3</th><td>8</td><td>183</td><td>64</td><td> 0</td><td>  0</td><td>23.3</td><td>0.672</td><td>32</td><td>pos</td></tr>\n",
              "\t<tr><th scope=row>4</th><td>1</td><td> 89</td><td>66</td><td>23</td><td> 94</td><td>28.1</td><td>0.167</td><td>21</td><td>neg</td></tr>\n",
              "\t<tr><th scope=row>5</th><td>0</td><td>137</td><td>40</td><td>35</td><td>168</td><td>43.1</td><td>2.288</td><td>33</td><td>pos</td></tr>\n",
              "\t<tr><th scope=row>6</th><td>5</td><td>116</td><td>74</td><td> 0</td><td>  0</td><td>25.6</td><td>0.201</td><td>30</td><td>neg</td></tr>\n",
              "</tbody>\n",
              "</table>\n"
            ],
            "text/markdown": "\nA data.frame: 6 × 9\n\n| <!--/--> | pregnant &lt;dbl&gt; | glucose &lt;dbl&gt; | pressure &lt;dbl&gt; | triceps &lt;dbl&gt; | insulin &lt;dbl&gt; | mass &lt;dbl&gt; | pedigree &lt;dbl&gt; | age &lt;dbl&gt; | diabetes &lt;fct&gt; |\n|---|---|---|---|---|---|---|---|---|---|\n| 1 | 6 | 148 | 72 | 35 |   0 | 33.6 | 0.627 | 50 | pos |\n| 2 | 1 |  85 | 66 | 29 |   0 | 26.6 | 0.351 | 31 | neg |\n| 3 | 8 | 183 | 64 |  0 |   0 | 23.3 | 0.672 | 32 | pos |\n| 4 | 1 |  89 | 66 | 23 |  94 | 28.1 | 0.167 | 21 | neg |\n| 5 | 0 | 137 | 40 | 35 | 168 | 43.1 | 2.288 | 33 | pos |\n| 6 | 5 | 116 | 74 |  0 |   0 | 25.6 | 0.201 | 30 | neg |\n\n",
            "text/latex": "A data.frame: 6 × 9\n\\begin{tabular}{r|lllllllll}\n  & pregnant & glucose & pressure & triceps & insulin & mass & pedigree & age & diabetes\\\\\n  & <dbl> & <dbl> & <dbl> & <dbl> & <dbl> & <dbl> & <dbl> & <dbl> & <fct>\\\\\n\\hline\n\t1 & 6 & 148 & 72 & 35 &   0 & 33.6 & 0.627 & 50 & pos\\\\\n\t2 & 1 &  85 & 66 & 29 &   0 & 26.6 & 0.351 & 31 & neg\\\\\n\t3 & 8 & 183 & 64 &  0 &   0 & 23.3 & 0.672 & 32 & pos\\\\\n\t4 & 1 &  89 & 66 & 23 &  94 & 28.1 & 0.167 & 21 & neg\\\\\n\t5 & 0 & 137 & 40 & 35 & 168 & 43.1 & 2.288 & 33 & pos\\\\\n\t6 & 5 & 116 & 74 &  0 &   0 & 25.6 & 0.201 & 30 & neg\\\\\n\\end{tabular}\n",
            "text/plain": [
              "  pregnant glucose pressure triceps insulin mass pedigree age diabetes\n",
              "1 6        148     72       35        0     33.6 0.627    50  pos     \n",
              "2 1         85     66       29        0     26.6 0.351    31  neg     \n",
              "3 8        183     64        0        0     23.3 0.672    32  pos     \n",
              "4 1         89     66       23       94     28.1 0.167    21  neg     \n",
              "5 0        137     40       35      168     43.1 2.288    33  pos     \n",
              "6 5        116     74        0        0     25.6 0.201    30  neg     "
            ]
          },
          "metadata": {}
        }
      ]
    },
    {
      "cell_type": "code",
      "source": [
        "# Ver estructura\n",
        "str(df)"
      ],
      "metadata": {
        "colab": {
          "base_uri": "https://localhost:8080/"
        },
        "id": "Enl1B9gPJstl",
        "outputId": "f0c3aba4-19a5-43ee-a3bd-e1614ca3f519"
      },
      "execution_count": 17,
      "outputs": [
        {
          "output_type": "stream",
          "name": "stdout",
          "text": [
            "'data.frame':\t768 obs. of  9 variables:\n",
            " $ pregnant: num  6 1 8 1 0 5 3 10 2 8 ...\n",
            " $ glucose : num  148 85 183 89 137 116 78 115 197 125 ...\n",
            " $ pressure: num  72 66 64 66 40 74 50 0 70 96 ...\n",
            " $ triceps : num  35 29 0 23 35 0 32 0 45 0 ...\n",
            " $ insulin : num  0 0 0 94 168 0 88 0 543 0 ...\n",
            " $ mass    : num  33.6 26.6 23.3 28.1 43.1 25.6 31 35.3 30.5 0 ...\n",
            " $ pedigree: num  0.627 0.351 0.672 0.167 2.288 ...\n",
            " $ age     : num  50 31 32 21 33 30 26 29 53 54 ...\n",
            " $ diabetes: Factor w/ 2 levels \"neg\",\"pos\": 2 1 2 1 2 1 2 1 2 2 ...\n"
          ]
        }
      ]
    },
    {
      "cell_type": "code",
      "source": [
        "# Resumen estadístico\n",
        "summary(df)"
      ],
      "metadata": {
        "colab": {
          "base_uri": "https://localhost:8080/",
          "height": 265
        },
        "id": "qdwF2kC3Ju-w",
        "outputId": "b0b18776-358c-4a3b-ea93-7480500be384"
      },
      "execution_count": 18,
      "outputs": [
        {
          "output_type": "display_data",
          "data": {
            "text/plain": [
              "    pregnant         glucose         pressure         triceps     \n",
              " Min.   : 0.000   Min.   :  0.0   Min.   :  0.00   Min.   : 0.00  \n",
              " 1st Qu.: 1.000   1st Qu.: 99.0   1st Qu.: 62.00   1st Qu.: 0.00  \n",
              " Median : 3.000   Median :117.0   Median : 72.00   Median :23.00  \n",
              " Mean   : 3.845   Mean   :120.9   Mean   : 69.11   Mean   :20.54  \n",
              " 3rd Qu.: 6.000   3rd Qu.:140.2   3rd Qu.: 80.00   3rd Qu.:32.00  \n",
              " Max.   :17.000   Max.   :199.0   Max.   :122.00   Max.   :99.00  \n",
              "    insulin           mass          pedigree           age        diabetes \n",
              " Min.   :  0.0   Min.   : 0.00   Min.   :0.0780   Min.   :21.00   neg:500  \n",
              " 1st Qu.:  0.0   1st Qu.:27.30   1st Qu.:0.2437   1st Qu.:24.00   pos:268  \n",
              " Median : 30.5   Median :32.00   Median :0.3725   Median :29.00            \n",
              " Mean   : 79.8   Mean   :31.99   Mean   :0.4719   Mean   :33.24            \n",
              " 3rd Qu.:127.2   3rd Qu.:36.60   3rd Qu.:0.6262   3rd Qu.:41.00            \n",
              " Max.   :846.0   Max.   :67.10   Max.   :2.4200   Max.   :81.00            "
            ]
          },
          "metadata": {}
        }
      ]
    },
    {
      "cell_type": "code",
      "source": [
        "# Ver proporción de la variable objetivo\n",
        "table(df$diabetes)"
      ],
      "metadata": {
        "colab": {
          "base_uri": "https://localhost:8080/",
          "height": 70
        },
        "id": "okASQpB0K6v9",
        "outputId": "d9f8d9bc-78d3-4100-ce72-07bce665a681"
      },
      "execution_count": 19,
      "outputs": [
        {
          "output_type": "display_data",
          "data": {
            "text/plain": [
              "\n",
              "neg pos \n",
              "500 268 "
            ]
          },
          "metadata": {}
        }
      ]
    },
    {
      "cell_type": "code",
      "source": [
        "# Verificar valores NA (no debería haber en este dataset)\n",
        "colSums(is.na(df))"
      ],
      "metadata": {
        "id": "9DmIfgYSarHz",
        "colab": {
          "base_uri": "https://localhost:8080/",
          "height": 34
        },
        "outputId": "b604cfe7-d03b-421b-f50a-438d48a207f3"
      },
      "execution_count": 20,
      "outputs": [
        {
          "output_type": "display_data",
          "data": {
            "text/html": [
              "<style>\n",
              ".dl-inline {width: auto; margin:0; padding: 0}\n",
              ".dl-inline>dt, .dl-inline>dd {float: none; width: auto; display: inline-block}\n",
              ".dl-inline>dt::after {content: \":\\0020\"; padding-right: .5ex}\n",
              ".dl-inline>dt:not(:first-of-type) {padding-left: .5ex}\n",
              "</style><dl class=dl-inline><dt>pregnant</dt><dd>0</dd><dt>glucose</dt><dd>0</dd><dt>pressure</dt><dd>0</dd><dt>triceps</dt><dd>0</dd><dt>insulin</dt><dd>0</dd><dt>mass</dt><dd>0</dd><dt>pedigree</dt><dd>0</dd><dt>age</dt><dd>0</dd><dt>diabetes</dt><dd>0</dd></dl>\n"
            ],
            "text/markdown": "pregnant\n:   0glucose\n:   0pressure\n:   0triceps\n:   0insulin\n:   0mass\n:   0pedigree\n:   0age\n:   0diabetes\n:   0\n\n",
            "text/latex": "\\begin{description*}\n\\item[pregnant] 0\n\\item[glucose] 0\n\\item[pressure] 0\n\\item[triceps] 0\n\\item[insulin] 0\n\\item[mass] 0\n\\item[pedigree] 0\n\\item[age] 0\n\\item[diabetes] 0\n\\end{description*}\n",
            "text/plain": [
              "pregnant  glucose pressure  triceps  insulin     mass pedigree      age \n",
              "       0        0        0        0        0        0        0        0 \n",
              "diabetes \n",
              "       0 "
            ]
          },
          "metadata": {}
        }
      ]
    },
    {
      "cell_type": "code",
      "source": [
        "# Opcional: Escalar variables numéricas\n",
        "df_scaled <- df\n",
        "df_scaled[1:8] <- scale(df[1:8])"
      ],
      "metadata": {
        "id": "f3aRvyWTK_kw"
      },
      "execution_count": 21,
      "outputs": []
    },
    {
      "cell_type": "code",
      "source": [
        "head(df_scaled)"
      ],
      "metadata": {
        "colab": {
          "base_uri": "https://localhost:8080/",
          "height": 286
        },
        "id": "wz4QISi-LA4Z",
        "outputId": "caacc3d6-2b4d-49d3-f35b-a1cdd9bd7ef6"
      },
      "execution_count": 22,
      "outputs": [
        {
          "output_type": "display_data",
          "data": {
            "text/html": [
              "<table class=\"dataframe\">\n",
              "<caption>A data.frame: 6 × 9</caption>\n",
              "<thead>\n",
              "\t<tr><th></th><th scope=col>pregnant</th><th scope=col>glucose</th><th scope=col>pressure</th><th scope=col>triceps</th><th scope=col>insulin</th><th scope=col>mass</th><th scope=col>pedigree</th><th scope=col>age</th><th scope=col>diabetes</th></tr>\n",
              "\t<tr><th></th><th scope=col>&lt;dbl&gt;</th><th scope=col>&lt;dbl&gt;</th><th scope=col>&lt;dbl&gt;</th><th scope=col>&lt;dbl&gt;</th><th scope=col>&lt;dbl&gt;</th><th scope=col>&lt;dbl&gt;</th><th scope=col>&lt;dbl&gt;</th><th scope=col>&lt;dbl&gt;</th><th scope=col>&lt;fct&gt;</th></tr>\n",
              "</thead>\n",
              "<tbody>\n",
              "\t<tr><th scope=row>1</th><td> 0.6395305</td><td> 0.8477713</td><td> 0.1495433</td><td> 0.9066791</td><td>-0.6924393</td><td> 0.2038799</td><td> 0.4681869</td><td> 1.42506672</td><td>pos</td></tr>\n",
              "\t<tr><th scope=row>2</th><td>-0.8443348</td><td>-1.1226647</td><td>-0.1604412</td><td> 0.5305558</td><td>-0.6924393</td><td>-0.6839762</td><td>-0.3648230</td><td>-0.19054773</td><td>neg</td></tr>\n",
              "\t<tr><th scope=row>3</th><td> 1.2330766</td><td> 1.9424580</td><td>-0.2637694</td><td>-1.2873733</td><td>-0.6924393</td><td>-1.1025370</td><td> 0.6040037</td><td>-0.10551539</td><td>pos</td></tr>\n",
              "\t<tr><th scope=row>4</th><td>-0.8443348</td><td>-0.9975577</td><td>-0.1604412</td><td> 0.1544326</td><td> 0.1232213</td><td>-0.4937213</td><td>-0.9201630</td><td>-1.04087112</td><td>neg</td></tr>\n",
              "\t<tr><th scope=row>5</th><td>-1.1411079</td><td> 0.5037269</td><td>-1.5037073</td><td> 0.9066791</td><td> 0.7653372</td><td> 1.4088275</td><td> 5.4813370</td><td>-0.02048305</td><td>pos</td></tr>\n",
              "\t<tr><th scope=row>6</th><td> 0.3427574</td><td>-0.1530851</td><td> 0.2528715</td><td>-1.2873733</td><td>-0.6924393</td><td>-0.8108128</td><td>-0.8175458</td><td>-0.27558007</td><td>neg</td></tr>\n",
              "</tbody>\n",
              "</table>\n"
            ],
            "text/markdown": "\nA data.frame: 6 × 9\n\n| <!--/--> | pregnant &lt;dbl&gt; | glucose &lt;dbl&gt; | pressure &lt;dbl&gt; | triceps &lt;dbl&gt; | insulin &lt;dbl&gt; | mass &lt;dbl&gt; | pedigree &lt;dbl&gt; | age &lt;dbl&gt; | diabetes &lt;fct&gt; |\n|---|---|---|---|---|---|---|---|---|---|\n| 1 |  0.6395305 |  0.8477713 |  0.1495433 |  0.9066791 | -0.6924393 |  0.2038799 |  0.4681869 |  1.42506672 | pos |\n| 2 | -0.8443348 | -1.1226647 | -0.1604412 |  0.5305558 | -0.6924393 | -0.6839762 | -0.3648230 | -0.19054773 | neg |\n| 3 |  1.2330766 |  1.9424580 | -0.2637694 | -1.2873733 | -0.6924393 | -1.1025370 |  0.6040037 | -0.10551539 | pos |\n| 4 | -0.8443348 | -0.9975577 | -0.1604412 |  0.1544326 |  0.1232213 | -0.4937213 | -0.9201630 | -1.04087112 | neg |\n| 5 | -1.1411079 |  0.5037269 | -1.5037073 |  0.9066791 |  0.7653372 |  1.4088275 |  5.4813370 | -0.02048305 | pos |\n| 6 |  0.3427574 | -0.1530851 |  0.2528715 | -1.2873733 | -0.6924393 | -0.8108128 | -0.8175458 | -0.27558007 | neg |\n\n",
            "text/latex": "A data.frame: 6 × 9\n\\begin{tabular}{r|lllllllll}\n  & pregnant & glucose & pressure & triceps & insulin & mass & pedigree & age & diabetes\\\\\n  & <dbl> & <dbl> & <dbl> & <dbl> & <dbl> & <dbl> & <dbl> & <dbl> & <fct>\\\\\n\\hline\n\t1 &  0.6395305 &  0.8477713 &  0.1495433 &  0.9066791 & -0.6924393 &  0.2038799 &  0.4681869 &  1.42506672 & pos\\\\\n\t2 & -0.8443348 & -1.1226647 & -0.1604412 &  0.5305558 & -0.6924393 & -0.6839762 & -0.3648230 & -0.19054773 & neg\\\\\n\t3 &  1.2330766 &  1.9424580 & -0.2637694 & -1.2873733 & -0.6924393 & -1.1025370 &  0.6040037 & -0.10551539 & pos\\\\\n\t4 & -0.8443348 & -0.9975577 & -0.1604412 &  0.1544326 &  0.1232213 & -0.4937213 & -0.9201630 & -1.04087112 & neg\\\\\n\t5 & -1.1411079 &  0.5037269 & -1.5037073 &  0.9066791 &  0.7653372 &  1.4088275 &  5.4813370 & -0.02048305 & pos\\\\\n\t6 &  0.3427574 & -0.1530851 &  0.2528715 & -1.2873733 & -0.6924393 & -0.8108128 & -0.8175458 & -0.27558007 & neg\\\\\n\\end{tabular}\n",
            "text/plain": [
              "  pregnant   glucose    pressure   triceps    insulin    mass       pedigree  \n",
              "1  0.6395305  0.8477713  0.1495433  0.9066791 -0.6924393  0.2038799  0.4681869\n",
              "2 -0.8443348 -1.1226647 -0.1604412  0.5305558 -0.6924393 -0.6839762 -0.3648230\n",
              "3  1.2330766  1.9424580 -0.2637694 -1.2873733 -0.6924393 -1.1025370  0.6040037\n",
              "4 -0.8443348 -0.9975577 -0.1604412  0.1544326  0.1232213 -0.4937213 -0.9201630\n",
              "5 -1.1411079  0.5037269 -1.5037073  0.9066791  0.7653372  1.4088275  5.4813370\n",
              "6  0.3427574 -0.1530851  0.2528715 -1.2873733 -0.6924393 -0.8108128 -0.8175458\n",
              "  age         diabetes\n",
              "1  1.42506672 pos     \n",
              "2 -0.19054773 neg     \n",
              "3 -0.10551539 pos     \n",
              "4 -1.04087112 neg     \n",
              "5 -0.02048305 pos     \n",
              "6 -0.27558007 neg     "
            ]
          },
          "metadata": {}
        }
      ]
    },
    {
      "cell_type": "code",
      "source": [
        "set.seed(123)  # Reproducibilidad\n",
        "\n",
        "# 80% entrenamiento, 20% prueba\n",
        "train_index <- createDataPartition(df_scaled$diabetes, p = 0.8, list = FALSE)\n",
        "\n",
        "train_data <- df_scaled[train_index, ]\n",
        "test_data  <- df_scaled[-train_index, ]"
      ],
      "metadata": {
        "id": "Y8RlUi8EHu8P"
      },
      "execution_count": 23,
      "outputs": []
    },
    {
      "cell_type": "code",
      "source": [
        "# Ajustar el modelo\n",
        "modelo_log <- glm(diabetes ~ ., data = train_data, family = binomial)\n",
        "\n",
        "# Ver resumen del modelo\n",
        "summary(modelo_log)"
      ],
      "metadata": {
        "colab": {
          "base_uri": "https://localhost:8080/",
          "height": 460
        },
        "id": "9mo244_wHywu",
        "outputId": "75d6590a-889a-4232-a07b-b78a371cd379"
      },
      "execution_count": 24,
      "outputs": [
        {
          "output_type": "display_data",
          "data": {
            "text/plain": [
              "\n",
              "Call:\n",
              "glm(formula = diabetes ~ ., family = binomial, data = train_data)\n",
              "\n",
              "Coefficients:\n",
              "             Estimate Std. Error z value Pr(>|z|)    \n",
              "(Intercept) -0.850841   0.105914  -8.033 9.49e-16 ***\n",
              "pregnant     0.336385   0.120759   2.786  0.00534 ** \n",
              "glucose      1.094443   0.129596   8.445  < 2e-16 ***\n",
              "pressure    -0.287765   0.107555  -2.676  0.00746 ** \n",
              "triceps     -0.009735   0.121630  -0.080  0.93621    \n",
              "insulin     -0.082021   0.110226  -0.744  0.45681    \n",
              "mass         0.636012   0.130450   4.876 1.09e-06 ***\n",
              "pedigree     0.309976   0.112273   2.761  0.00576 ** \n",
              "age          0.181526   0.120799   1.503  0.13291    \n",
              "---\n",
              "Signif. codes:  0 ‘***’ 0.001 ‘**’ 0.01 ‘*’ 0.05 ‘.’ 0.1 ‘ ’ 1\n",
              "\n",
              "(Dispersion parameter for binomial family taken to be 1)\n",
              "\n",
              "    Null deviance: 796.05  on 614  degrees of freedom\n",
              "Residual deviance: 598.41  on 606  degrees of freedom\n",
              "AIC: 616.41\n",
              "\n",
              "Number of Fisher Scoring iterations: 5\n"
            ]
          },
          "metadata": {}
        }
      ]
    },
    {
      "cell_type": "code",
      "source": [
        "# Predicciones en el set de prueba (probabilidades)\n",
        "prob_pred <- predict(modelo_log, newdata = test_data, type = \"response\")\n",
        "head(prob_pred)"
      ],
      "metadata": {
        "colab": {
          "base_uri": "https://localhost:8080/",
          "height": 52
        },
        "id": "1xIFfdO1H9qd",
        "outputId": "fd98670d-fea4-46b5-b320-1eabcf48137d"
      },
      "execution_count": 28,
      "outputs": [
        {
          "output_type": "display_data",
          "data": {
            "text/html": [
              "<style>\n",
              ".dl-inline {width: auto; margin:0; padding: 0}\n",
              ".dl-inline>dt, .dl-inline>dd {float: none; width: auto; display: inline-block}\n",
              ".dl-inline>dt::after {content: \":\\0020\"; padding-right: .5ex}\n",
              ".dl-inline>dt:not(:first-of-type) {padding-left: .5ex}\n",
              "</style><dl class=dl-inline><dt>2</dt><dd>0.0547615816189652</dd><dt>5</dt><dd>0.906287009953115</dd><dt>17</dt><dd>0.371686383282591</dd><dt>25</dt><dd>0.654132623818466</dd><dt>27</dt><dd>0.705101730878341</dd><dt>34</dt><dd>0.0385006341027086</dd></dl>\n"
            ],
            "text/markdown": "2\n:   0.05476158161896525\n:   0.90628700995311517\n:   0.37168638328259125\n:   0.65413262381846627\n:   0.70510173087834134\n:   0.0385006341027086\n\n",
            "text/latex": "\\begin{description*}\n\\item[2] 0.0547615816189652\n\\item[5] 0.906287009953115\n\\item[17] 0.371686383282591\n\\item[25] 0.654132623818466\n\\item[27] 0.705101730878341\n\\item[34] 0.0385006341027086\n\\end{description*}\n",
            "text/plain": [
              "         2          5         17         25         27         34 \n",
              "0.05476158 0.90628701 0.37168638 0.65413262 0.70510173 0.03850063 "
            ]
          },
          "metadata": {}
        }
      ]
    },
    {
      "cell_type": "code",
      "source": [
        "# Convertir probabilidades a clases (umbral 0.5)\n",
        "class_pred <- ifelse(prob_pred > 0.5, \"pos\", \"neg\") %>% as.factor()\n",
        "head(class_pred)"
      ],
      "metadata": {
        "colab": {
          "base_uri": "https://localhost:8080/",
          "height": 52
        },
        "id": "f-uKvndsNDWo",
        "outputId": "e02d418c-8e01-47cf-8954-3f5cff0eb894"
      },
      "execution_count": 37,
      "outputs": [
        {
          "output_type": "display_data",
          "data": {
            "text/html": [
              "<style>\n",
              ".dl-inline {width: auto; margin:0; padding: 0}\n",
              ".dl-inline>dt, .dl-inline>dd {float: none; width: auto; display: inline-block}\n",
              ".dl-inline>dt::after {content: \":\\0020\"; padding-right: .5ex}\n",
              ".dl-inline>dt:not(:first-of-type) {padding-left: .5ex}\n",
              "</style><dl class=dl-inline><dt>2</dt><dd>neg</dd><dt>5</dt><dd>pos</dd><dt>17</dt><dd>neg</dd><dt>25</dt><dd>pos</dd><dt>27</dt><dd>pos</dd><dt>34</dt><dd>neg</dd></dl>\n",
              "\n",
              "<details>\n",
              "\t<summary style=display:list-item;cursor:pointer>\n",
              "\t\t<strong>Levels</strong>:\n",
              "\t</summary>\n",
              "\t<style>\n",
              "\t.list-inline {list-style: none; margin:0; padding: 0}\n",
              "\t.list-inline>li {display: inline-block}\n",
              "\t.list-inline>li:not(:last-child)::after {content: \"\\00b7\"; padding: 0 .5ex}\n",
              "\t</style>\n",
              "\t<ol class=list-inline><li>'neg'</li><li>'pos'</li></ol>\n",
              "</details>"
            ],
            "text/markdown": "2\n:   neg5\n:   pos17\n:   neg25\n:   pos27\n:   pos34\n:   neg\n\n\n**Levels**: 1. 'neg'\n2. 'pos'\n\n\n",
            "text/latex": "\\begin{description*}\n\\item[2] neg\n\\item[5] pos\n\\item[17] neg\n\\item[25] pos\n\\item[27] pos\n\\item[34] neg\n\\end{description*}\n\n\\emph{Levels}: \\begin{enumerate*}\n\\item 'neg'\n\\item 'pos'\n\\end{enumerate*}\n",
            "text/plain": [
              "  2   5  17  25  27  34 \n",
              "neg pos neg pos pos neg \n",
              "Levels: neg pos"
            ]
          },
          "metadata": {}
        }
      ]
    },
    {
      "cell_type": "code",
      "source": [
        "# Convertir real a factor con los mismos niveles\n",
        "real <- test_data$diabetes\n",
        "levels(class_pred) <- levels(real)"
      ],
      "metadata": {
        "id": "Uil9qbIaNVIX"
      },
      "execution_count": 35,
      "outputs": []
    },
    {
      "cell_type": "code",
      "source": [
        "# Matriz de confusión\n",
        "confusionMatrix(class_pred, real)"
      ],
      "metadata": {
        "colab": {
          "base_uri": "https://localhost:8080/",
          "height": 495
        },
        "id": "8a3Yxd5bNYIq",
        "outputId": "7899fa04-54e9-4270-b53e-09bee8eb4485"
      },
      "execution_count": 40,
      "outputs": [
        {
          "output_type": "display_data",
          "data": {
            "text/plain": [
              "Confusion Matrix and Statistics\n",
              "\n",
              "          Reference\n",
              "Prediction neg pos\n",
              "       neg  91  21\n",
              "       pos   9  32\n",
              "                                          \n",
              "               Accuracy : 0.8039          \n",
              "                 95% CI : (0.7321, 0.8636)\n",
              "    No Information Rate : 0.6536          \n",
              "    P-Value [Acc > NIR] : 3.3e-05         \n",
              "                                          \n",
              "                  Kappa : 0.5426          \n",
              "                                          \n",
              " Mcnemar's Test P-Value : 0.04461         \n",
              "                                          \n",
              "            Sensitivity : 0.9100          \n",
              "            Specificity : 0.6038          \n",
              "         Pos Pred Value : 0.8125          \n",
              "         Neg Pred Value : 0.7805          \n",
              "             Prevalence : 0.6536          \n",
              "         Detection Rate : 0.5948          \n",
              "   Detection Prevalence : 0.7320          \n",
              "      Balanced Accuracy : 0.7569          \n",
              "                                          \n",
              "       'Positive' Class : neg             \n",
              "                                          "
            ]
          },
          "metadata": {}
        }
      ]
    },
    {
      "cell_type": "code",
      "source": [
        "cm <- confusionMatrix(class_pred, real)\n",
        "cm$byClass[c(\"Precision\", \"Recall\", \"F1\")]"
      ],
      "metadata": {
        "colab": {
          "base_uri": "https://localhost:8080/",
          "height": 34
        },
        "id": "Ib33fpqWIAqK",
        "outputId": "865f6293-092b-409d-b7d2-539a9714e26e"
      },
      "execution_count": 32,
      "outputs": [
        {
          "output_type": "display_data",
          "data": {
            "text/html": [
              "<style>\n",
              ".dl-inline {width: auto; margin:0; padding: 0}\n",
              ".dl-inline>dt, .dl-inline>dd {float: none; width: auto; display: inline-block}\n",
              ".dl-inline>dt::after {content: \":\\0020\"; padding-right: .5ex}\n",
              ".dl-inline>dt:not(:first-of-type) {padding-left: .5ex}\n",
              "</style><dl class=dl-inline><dt>Precision</dt><dd>0.8125</dd><dt>Recall</dt><dd>0.91</dd><dt>F1</dt><dd>0.858490566037736</dd></dl>\n"
            ],
            "text/markdown": "Precision\n:   0.8125Recall\n:   0.91F1\n:   0.858490566037736\n\n",
            "text/latex": "\\begin{description*}\n\\item[Precision] 0.8125\n\\item[Recall] 0.91\n\\item[F1] 0.858490566037736\n\\end{description*}\n",
            "text/plain": [
              "Precision    Recall        F1 \n",
              "0.8125000 0.9100000 0.8584906 "
            ]
          },
          "metadata": {}
        }
      ]
    },
    {
      "cell_type": "markdown",
      "source": [
        "### Podemos hacer algo similar con Python? La respuesta es si."
      ],
      "metadata": {
        "id": "_SEQvjnVPYBZ"
      }
    },
    {
      "cell_type": "code",
      "source": [
        "import pandas as pd\n",
        "import numpy as np\n",
        "from sklearn.model_selection import train_test_split\n",
        "from sklearn.preprocessing import StandardScaler\n",
        "from sklearn.linear_model import LogisticRegression\n",
        "from sklearn.metrics import (\n",
        "    confusion_matrix, classification_report\n",
        ")\n",
        "import seaborn as sns\n",
        "import matplotlib.pyplot as plt"
      ],
      "metadata": {
        "id": "AU0kPQfqPw99"
      },
      "execution_count": 1,
      "outputs": []
    },
    {
      "cell_type": "code",
      "source": [
        "df = pd.read_csv('PimaIndiansDataset.csv')"
      ],
      "metadata": {
        "id": "XiFynkvoP6bQ"
      },
      "execution_count": 2,
      "outputs": []
    },
    {
      "cell_type": "code",
      "source": [
        "print(df.info())"
      ],
      "metadata": {
        "colab": {
          "base_uri": "https://localhost:8080/"
        },
        "id": "_Hy-GL7zRo8B",
        "outputId": "cbc8cc77-8db7-4e3c-d893-4758122ae9d6"
      },
      "execution_count": 3,
      "outputs": [
        {
          "output_type": "stream",
          "name": "stdout",
          "text": [
            "<class 'pandas.core.frame.DataFrame'>\n",
            "RangeIndex: 768 entries, 0 to 767\n",
            "Data columns (total 9 columns):\n",
            " #   Column    Non-Null Count  Dtype  \n",
            "---  ------    --------------  -----  \n",
            " 0   pregnant  768 non-null    int64  \n",
            " 1   glucose   768 non-null    int64  \n",
            " 2   pressure  768 non-null    int64  \n",
            " 3   triceps   768 non-null    int64  \n",
            " 4   insulin   768 non-null    int64  \n",
            " 5   mass      768 non-null    float64\n",
            " 6   pedigree  768 non-null    float64\n",
            " 7   age       768 non-null    int64  \n",
            " 8   diabetes  768 non-null    object \n",
            "dtypes: float64(2), int64(6), object(1)\n",
            "memory usage: 54.1+ KB\n",
            "None\n"
          ]
        }
      ]
    },
    {
      "cell_type": "code",
      "source": [
        "# Estadísticas descriptivas\n",
        "print(df.describe())"
      ],
      "metadata": {
        "colab": {
          "base_uri": "https://localhost:8080/"
        },
        "id": "zADGiZ9cRq45",
        "outputId": "8e6ed906-efd4-43f3-94a5-7826f44d5173"
      },
      "execution_count": 4,
      "outputs": [
        {
          "output_type": "stream",
          "name": "stdout",
          "text": [
            "         pregnant     glucose    pressure     triceps     insulin        mass  \\\n",
            "count  768.000000  768.000000  768.000000  768.000000  768.000000  768.000000   \n",
            "mean     3.845052  120.894531   69.105469   20.536458   79.799479   31.992578   \n",
            "std      3.369578   31.972618   19.355807   15.952218  115.244002    7.884160   \n",
            "min      0.000000    0.000000    0.000000    0.000000    0.000000    0.000000   \n",
            "25%      1.000000   99.000000   62.000000    0.000000    0.000000   27.300000   \n",
            "50%      3.000000  117.000000   72.000000   23.000000   30.500000   32.000000   \n",
            "75%      6.000000  140.250000   80.000000   32.000000  127.250000   36.600000   \n",
            "max     17.000000  199.000000  122.000000   99.000000  846.000000   67.100000   \n",
            "\n",
            "         pedigree         age  \n",
            "count  768.000000  768.000000  \n",
            "mean     0.471876   33.240885  \n",
            "std      0.331329   11.760232  \n",
            "min      0.078000   21.000000  \n",
            "25%      0.243750   24.000000  \n",
            "50%      0.372500   29.000000  \n",
            "75%      0.626250   41.000000  \n",
            "max      2.420000   81.000000  \n"
          ]
        }
      ]
    },
    {
      "cell_type": "code",
      "source": [
        "df['diabetes'].value_counts().reset_index()['count']"
      ],
      "metadata": {
        "colab": {
          "base_uri": "https://localhost:8080/",
          "height": 147
        },
        "id": "sVtgl0FkR-Wr",
        "outputId": "7bbe03d2-91b0-4c6d-b9bf-9fbb71f86d0e"
      },
      "execution_count": 17,
      "outputs": [
        {
          "output_type": "execute_result",
          "data": {
            "text/plain": [
              "0    500\n",
              "1    268\n",
              "Name: count, dtype: int64"
            ],
            "text/html": [
              "<div>\n",
              "<style scoped>\n",
              "    .dataframe tbody tr th:only-of-type {\n",
              "        vertical-align: middle;\n",
              "    }\n",
              "\n",
              "    .dataframe tbody tr th {\n",
              "        vertical-align: top;\n",
              "    }\n",
              "\n",
              "    .dataframe thead th {\n",
              "        text-align: right;\n",
              "    }\n",
              "</style>\n",
              "<table border=\"1\" class=\"dataframe\">\n",
              "  <thead>\n",
              "    <tr style=\"text-align: right;\">\n",
              "      <th></th>\n",
              "      <th>count</th>\n",
              "    </tr>\n",
              "  </thead>\n",
              "  <tbody>\n",
              "    <tr>\n",
              "      <th>0</th>\n",
              "      <td>500</td>\n",
              "    </tr>\n",
              "    <tr>\n",
              "      <th>1</th>\n",
              "      <td>268</td>\n",
              "    </tr>\n",
              "  </tbody>\n",
              "</table>\n",
              "</div><br><label><b>dtype:</b> int64</label>"
            ]
          },
          "metadata": {},
          "execution_count": 17
        }
      ]
    },
    {
      "cell_type": "code",
      "source": [
        "# Distribución de la variable objetivo\n",
        "print(df['diabetes'].value_counts())\n",
        "plt.bar(x = ['neg','pos'], height = df['diabetes'].value_counts().reset_index()['count'])\n",
        "plt.title('Distribución de clases')\n",
        "plt.show()"
      ],
      "metadata": {
        "colab": {
          "base_uri": "https://localhost:8080/",
          "height": 523
        },
        "id": "7H9C1c3gRs1o",
        "outputId": "9b0e3bab-e564-495c-b3a5-7ba0fbb6750f"
      },
      "execution_count": 19,
      "outputs": [
        {
          "output_type": "stream",
          "name": "stdout",
          "text": [
            "diabetes\n",
            "neg    500\n",
            "pos    268\n",
            "Name: count, dtype: int64\n"
          ]
        },
        {
          "output_type": "display_data",
          "data": {
            "text/plain": [
              "<Figure size 640x480 with 1 Axes>"
            ],
            "image/png": "[encoded data removed]"
          },
          "metadata": {}
        }
      ]
    },
    {
      "cell_type": "code",
      "source": [
        "X = df.drop('diabetes', axis=1)\n",
        "y = df['diabetes']\n",
        "\n",
        "# Escalar variables numéricas\n",
        "scaler = StandardScaler()\n",
        "X_scaled = scaler.fit_transform(X)"
      ],
      "metadata": {
        "id": "DONvUnJwSY01"
      },
      "execution_count": 20,
      "outputs": []
    },
    {
      "cell_type": "code",
      "source": [
        "X_train, X_test, y_train, y_test = train_test_split(\n",
        "    X_scaled, y, test_size=0.2, random_state=123\n",
        ")"
      ],
      "metadata": {
        "id": "_I9hWRH2Sbmf"
      },
      "execution_count": 29,
      "outputs": []
    },
    {
      "cell_type": "code",
      "source": [
        "model = LogisticRegression()\n",
        "model.fit(X_train, y_train)"
      ],
      "metadata": {
        "colab": {
          "base_uri": "https://localhost:8080/",
          "height": 80
        },
        "id": "4hgkFCcmSdfW",
        "outputId": "1692451a-1e7d-439a-83b3-f38edde7078e"
      },
      "execution_count": 30,
      "outputs": [
        {
          "output_type": "execute_result",
          "data": {
            "text/plain": [
              "LogisticRegression()"
            ],
            "text/html": [
              "<style>#sk-container-id-2 {\n",
              "  /* Definition of color scheme common for light and dark mode */\n",
              "  --sklearn-color-text: #000;\n",
              "  --sklearn-color-text-muted: #666;\n",
              "  --sklearn-color-line: gray;\n",
              "  /* Definition of color scheme for unfitted estimators */\n",
              "  --sklearn-color-unfitted-level-0: #fff5e6;\n",
              "  --sklearn-color-unfitted-level-1: #f6e4d2;\n",
              "  --sklearn-color-unfitted-level-2: #ffe0b3;\n",
              "  --sklearn-color-unfitted-level-3: chocolate;\n",
              "  /* Definition of color scheme for fitted estimators */\n",
              "  --sklearn-color-fitted-level-0: #f0f8ff;\n",
              "  --sklearn-color-fitted-level-1: #d4ebff;\n",
              "  --sklearn-color-fitted-level-2: #b3dbfd;\n",
              "  --sklearn-color-fitted-level-3: cornflowerblue;\n",
              "\n",
              "  /* Specific color for light theme */\n",
              "  --sklearn-color-text-on-default-background: var(--sg-text-color, var(--theme-code-foreground, var(--jp-content-font-color1, black)));\n",
              "  --sklearn-color-background: var(--sg-background-color, var(--theme-background, var(--jp-layout-color0, white)));\n",
              "  --sklearn-color-border-box: var(--sg-text-color, var(--theme-code-foreground, var(--jp-content-font-color1, black)));\n",
              "  --sklearn-color-icon: #696969;\n",
              "\n",
              "  @media (prefers-color-scheme: dark) {\n",
              "    /* Redefinition of color scheme for dark theme */\n",
              "    --sklearn-color-text-on-default-background: var(--sg-text-color, var(--theme-code-foreground, var(--jp-content-font-color1, white)));\n",
              "    --sklearn-color-background: var(--sg-background-color, var(--theme-background, var(--jp-layout-color0, #111)));\n",
              "    --sklearn-color-border-box: var(--sg-text-color, var(--theme-code-foreground, var(--jp-content-font-color1, white)));\n",
              "    --sklearn-color-icon: #878787;\n",
              "  }\n",
              "}\n",
              "\n",
              "#sk-container-id-2 {\n",
              "  color: var(--sklearn-color-text);\n",
              "}\n",
              "\n",
              "#sk-container-id-2 pre {\n",
              "  padding: 0;\n",
              "}\n",
              "\n",
              "#sk-container-id-2 input.sk-hidden--visually {\n",
              "  border: 0;\n",
              "  clip: rect(1px 1px 1px 1px);\n",
              "  clip: rect(1px, 1px, 1px, 1px);\n",
              "  height: 1px;\n",
              "  margin: -1px;\n",
              "  overflow: hidden;\n",
              "  padding: 0;\n",
              "  position: absolute;\n",
              "  width: 1px;\n",
              "}\n",
              "\n",
              "#sk-container-id-2 div.sk-dashed-wrapped {\n",
              "  border: 1px dashed var(--sklearn-color-line);\n",
              "  margin: 0 0.4em 0.5em 0.4em;\n",
              "  box-sizing: border-box;\n",
              "  padding-bottom: 0.4em;\n",
              "  background-color: var(--sklearn-color-background);\n",
              "}\n",
              "\n",
              "#sk-container-id-2 div.sk-container {\n",
              "  /* jupyter's `normalize.less` sets `[hidden] { display: none; }`\n",
              "     but bootstrap.min.css set `[hidden] { display: none !important; }`\n",
              "     so we also need the `!important` here to be able to override the\n",
              "     default hidden behavior on the sphinx rendered scikit-learn.org.\n",
              "     See: https://github.com/scikit-learn/scikit-learn/issues/21755 */\n",
              "  display: inline-block !important;\n",
              "  position: relative;\n",
              "}\n",
              "\n",
              "#sk-container-id-2 div.sk-text-repr-fallback {\n",
              "  display: none;\n",
              "}\n",
              "\n",
              "div.sk-parallel-item,\n",
              "div.sk-serial,\n",
              "div.sk-item {\n",
              "  /* draw centered vertical line to link estimators */\n",
              "  background-image: linear-gradient(var(--sklearn-color-text-on-default-background), var(--sklearn-color-text-on-default-background));\n",
              "  background-size: 2px 100%;\n",
              "  background-repeat: no-repeat;\n",
              "  background-position: center center;\n",
              "}\n",
              "\n",
              "/* Parallel-specific style estimator block */\n",
              "\n",
              "#sk-container-id-2 div.sk-parallel-item::after {\n",
              "  content: \"\";\n",
              "  width: 100%;\n",
              "  border-bottom: 2px solid var(--sklearn-color-text-on-default-background);\n",
              "  flex-grow: 1;\n",
              "}\n",
              "\n",
              "#sk-container-id-2 div.sk-parallel {\n",
              "  display: flex;\n",
              "  align-items: stretch;\n",
              "  justify-content: center;\n",
              "  background-color: var(--sklearn-color-background);\n",
              "  position: relative;\n",
              "}\n",
              "\n",
              "#sk-container-id-2 div.sk-parallel-item {\n",
              "  display: flex;\n",
              "  flex-direction: column;\n",
              "}\n",
              "\n",
              "#sk-container-id-2 div.sk-parallel-item:first-child::after {\n",
              "  align-self: flex-end;\n",
              "  width: 50%;\n",
              "}\n",
              "\n",
              "#sk-container-id-2 div.sk-parallel-item:last-child::after {\n",
              "  align-self: flex-start;\n",
              "  width: 50%;\n",
              "}\n",
              "\n",
              "#sk-container-id-2 div.sk-parallel-item:only-child::after {\n",
              "  width: 0;\n",
              "}\n",
              "\n",
              "/* Serial-specific style estimator block */\n",
              "\n",
              "#sk-container-id-2 div.sk-serial {\n",
              "  display: flex;\n",
              "  flex-direction: column;\n",
              "  align-items: center;\n",
              "  background-color: var(--sklearn-color-background);\n",
              "  padding-right: 1em;\n",
              "  padding-left: 1em;\n",
              "}\n",
              "\n",
              "\n",
              "/* Toggleable style: style used for estimator/Pipeline/ColumnTransformer box that is\n",
              "clickable and can be expanded/collapsed.\n",
              "- Pipeline and ColumnTransformer use this feature and define the default style\n",
              "- Estimators will overwrite some part of the style using the `sk-estimator` class\n",
              "*/\n",
              "\n",
              "/* Pipeline and ColumnTransformer style (default) */\n",
              "\n",
              "#sk-container-id-2 div.sk-toggleable {\n",
              "  /* Default theme specific background. It is overwritten whether we have a\n",
              "  specific estimator or a Pipeline/ColumnTransformer */\n",
              "  background-color: var(--sklearn-color-background);\n",
              "}\n",
              "\n",
              "/* Toggleable label */\n",
              "#sk-container-id-2 label.sk-toggleable__label {\n",
              "  cursor: pointer;\n",
              "  display: flex;\n",
              "  width: 100%;\n",
              "  margin-bottom: 0;\n",
              "  padding: 0.5em;\n",
              "  box-sizing: border-box;\n",
              "  text-align: center;\n",
              "  align-items: start;\n",
              "  justify-content: space-between;\n",
              "  gap: 0.5em;\n",
              "}\n",
              "\n",
              "#sk-container-id-2 label.sk-toggleable__label .caption {\n",
              "  font-size: 0.6rem;\n",
              "  font-weight: lighter;\n",
              "  color: var(--sklearn-color-text-muted);\n",
              "}\n",
              "\n",
              "#sk-container-id-2 label.sk-toggleable__label-arrow:before {\n",
              "  /* Arrow on the left of the label */\n",
              "  content: \"▸\";\n",
              "  float: left;\n",
              "  margin-right: 0.25em;\n",
              "  color: var(--sklearn-color-icon);\n",
              "}\n",
              "\n",
              "#sk-container-id-2 label.sk-toggleable__label-arrow:hover:before {\n",
              "  color: var(--sklearn-color-text);\n",
              "}\n",
              "\n",
              "/* Toggleable content - dropdown */\n",
              "\n",
              "#sk-container-id-2 div.sk-toggleable__content {\n",
              "  max-height: 0;\n",
              "  max-width: 0;\n",
              "  overflow: hidden;\n",
              "  text-align: left;\n",
              "  /* unfitted */\n",
              "  background-color: var(--sklearn-color-unfitted-level-0);\n",
              "}\n",
              "\n",
              "#sk-container-id-2 div.sk-toggleable__content.fitted {\n",
              "  /* fitted */\n",
              "  background-color: var(--sklearn-color-fitted-level-0);\n",
              "}\n",
              "\n",
              "#sk-container-id-2 div.sk-toggleable__content pre {\n",
              "  margin: 0.2em;\n",
              "  border-radius: 0.25em;\n",
              "  color: var(--sklearn-color-text);\n",
              "  /* unfitted */\n",
              "  background-color: var(--sklearn-color-unfitted-level-0);\n",
              "}\n",
              "\n",
              "#sk-container-id-2 div.sk-toggleable__content.fitted pre {\n",
              "  /* unfitted */\n",
              "  background-color: var(--sklearn-color-fitted-level-0);\n",
              "}\n",
              "\n",
              "#sk-container-id-2 input.sk-toggleable__control:checked~div.sk-toggleable__content {\n",
              "  /* Expand drop-down */\n",
              "  max-height: 200px;\n",
              "  max-width: 100%;\n",
              "  overflow: auto;\n",
              "}\n",
              "\n",
              "#sk-container-id-2 input.sk-toggleable__control:checked~label.sk-toggleable__label-arrow:before {\n",
              "  content: \"▾\";\n",
              "}\n",
              "\n",
              "/* Pipeline/ColumnTransformer-specific style */\n",
              "\n",
              "#sk-container-id-2 div.sk-label input.sk-toggleable__control:checked~label.sk-toggleable__label {\n",
              "  color: var(--sklearn-color-text);\n",
              "  background-color: var(--sklearn-color-unfitted-level-2);\n",
              "}\n",
              "\n",
              "#sk-container-id-2 div.sk-label.fitted input.sk-toggleable__control:checked~label.sk-toggleable__label {\n",
              "  background-color: var(--sklearn-color-fitted-level-2);\n",
              "}\n",
              "\n",
              "/* Estimator-specific style */\n",
              "\n",
              "/* Colorize estimator box */\n",
              "#sk-container-id-2 div.sk-estimator input.sk-toggleable__control:checked~label.sk-toggleable__label {\n",
              "  /* unfitted */\n",
              "  background-color: var(--sklearn-color-unfitted-level-2);\n",
              "}\n",
              "\n",
              "#sk-container-id-2 div.sk-estimator.fitted input.sk-toggleable__control:checked~label.sk-toggleable__label {\n",
              "  /* fitted */\n",
              "  background-color: var(--sklearn-color-fitted-level-2);\n",
              "}\n",
              "\n",
              "#sk-container-id-2 div.sk-label label.sk-toggleable__label,\n",
              "#sk-container-id-2 div.sk-label label {\n",
              "  /* The background is the default theme color */\n",
              "  color: var(--sklearn-color-text-on-default-background);\n",
              "}\n",
              "\n",
              "/* On hover, darken the color of the background */\n",
              "#sk-container-id-2 div.sk-label:hover label.sk-toggleable__label {\n",
              "  color: var(--sklearn-color-text);\n",
              "  background-color: var(--sklearn-color-unfitted-level-2);\n",
              "}\n",
              "\n",
              "/* Label box, darken color on hover, fitted */\n",
              "#sk-container-id-2 div.sk-label.fitted:hover label.sk-toggleable__label.fitted {\n",
              "  color: var(--sklearn-color-text);\n",
              "  background-color: var(--sklearn-color-fitted-level-2);\n",
              "}\n",
              "\n",
              "/* Estimator label */\n",
              "\n",
              "#sk-container-id-2 div.sk-label label {\n",
              "  font-family: monospace;\n",
              "  font-weight: bold;\n",
              "  display: inline-block;\n",
              "  line-height: 1.2em;\n",
              "}\n",
              "\n",
              "#sk-container-id-2 div.sk-label-container {\n",
              "  text-align: center;\n",
              "}\n",
              "\n",
              "/* Estimator-specific */\n",
              "#sk-container-id-2 div.sk-estimator {\n",
              "  font-family: monospace;\n",
              "  border: 1px dotted var(--sklearn-color-border-box);\n",
              "  border-radius: 0.25em;\n",
              "  box-sizing: border-box;\n",
              "  margin-bottom: 0.5em;\n",
              "  /* unfitted */\n",
              "  background-color: var(--sklearn-color-unfitted-level-0);\n",
              "}\n",
              "\n",
              "#sk-container-id-2 div.sk-estimator.fitted {\n",
              "  /* fitted */\n",
              "  background-color: var(--sklearn-color-fitted-level-0);\n",
              "}\n",
              "\n",
              "/* on hover */\n",
              "#sk-container-id-2 div.sk-estimator:hover {\n",
              "  /* unfitted */\n",
              "  background-color: var(--sklearn-color-unfitted-level-2);\n",
              "}\n",
              "\n",
              "#sk-container-id-2 div.sk-estimator.fitted:hover {\n",
              "  /* fitted */\n",
              "  background-color: var(--sklearn-color-fitted-level-2);\n",
              "}\n",
              "\n",
              "/* Specification for estimator info (e.g. \"i\" and \"?\") */\n",
              "\n",
              "/* Common style for \"i\" and \"?\" */\n",
              "\n",
              ".sk-estimator-doc-link,\n",
              "a:link.sk-estimator-doc-link,\n",
              "a:visited.sk-estimator-doc-link {\n",
              "  float: right;\n",
              "  font-size: smaller;\n",
              "  line-height: 1em;\n",
              "  font-family: monospace;\n",
              "  background-color: var(--sklearn-color-background);\n",
              "  border-radius: 1em;\n",
              "  height: 1em;\n",
              "  width: 1em;\n",
              "  text-decoration: none !important;\n",
              "  margin-left: 0.5em;\n",
              "  text-align: center;\n",
              "  /* unfitted */\n",
              "  border: var(--sklearn-color-unfitted-level-1) 1pt solid;\n",
              "  color: var(--sklearn-color-unfitted-level-1);\n",
              "}\n",
              "\n",
              ".sk-estimator-doc-link.fitted,\n",
              "a:link.sk-estimator-doc-link.fitted,\n",
              "a:visited.sk-estimator-doc-link.fitted {\n",
              "  /* fitted */\n",
              "  border: var(--sklearn-color-fitted-level-1) 1pt solid;\n",
              "  color: var(--sklearn-color-fitted-level-1);\n",
              "}\n",
              "\n",
              "/* On hover */\n",
              "div.sk-estimator:hover .sk-estimator-doc-link:hover,\n",
              ".sk-estimator-doc-link:hover,\n",
              "div.sk-label-container:hover .sk-estimator-doc-link:hover,\n",
              ".sk-estimator-doc-link:hover {\n",
              "  /* unfitted */\n",
              "  background-color: var(--sklearn-color-unfitted-level-3);\n",
              "  color: var(--sklearn-color-background);\n",
              "  text-decoration: none;\n",
              "}\n",
              "\n",
              "div.sk-estimator.fitted:hover .sk-estimator-doc-link.fitted:hover,\n",
              ".sk-estimator-doc-link.fitted:hover,\n",
              "div.sk-label-container:hover .sk-estimator-doc-link.fitted:hover,\n",
              ".sk-estimator-doc-link.fitted:hover {\n",
              "  /* fitted */\n",
              "  background-color: var(--sklearn-color-fitted-level-3);\n",
              "  color: var(--sklearn-color-background);\n",
              "  text-decoration: none;\n",
              "}\n",
              "\n",
              "/* Span, style for the box shown on hovering the info icon */\n",
              ".sk-estimator-doc-link span {\n",
              "  display: none;\n",
              "  z-index: 9999;\n",
              "  position: relative;\n",
              "  font-weight: normal;\n",
              "  right: .2ex;\n",
              "  padding: .5ex;\n",
              "  margin: .5ex;\n",
              "  width: min-content;\n",
              "  min-width: 20ex;\n",
              "  max-width: 50ex;\n",
              "  color: var(--sklearn-color-text);\n",
              "  box-shadow: 2pt 2pt 4pt #999;\n",
              "  /* unfitted */\n",
              "  background: var(--sklearn-color-unfitted-level-0);\n",
              "  border: .5pt solid var(--sklearn-color-unfitted-level-3);\n",
              "}\n",
              "\n",
              ".sk-estimator-doc-link.fitted span {\n",
              "  /* fitted */\n",
              "  background: var(--sklearn-color-fitted-level-0);\n",
              "  border: var(--sklearn-color-fitted-level-3);\n",
              "}\n",
              "\n",
              ".sk-estimator-doc-link:hover span {\n",
              "  display: block;\n",
              "}\n",
              "\n",
              "/* \"?\"-specific style due to the `<a>` HTML tag */\n",
              "\n",
              "#sk-container-id-2 a.estimator_doc_link {\n",
              "  float: right;\n",
              "  font-size: 1rem;\n",
              "  line-height: 1em;\n",
              "  font-family: monospace;\n",
              "  background-color: var(--sklearn-color-background);\n",
              "  border-radius: 1rem;\n",
              "  height: 1rem;\n",
              "  width: 1rem;\n",
              "  text-decoration: none;\n",
              "  /* unfitted */\n",
              "  color: var(--sklearn-color-unfitted-level-1);\n",
              "  border: var(--sklearn-color-unfitted-level-1) 1pt solid;\n",
              "}\n",
              "\n",
              "#sk-container-id-2 a.estimator_doc_link.fitted {\n",
              "  /* fitted */\n",
              "  border: var(--sklearn-color-fitted-level-1) 1pt solid;\n",
              "  color: var(--sklearn-color-fitted-level-1);\n",
              "}\n",
              "\n",
              "/* On hover */\n",
              "#sk-container-id-2 a.estimator_doc_link:hover {\n",
              "  /* unfitted */\n",
              "  background-color: var(--sklearn-color-unfitted-level-3);\n",
              "  color: var(--sklearn-color-background);\n",
              "  text-decoration: none;\n",
              "}\n",
              "\n",
              "#sk-container-id-2 a.estimator_doc_link.fitted:hover {\n",
              "  /* fitted */\n",
              "  background-color: var(--sklearn-color-fitted-level-3);\n",
              "}\n",
              "</style><div id=\"sk-container-id-2\" class=\"sk-top-container\"><div class=\"sk-text-repr-fallback\"><pre>LogisticRegression()</pre><b>In a Jupyter environment, please rerun this cell to show the HTML representation or trust the notebook. <br />On GitHub, the HTML representation is unable to render, please try loading this page with nbviewer.org.</b></div><div class=\"sk-container\" hidden><div class=\"sk-item\"><div class=\"sk-estimator fitted sk-toggleable\"><input class=\"sk-toggleable__control sk-hidden--visually\" id=\"sk-estimator-id-2\" type=\"checkbox\" checked><label for=\"sk-estimator-id-2\" class=\"sk-toggleable__label fitted sk-toggleable__label-arrow\"><div><div>LogisticRegression</div></div><div><a class=\"sk-estimator-doc-link fitted\" rel=\"noreferrer\" target=\"_blank\" href=\"https://scikit-learn.org/1.6/modules/generated/sklearn.linear_model.LogisticRegression.html\">?<span>Documentation for LogisticRegression</span></a><span class=\"sk-estimator-doc-link fitted\">i<span>Fitted</span></span></div></label><div class=\"sk-toggleable__content fitted\"><pre>LogisticRegression()</pre></div> </div></div></div></div>"
            ]
          },
          "metadata": {},
          "execution_count": 30
        }
      ]
    },
    {
      "cell_type": "code",
      "source": [
        "model.coef_"
      ],
      "metadata": {
        "colab": {
          "base_uri": "https://localhost:8080/"
        },
        "id": "GLKUGRByTJ9V",
        "outputId": "105c345c-c55a-4110-ee54-865342566e4b"
      },
      "execution_count": 32,
      "outputs": [
        {
          "output_type": "execute_result",
          "data": {
            "text/plain": [
              "array([[ 0.34150793,  1.09465258, -0.19864724,  0.03536548, -0.17284544,\n",
              "         0.76347007,  0.32366957,  0.17627796]])"
            ]
          },
          "metadata": {},
          "execution_count": 32
        }
      ]
    },
    {
      "cell_type": "code",
      "source": [
        "y_pred = model.predict(X_test)\n",
        "y_prob = model.predict_proba(X_test)[:, 1]  # Probabilidades clase 1\n",
        "\n",
        "# Matriz de confusión\n",
        "cm = confusion_matrix(y_test, y_pred)\n",
        "sns.heatmap(cm, annot=True, fmt='d', cmap='Blues')\n",
        "plt.xlabel('Predicho')\n",
        "plt.ylabel('Real')\n",
        "plt.title('Matriz de Confusión')\n",
        "plt.show()\n",
        "\n",
        "# Reporte de clasificación\n",
        "print(classification_report(y_test, y_pred, digits=3))"
      ],
      "metadata": {
        "colab": {
          "base_uri": "https://localhost:8080/",
          "height": 631
        },
        "id": "UsUvEGS5S6jF",
        "outputId": "c9704eba-01e8-4dfd-b754-ea206fb5b7c6"
      },
      "execution_count": 31,
      "outputs": [
        {
          "output_type": "display_data",
          "data": {
            "text/plain": [
              "<Figure size 640x480 with 2 Axes>"
            ],
            "image/png": "[encoded data removed]"
          },
          "metadata": {}
        },
        {
          "output_type": "stream",
          "name": "stdout",
          "text": [
            "              precision    recall  f1-score   support\n",
            "\n",
            "         neg      0.798     0.906     0.849        96\n",
            "         pos      0.800     0.621     0.699        58\n",
            "\n",
            "    accuracy                          0.799       154\n",
            "   macro avg      0.799     0.763     0.774       154\n",
            "weighted avg      0.799     0.799     0.792       154\n",
            "\n"
          ]
        }
      ]
    }
  ]
}
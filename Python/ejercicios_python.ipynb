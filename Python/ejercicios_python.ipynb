{
 "cells": [
  {
   "cell_type": "markdown",
   "id": "68482a50",
   "metadata": {},
   "source": [
    "# **Algunos problemas de programación**"
   ]
  },
  {
   "cell_type": "markdown",
   "id": "aee1d33a",
   "metadata": {},
   "source": [
    "1. Crea una lista de los cuadrados de los números del 1 al 20 que sean pares"
   ]
  },
  {
   "cell_type": "code",
   "execution_count": 2,
   "id": "9c32ba0a",
   "metadata": {},
   "outputs": [
    {
     "data": {
      "text/plain": [
       "[4, 16, 36, 64, 100, 144, 196, 256, 324, 400]"
      ]
     },
     "execution_count": 2,
     "metadata": {},
     "output_type": "execute_result"
    }
   ],
   "source": [
    "# Utilizamos la compresión de listas \n",
    "# \"Para cada número par en el rango del 1 al 20, elevalo al cuadrado\"\n",
    "[numero**2 for numero in range(1,21) if(numero%2 == 0)]"
   ]
  },
  {
   "cell_type": "markdown",
   "id": "72a40b1d",
   "metadata": {},
   "source": [
    "2. Dada una lista de palabras, crea una nueva lista solo con las que tienen más de 4 letras."
   ]
  },
  {
   "cell_type": "code",
   "execution_count": 7,
   "id": "43ba06d1",
   "metadata": {},
   "outputs": [
    {
     "data": {
      "text/plain": [
       "['Desoxirribonucleico', 'Estacionamiento', 'Axioma']"
      ]
     },
     "execution_count": 7,
     "metadata": {},
     "output_type": "execute_result"
    }
   ],
   "source": [
    "# Lista de ejemplo\n",
    "lista_palabras = [\"Hola\",\"Rio\", \"Desoxirribonucleico\", \"Estacionamiento\", \"Axioma\", \"Oro\"]\n",
    "# \"Toda palabra en lista_palabras tal que la longitud de la cadena sea mayor que 4\"\n",
    "[palabra for palabra in lista_palabras if(len(palabra)>4)]"
   ]
  },
  {
   "cell_type": "markdown",
   "id": "048aaf42",
   "metadata": {},
   "source": [
    "3. Dada una cadena que contiene letras y números, extrae todos los dígitos como enteros."
   ]
  },
  {
   "cell_type": "code",
   "execution_count": 1,
   "id": "75df93c4",
   "metadata": {},
   "outputs": [],
   "source": [
    "lista_auxiliar = [str(i) for i in range(10)]"
   ]
  },
  {
   "cell_type": "code",
   "execution_count": 4,
   "id": "fd5ffeb5",
   "metadata": {},
   "outputs": [
    {
     "data": {
      "text/plain": [
       "[2, 3, 4, 3, 4, 5, 6, 3, 2, 5]"
      ]
     },
     "execution_count": 4,
     "metadata": {},
     "output_type": "execute_result"
    }
   ],
   "source": [
    "# Primera solución\n",
    "\n",
    "lista = 'iu234ny3i4n5o6ka3i2k5'\n",
    "[int(caracter) for caracter in lista if(caracter in lista_auxiliar)]"
   ]
  },
  {
   "cell_type": "code",
   "execution_count": 5,
   "id": "a86741ad",
   "metadata": {},
   "outputs": [
    {
     "data": {
      "text/plain": [
       "[2, 3, 4, 3, 4, 5, 6, 3, 2, 5]"
      ]
     },
     "execution_count": 5,
     "metadata": {},
     "output_type": "execute_result"
    }
   ],
   "source": [
    "# Segunda solución\n",
    "[int(caracter) for caracter in lista if(caracter.isdigit())]"
   ]
  },
  {
   "cell_type": "markdown",
   "id": "9a95240d",
   "metadata": {},
   "source": [
    "4. Usa map() y una función lambda para obtener la longitud de cada palabra en la lista."
   ]
  },
  {
   "cell_type": "code",
   "execution_count": 9,
   "id": "9c92197d",
   "metadata": {},
   "outputs": [
    {
     "data": {
      "text/plain": [
       "[4, 3, 19, 15, 6, 3]"
      ]
     },
     "execution_count": 9,
     "metadata": {},
     "output_type": "execute_result"
    }
   ],
   "source": [
    "# Agarramos lista_palabras como variable a probar\n",
    "list(map(lambda x: len(x), lista_palabras))"
   ]
  },
  {
   "cell_type": "markdown",
   "id": "b270f278",
   "metadata": {},
   "source": [
    "5. Dada una lista de números, usa map() con una lambda para multiplicar cada uno por 3."
   ]
  },
  {
   "cell_type": "code",
   "execution_count": 10,
   "id": "cc0903fb",
   "metadata": {},
   "outputs": [
    {
     "data": {
      "text/plain": [
       "[3, 21, 24, 27]"
      ]
     },
     "execution_count": 10,
     "metadata": {},
     "output_type": "execute_result"
    }
   ],
   "source": [
    "numeros = [1,7,8,9]\n",
    "list(map(lambda x: 3*x, numeros))"
   ]
  },
  {
   "cell_type": "markdown",
   "id": "594f9524",
   "metadata": {},
   "source": [
    "##  **LISTAS**\n",
    "\n",
    "1. **Eliminar duplicados**\n",
    "   Escribe una función que elimine los elementos duplicados de una lista, manteniendo el orden original.\n"
   ]
  },
  {
   "cell_type": "code",
   "execution_count": 38,
   "id": "8b67e3d8",
   "metadata": {},
   "outputs": [],
   "source": [
    "def eliminar_duplicados(lista):\n",
    "    longitud_actual = len(lista)\n",
    "    i = 0\n",
    "\n",
    "    while(i < longitud_actual):\n",
    "        if(lista[i] in lista[0:i]):\n",
    "            del lista[i]\n",
    "            longitud_actual -= 1\n",
    "        else:\n",
    "            i += 1\n",
    "    \n",
    "    return lista"
   ]
  },
  {
   "cell_type": "code",
   "execution_count": 41,
   "id": "e027875d",
   "metadata": {},
   "outputs": [
    {
     "data": {
      "text/plain": [
       "[1, 'a', 'c', 'b', 2, 3, 5, 'h']"
      ]
     },
     "execution_count": 41,
     "metadata": {},
     "output_type": "execute_result"
    }
   ],
   "source": [
    "eliminar_duplicados([1,1,'a','c','a','b', 2,1, 3, 5, 'h', 'a', 2])"
   ]
  },
  {
   "cell_type": "markdown",
   "id": "dc5130d7",
   "metadata": {},
   "source": [
    "2. **Suma de pares**\n",
    "   Dada una lista de enteros, devuelve todas las parejas de números cuya suma sea igual a un número objetivo.\n"
   ]
  },
  {
   "cell_type": "code",
   "execution_count": 47,
   "id": "be2fc0c7",
   "metadata": {},
   "outputs": [],
   "source": [
    "def suma_pares(lista, objetivo):\n",
    "\n",
    "    pares = []\n",
    "    \n",
    "    for i in range(len(lista)):\n",
    "        for j in range(1, len(lista) - i):\n",
    "            if((lista[i] + lista[i+j]) == objetivo):\n",
    "                pares.append([lista[i], lista[i+j]])\n",
    "    \n",
    "    return pares"
   ]
  },
  {
   "cell_type": "code",
   "execution_count": 49,
   "id": "b0b205f5",
   "metadata": {},
   "outputs": [
    {
     "data": {
      "text/plain": [
       "[[2, 8],\n",
       " [6, 4],\n",
       " [6, 4],\n",
       " [6, 4],\n",
       " [6, 4],\n",
       " [2, 8],\n",
       " [5, 5],\n",
       " [7, 3],\n",
       " [7, 3],\n",
       " [8, 2],\n",
       " [8, 2]]"
      ]
     },
     "execution_count": 49,
     "metadata": {},
     "output_type": "execute_result"
    }
   ],
   "source": [
    "suma_pares([1,2,6,4,2,5,7,3,5,8,2,4,1,4,55,4,2,3], 10)"
   ]
  },
  {
   "cell_type": "markdown",
   "id": "1ca2b6cd",
   "metadata": {},
   "source": [
    "\n",
    "3. **Rotar lista**\n",
    "   Rota una lista $n$ posiciones a la derecha."
   ]
  },
  {
   "cell_type": "code",
   "execution_count": 62,
   "id": "07eba431",
   "metadata": {},
   "outputs": [],
   "source": [
    "def rotar_lista(lista, num_lugares):\n",
    "    \n",
    "    num_lugares = num_lugares % len(lista)\n",
    "\n",
    "    return lista[-num_lugares:] + lista[0:-num_lugares]"
   ]
  },
  {
   "cell_type": "code",
   "execution_count": 65,
   "id": "151d34b0",
   "metadata": {},
   "outputs": [
    {
     "data": {
      "text/plain": [
       "[5, 6, 7, 8, 9, 1, 2, 3, 4]"
      ]
     },
     "execution_count": 65,
     "metadata": {},
     "output_type": "execute_result"
    }
   ],
   "source": [
    "rotar_lista([1,2,3,4,5,6,7,8,9], 5)"
   ]
  },
  {
   "cell_type": "markdown",
   "id": "f047bf71",
   "metadata": {},
   "source": [
    "4. **Frecuencia de elementos**\n",
    "   Cuenta cuántas veces aparece cada elemento en una lista."
   ]
  },
  {
   "cell_type": "code",
   "execution_count": null,
   "id": "a92ad95b",
   "metadata": {},
   "outputs": [],
   "source": [
    "# Con diccionarios (una forma relativamente sencilla)\n",
    "def frecuencia_elementos_diccionario(lista):\n",
    "    diccionario_frecuencia = {}\n",
    "\n",
    "    for elemento in lista:\n",
    "        if elemento in diccionario_frecuencia:\n",
    "            diccionario_frecuencia[elemento] += 1\n",
    "        else:\n",
    "            diccionario_frecuencia[elemento] = 1\n",
    "    \n",
    "    return diccionario_frecuencia\n",
    "\n",
    "# Otra forma utilizando exclusivamente listas \n",
    "\n",
    "def frecuencia_elementos_listas(lista):\n",
    "    frecuencias = []\n",
    "\n",
    "    for elemento in lista:\n",
    "        encontrado = False\n",
    "        \n",
    "        for par_frecuencia in frecuencias:\n",
    "            if(elemento == par_frecuencia[0]):\n",
    "                par_frecuencia[1] += 1\n",
    "                encontrado = True\n",
    "\n",
    "        if(not encontrado):\n",
    "            frecuencias.append([elemento, 1])\n",
    "    \n",
    "    return frecuencias"
   ]
  },
  {
   "cell_type": "code",
   "execution_count": 76,
   "id": "1aed38fe",
   "metadata": {},
   "outputs": [
    {
     "data": {
      "text/plain": [
       "{1: 3, 2: 2, 3: 1, 5: 2, 7: 1}"
      ]
     },
     "execution_count": 76,
     "metadata": {},
     "output_type": "execute_result"
    }
   ],
   "source": [
    "frecuencia_elementos_diccionario([1,1,1,2,3,5,2,7,5])"
   ]
  },
  {
   "cell_type": "code",
   "execution_count": 77,
   "id": "ba2effe0",
   "metadata": {},
   "outputs": [
    {
     "data": {
      "text/plain": [
       "[[1, 3], [2, 2], [3, 1], [5, 2], [7, 1]]"
      ]
     },
     "execution_count": 77,
     "metadata": {},
     "output_type": "execute_result"
    }
   ],
   "source": [
    "frecuencia_elementos_listas([1,1,1,2,3,5,2,7,5])"
   ]
  },
  {
   "cell_type": "markdown",
   "id": "91f8110c",
   "metadata": {},
   "source": [
    "\n",
    "\n",
    "##  **STRINGS**\n",
    "\n",
    "1. **Palíndromo**\n",
    "   Verifica si un string es un palíndromo (se lee igual al derecho y al revés)."
   ]
  },
  {
   "cell_type": "code",
   "execution_count": 94,
   "id": "ad81f519",
   "metadata": {},
   "outputs": [],
   "source": [
    "def is_palindromo(cadena_caracteres):\n",
    "    return cadena_caracteres[-1::-1] == cadena_caracteres\n"
   ]
  },
  {
   "cell_type": "code",
   "execution_count": 99,
   "id": "4f547b0b",
   "metadata": {},
   "outputs": [
    {
     "data": {
      "text/plain": [
       "True"
      ]
     },
     "execution_count": 99,
     "metadata": {},
     "output_type": "execute_result"
    }
   ],
   "source": [
    "is_palindromo('abcdcba')"
   ]
  },
  {
   "cell_type": "markdown",
   "id": "bc7bbd42",
   "metadata": {},
   "source": [
    "\n",
    "\n",
    "2. **Anagrama**\n",
    "   Verifica si dos strings son anagramas (mismas letras, diferente orden).\n",
    "\n",
    "3. **Primera letra que no se repite**\n",
    "   Encuentra la primera letra que no se repite en un string.\n"
   ]
  },
  {
   "cell_type": "markdown",
   "id": "8d12c7f4",
   "metadata": {},
   "source": [
    "\n",
    "\n",
    "##  **DICCIONARIOS**\n",
    "\n",
    "1. **Contar palabras**\n",
    "   Dado un string, cuenta cuántas veces aparece cada palabra.\n",
    "\n",
    "2. **Unir diccionarios**\n",
    "   Une dos diccionarios sumando los valores de claves repetidas.\n"
   ]
  },
  {
   "cell_type": "code",
   "execution_count": null,
   "id": "e517a9c9-dd77-4169-9dfc-51b64fc81002",
   "metadata": {},
   "outputs": [],
   "source": []
  }
 ],
 "metadata": {
  "kernelspec": {
   "display_name": "Python 3",
   "language": "python",
   "name": "python3"
  },
  "language_info": {
   "codemirror_mode": {
    "name": "ipython",
    "version": 3
   },
   "file_extension": ".py",
   "mimetype": "text/x-python",
   "name": "python",
   "nbconvert_exporter": "python",
   "pygments_lexer": "ipython3",
   "version": "3.12.1"
  }
 },
 "nbformat": 4,
 "nbformat_minor": 5
}

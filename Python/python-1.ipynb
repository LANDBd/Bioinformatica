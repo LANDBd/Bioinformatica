{
  "nbformat": 4,
  "nbformat_minor": 0,
  "metadata": {
    "colab": {
      "provenance": []
    },
    "kernelspec": {
      "name": "python3",
      "display_name": "Python 3"
    },
    "language_info": {
      "name": "python"
    }
  },
  "cells": [
    {
      "cell_type": "markdown",
      "source": [
        "# **Conceptos básicos de Python**"
      ],
      "metadata": {
        "id": "4ptNp4fniEmQ"
      }
    },
    {
      "cell_type": "markdown",
      "source": [
        "### Asignación de variables, operaciones básicas, tipado dinámico"
      ],
      "metadata": {
        "id": "MPV_HHSh4hhy"
      }
    },
    {
      "cell_type": "code",
      "source": [
        "import this"
      ],
      "metadata": {
        "colab": {
          "base_uri": "https://localhost:8080/"
        },
        "id": "Yf6oxQOO4432",
        "outputId": "479cba16-af07-4802-d4af-c8e283cdeeb9"
      },
      "execution_count": null,
      "outputs": [
        {
          "output_type": "stream",
          "name": "stdout",
          "text": [
            "The Zen of Python, by Tim Peters\n",
            "\n",
            "Beautiful is better than ugly.\n",
            "Explicit is better than implicit.\n",
            "Simple is better than complex.\n",
            "Complex is better than complicated.\n",
            "Flat is better than nested.\n",
            "Sparse is better than dense.\n",
            "Readability counts.\n",
            "Special cases aren't special enough to break the rules.\n",
            "Although practicality beats purity.\n",
            "Errors should never pass silently.\n",
            "Unless explicitly silenced.\n",
            "In the face of ambiguity, refuse the temptation to guess.\n",
            "There should be one-- and preferably only one --obvious way to do it.\n",
            "Although that way may not be obvious at first unless you're Dutch.\n",
            "Now is better than never.\n",
            "Although never is often better than *right* now.\n",
            "If the implementation is hard to explain, it's a bad idea.\n",
            "If the implementation is easy to explain, it may be a good idea.\n",
            "Namespaces are one honking great idea -- let's do more of those!\n"
          ]
        }
      ]
    },
    {
      "cell_type": "code",
      "source": [
        "!python -V"
      ],
      "metadata": {
        "colab": {
          "base_uri": "https://localhost:8080/"
        },
        "id": "xeirR0qyBwIQ",
        "outputId": "73f5294e-b3fd-46e6-d8d4-28f710e47484"
      },
      "execution_count": null,
      "outputs": [
        {
          "output_type": "stream",
          "name": "stdout",
          "text": [
            "Python 3.12.11\n"
          ]
        }
      ]
    },
    {
      "cell_type": "code",
      "execution_count": null,
      "metadata": {
        "colab": {
          "base_uri": "https://localhost:8080/"
        },
        "id": "5-LLA8UrDgo-",
        "outputId": "47c796ce-92ac-4f5c-e2ba-180d071d8bc7"
      },
      "outputs": [
        {
          "output_type": "stream",
          "name": "stdout",
          "text": [
            "Hola, me llamo Andres tengo 30 años\n"
          ]
        }
      ],
      "source": [
        "# Asignación de valores a variables\n",
        "nombre = \"Andres\"\n",
        "edad = 24\n",
        "\n",
        "\n",
        "# Imprimir los valores\n",
        "print(\"Hola, me llamo\", nombre, \"tengo\", edad, \"años\")\n"
      ]
    },
    {
      "cell_type": "code",
      "source": [
        "# Asignación básica\n",
        "x = 10\n",
        "nombre = \"Ana\"\n",
        "pi = 3.1416\n",
        "\n",
        "# Múltiples asignaciones en una línea\n",
        "a, b, c = 1, 2, 3\n",
        "\n",
        "# Asignar el mismo valor a varias variables\n",
        "x = y = z = 0"
      ],
      "metadata": {
        "id": "v05u5zwZwMF8"
      },
      "execution_count": null,
      "outputs": []
    },
    {
      "cell_type": "code",
      "source": [
        "print(\"Asignación de variables:\")\n",
        "print(\"x:\", x, \"nombre:\", nombre, \"pi:\", pi)\n",
        "print(\"a:\", a, \"b:\", b, \"c:\", c)\n",
        "print(\"x, y, z:\", x, y, z)\n",
        "print(\"-\" * 40)"
      ],
      "metadata": {
        "id": "a96P85ILwUVc"
      },
      "execution_count": null,
      "outputs": []
    },
    {
      "cell_type": "markdown",
      "source": [
        "### Operaciones básicas"
      ],
      "metadata": {
        "id": "gl2mid0hso04"
      }
    },
    {
      "cell_type": "code",
      "source": [
        "1 + 5"
      ],
      "metadata": {
        "colab": {
          "base_uri": "https://localhost:8080/"
        },
        "id": "qVU9-8REsoit",
        "outputId": "e43c0555-078b-45a4-b108-f52f715a452b"
      },
      "execution_count": null,
      "outputs": [
        {
          "output_type": "execute_result",
          "data": {
            "text/plain": [
              "6"
            ]
          },
          "metadata": {},
          "execution_count": 1
        }
      ]
    },
    {
      "cell_type": "code",
      "source": [
        "1 - 5"
      ],
      "metadata": {
        "colab": {
          "base_uri": "https://localhost:8080/"
        },
        "id": "F6gGuSmjszpC",
        "outputId": "6945f453-5de1-4eb4-e95b-d75709b8f78f"
      },
      "execution_count": null,
      "outputs": [
        {
          "output_type": "execute_result",
          "data": {
            "text/plain": [
              "-4"
            ]
          },
          "metadata": {},
          "execution_count": 2
        }
      ]
    },
    {
      "cell_type": "code",
      "source": [
        "5*2"
      ],
      "metadata": {
        "colab": {
          "base_uri": "https://localhost:8080/"
        },
        "id": "3HFfN4t4s17f",
        "outputId": "3ab09662-7d47-4771-a097-b8aae0d68ce7"
      },
      "execution_count": null,
      "outputs": [
        {
          "output_type": "execute_result",
          "data": {
            "text/plain": [
              "10"
            ]
          },
          "metadata": {},
          "execution_count": 3
        }
      ]
    },
    {
      "cell_type": "code",
      "source": [
        "5**2"
      ],
      "metadata": {
        "colab": {
          "base_uri": "https://localhost:8080/"
        },
        "id": "fGXO5Vzis5Fo",
        "outputId": "de4639e8-78c4-46db-f3a9-d9dd67db5be2"
      },
      "execution_count": null,
      "outputs": [
        {
          "output_type": "execute_result",
          "data": {
            "text/plain": [
              "25"
            ]
          },
          "metadata": {},
          "execution_count": 4
        }
      ]
    },
    {
      "cell_type": "code",
      "source": [
        "1/3"
      ],
      "metadata": {
        "colab": {
          "base_uri": "https://localhost:8080/"
        },
        "id": "4aq-tBLUs6rA",
        "outputId": "edbbc940-fdd3-4fef-e28f-fb5b2db98879"
      },
      "execution_count": null,
      "outputs": [
        {
          "output_type": "execute_result",
          "data": {
            "text/plain": [
              "0.3333333333333333"
            ]
          },
          "metadata": {},
          "execution_count": 8
        }
      ]
    },
    {
      "cell_type": "code",
      "source": [
        "2//5"
      ],
      "metadata": {
        "colab": {
          "base_uri": "https://localhost:8080/"
        },
        "id": "A8iFG4E3s8q3",
        "outputId": "a4683e84-8e53-43ad-eda4-6b41304c046c"
      },
      "execution_count": null,
      "outputs": [
        {
          "output_type": "execute_result",
          "data": {
            "text/plain": [
              "0"
            ]
          },
          "metadata": {},
          "execution_count": 6
        }
      ]
    },
    {
      "cell_type": "code",
      "source": [
        "7%5"
      ],
      "metadata": {
        "colab": {
          "base_uri": "https://localhost:8080/"
        },
        "id": "H4SWHAzqs9yg",
        "outputId": "e1c1c287-07af-4735-fee5-5386b04f4d7b"
      },
      "execution_count": null,
      "outputs": [
        {
          "output_type": "execute_result",
          "data": {
            "text/plain": [
              "2"
            ]
          },
          "metadata": {},
          "execution_count": 7
        }
      ]
    },
    {
      "cell_type": "markdown",
      "source": [
        "### Operadores booleanos"
      ],
      "metadata": {
        "id": "ZLsmkttptGPv"
      }
    },
    {
      "cell_type": "code",
      "source": [
        "variable_1 = True\n",
        "variable_2 = True"
      ],
      "metadata": {
        "id": "fiWYRvz4tH-5"
      },
      "execution_count": null,
      "outputs": []
    },
    {
      "cell_type": "code",
      "source": [
        "variable_1 == variable_2"
      ],
      "metadata": {
        "colab": {
          "base_uri": "https://localhost:8080/"
        },
        "id": "Fptkm6-LtWVf",
        "outputId": "a79b1d35-7786-4b18-d452-3be769c31f75"
      },
      "execution_count": null,
      "outputs": [
        {
          "output_type": "execute_result",
          "data": {
            "text/plain": [
              "True"
            ]
          },
          "metadata": {},
          "execution_count": 17
        }
      ]
    },
    {
      "cell_type": "code",
      "source": [
        "variable_1 is variable_2"
      ],
      "metadata": {
        "colab": {
          "base_uri": "https://localhost:8080/"
        },
        "id": "d0EXDCTGtl8g",
        "outputId": "3e6335e0-f537-4e85-f70f-db58d97709a1"
      },
      "execution_count": null,
      "outputs": [
        {
          "output_type": "execute_result",
          "data": {
            "text/plain": [
              "False"
            ]
          },
          "metadata": {},
          "execution_count": 20
        }
      ]
    },
    {
      "cell_type": "code",
      "source": [
        "3 < 5"
      ],
      "metadata": {
        "colab": {
          "base_uri": "https://localhost:8080/"
        },
        "id": "78ZAhTqGt18f",
        "outputId": "196a6dfc-bf22-4d0a-9f4e-2dfe894a83dd"
      },
      "execution_count": null,
      "outputs": [
        {
          "output_type": "execute_result",
          "data": {
            "text/plain": [
              "True"
            ]
          },
          "metadata": {},
          "execution_count": 26
        }
      ]
    },
    {
      "cell_type": "code",
      "source": [
        "3 > 5"
      ],
      "metadata": {
        "colab": {
          "base_uri": "https://localhost:8080/"
        },
        "id": "34okPX7LyGIc",
        "outputId": "c541dea2-0d18-4517-ed24-e56c2fc82dc9"
      },
      "execution_count": null,
      "outputs": [
        {
          "output_type": "execute_result",
          "data": {
            "text/plain": [
              "False"
            ]
          },
          "metadata": {},
          "execution_count": 27
        }
      ]
    },
    {
      "cell_type": "code",
      "source": [
        "# Negacion\n",
        "not variable_1"
      ],
      "metadata": {
        "colab": {
          "base_uri": "https://localhost:8080/"
        },
        "id": "EH8u3ADrtLQQ",
        "outputId": "a832f5d9-c9f2-46fa-8d27-baba9b2d6feb"
      },
      "execution_count": null,
      "outputs": [
        {
          "output_type": "execute_result",
          "data": {
            "text/plain": [
              "False"
            ]
          },
          "metadata": {},
          "execution_count": 28
        }
      ]
    },
    {
      "cell_type": "code",
      "source": [
        "variable_1 or variable_2"
      ],
      "metadata": {
        "colab": {
          "base_uri": "https://localhost:8080/"
        },
        "id": "pujwpwRztNPA",
        "outputId": "6d254477-4412-4223-d60e-3b05e9e851dd"
      },
      "execution_count": null,
      "outputs": [
        {
          "output_type": "execute_result",
          "data": {
            "text/plain": [
              "True"
            ]
          },
          "metadata": {},
          "execution_count": 34
        }
      ]
    },
    {
      "cell_type": "code",
      "source": [
        "variable_1 and variable_2"
      ],
      "metadata": {
        "colab": {
          "base_uri": "https://localhost:8080/",
          "height": 141
        },
        "id": "lUB2-IjNyYRP",
        "outputId": "d25a7309-eefd-448a-fe34-387a8cd7ef51"
      },
      "execution_count": null,
      "outputs": [
        {
          "output_type": "error",
          "ename": "NameError",
          "evalue": "name 'variable_1' is not defined",
          "traceback": [
            "\u001b[0;31m---------------------------------------------------------------------------\u001b[0m",
            "\u001b[0;31mNameError\u001b[0m                                 Traceback (most recent call last)",
            "\u001b[0;32m/tmp/ipython-input-1045524213.py\u001b[0m in \u001b[0;36m<cell line: 0>\u001b[0;34m()\u001b[0m\n\u001b[0;32m----> 1\u001b[0;31m \u001b[0mvariable_1\u001b[0m \u001b[0;32mand\u001b[0m \u001b[0mvariable_2\u001b[0m\u001b[0;34m\u001b[0m\u001b[0;34m\u001b[0m\u001b[0m\n\u001b[0m",
            "\u001b[0;31mNameError\u001b[0m: name 'variable_1' is not defined"
          ]
        }
      ]
    },
    {
      "cell_type": "code",
      "source": [
        "# Intercambio de valores entre variables\n",
        "a = 5\n",
        "b = 10\n",
        "\n",
        "# Intercambiando sin variable temporal\n",
        "a, b = b, a\n",
        "\n",
        "print(\"a =\", a)\n",
        "print(\"b =\", b)\n"
      ],
      "metadata": {
        "id": "uq-xaYJXFChS",
        "colab": {
          "base_uri": "https://localhost:8080/"
        },
        "outputId": "34cbd319-3d39-42fe-a844-0178e519fa52"
      },
      "execution_count": null,
      "outputs": [
        {
          "output_type": "stream",
          "name": "stdout",
          "text": [
            "a = 10\n",
            "b = 5\n"
          ]
        }
      ]
    },
    {
      "cell_type": "code",
      "source": [
        "nombre = \"Ana\"\n",
        "apellido = \"Pérez\"\n",
        "nombre_completo = nombre + \" \" + apellido\n",
        "\n",
        "print(\"Manejo de Strings:\")\n",
        "print(\"Nombre completo:\", nombre_completo)\n",
        "print(\"Repetición de string:\", \"Hola \" * 3)\n",
        "print(\"Primer carácter:\", nombre[0])\n",
        "print(\"Último carácter:\", nombre[-1])\n",
        "print(\"Slicing (1:3):\", nombre[1:3])\n",
        "print(\"Mayúsculas:\", nombre.upper())\n",
        "print(\"Minúsculas:\", apellido.lower())\n",
        "print(\"Formato título:\", nombre_completo.title())\n",
        "print(\"-\" * 40)"
      ],
      "metadata": {
        "colab": {
          "base_uri": "https://localhost:8080/"
        },
        "id": "COYG_jz_wSpz",
        "outputId": "20fba4c2-d93a-405b-e27e-780946e9a7df"
      },
      "execution_count": null,
      "outputs": [
        {
          "output_type": "stream",
          "name": "stdout",
          "text": [
            "Manejo de Strings:\n",
            "Nombre completo: Ana Pérez\n",
            "Repetición de string: Hola Hola Hola \n",
            "Primer carácter: A\n",
            "Último carácter: a\n",
            "Slicing (1:3): na\n",
            "Mayúsculas: ANA\n",
            "Minúsculas: pérez\n",
            "Formato título: Ana Pérez\n",
            "----------------------------------------\n"
          ]
        }
      ]
    },
    {
      "cell_type": "code",
      "source": [
        "# Declarando diferentes tipos de variables\n",
        "a = 10           # entero\n",
        "b = 3.14         # flotante\n",
        "c = \"Hola\"       # cadena\n",
        "d = True         # booleano\n",
        "\n",
        "# Mostrando tipos\n",
        "print(type(a))\n",
        "print(type(b))\n",
        "print(type(c))\n",
        "print(type(d))"
      ],
      "metadata": {
        "id": "3eaNi0q1FFGm"
      },
      "execution_count": null,
      "outputs": []
    },
    {
      "cell_type": "code",
      "source": [
        "dato = 42\n",
        "print(\"Tipado dinámico:\")\n",
        "print(\"Valor:\", dato, \"Tipo:\", type(dato))\n",
        "\n",
        "dato = \"Ahora soy un string\"\n",
        "print(\"Valor:\", dato, \"Tipo:\", type(dato))\n",
        "\n",
        "dato = 3.14\n",
        "print(\"Valor:\", dato, \"Tipo:\", type(dato))\n",
        "print(\"-\" * 40)"
      ],
      "metadata": {
        "colab": {
          "base_uri": "https://localhost:8080/"
        },
        "id": "VXLrZOIYwt8q",
        "outputId": "d772b52b-d07c-4d59-c5e5-988c6c66bb81"
      },
      "execution_count": null,
      "outputs": [
        {
          "output_type": "stream",
          "name": "stdout",
          "text": [
            "Tipado dinámico:\n",
            "Valor: 42 Tipo: <class 'int'>\n",
            "Valor: Ahora soy un string Tipo: <class 'str'>\n",
            "Valor: 3.14 Tipo: <class 'float'>\n",
            "----------------------------------------\n"
          ]
        }
      ]
    },
    {
      "cell_type": "code",
      "source": [
        "# Conversión de tipos\n",
        "a = \"123\"\n",
        "a_entero = int(a)\n",
        "resultado = a_entero + 10\n",
        "\n",
        "print(\"Resultado:\", resultado)"
      ],
      "metadata": {
        "id": "yZYAxwxjFHWV"
      },
      "execution_count": null,
      "outputs": []
    },
    {
      "cell_type": "code",
      "source": [
        "valor = 10.5\n",
        "\n",
        "print(\"Verificación de tipo con isinstance:\")\n",
        "if isinstance(valor, float):\n",
        "    print(\"Es un número decimal\")\n",
        "elif isinstance(valor, int):\n",
        "    print(\"Es un número entero\")\n",
        "else:\n",
        "    print(\"Es otro tipo\")"
      ],
      "metadata": {
        "id": "L6vViXEtw4mb"
      },
      "execution_count": null,
      "outputs": []
    },
    {
      "cell_type": "code",
      "source": [
        "a = 0.1 + 0.2\n",
        "b = 0.3\n",
        "\n",
        "print(\"a =\", a)\n",
        "print(\"b =\", b)\n",
        "\n",
        "# ¿Son iguales?\n",
        "print(\"¿a == b?\", a == b)\n",
        "\n",
        "# Mostrar la diferencia exacta\n",
        "print(\"Diferencia:\", abs(a - b))"
      ],
      "metadata": {
        "colab": {
          "base_uri": "https://localhost:8080/"
        },
        "id": "XSu-H658xNN8",
        "outputId": "a8332e1f-931a-45d6-9119-f8f6055a22dd"
      },
      "execution_count": null,
      "outputs": [
        {
          "output_type": "stream",
          "name": "stdout",
          "text": [
            "a = 0.30000000000000004\n",
            "b = 0.3\n",
            "¿a == b? False\n",
            "Diferencia: 5.551115123125783e-17\n"
          ]
        }
      ]
    },
    {
      "cell_type": "code",
      "source": [
        "# Sumando un número muy pequeño muchas veces\n",
        "small = 1e-10\n",
        "total = 0.0\n",
        "\n",
        "for _ in range(10_000_000):\n",
        "    total += small\n",
        "\n",
        "# Resultado esperado: 1.0 (aproximadamente)\n",
        "print(\"Resultado esperado: 1.0\")\n",
        "print(\"Resultado real:    \", total)\n",
        "print(\"Diferencia:\", abs(1.0 - total))"
      ],
      "metadata": {
        "colab": {
          "base_uri": "https://localhost:8080/"
        },
        "id": "JB7Q2t06xWC6",
        "outputId": "e8f570ee-eaf6-4856-8f18-94bbe4ee186d"
      },
      "execution_count": null,
      "outputs": [
        {
          "output_type": "stream",
          "name": "stdout",
          "text": [
            "Resultado esperado: 1.0\n",
            "Resultado real:     0.0010000000001300626\n",
            "Diferencia: 0.99899999999987\n"
          ]
        }
      ]
    },
    {
      "cell_type": "code",
      "source": [
        "# Ejemplo de cancelación numérica\n",
        "a = 1e8\n",
        "b = 1\n",
        "c = a + b\n",
        "\n",
        "# Luego restamos a\n",
        "resultado = c - a\n",
        "\n",
        "print(\"Debería ser 1:\", resultado)"
      ],
      "metadata": {
        "colab": {
          "base_uri": "https://localhost:8080/"
        },
        "id": "SjzBbzKaxZM6",
        "outputId": "79e715a8-eb34-44ae-cc66-705324b732c3"
      },
      "execution_count": null,
      "outputs": [
        {
          "output_type": "stream",
          "name": "stdout",
          "text": [
            "Debería ser 1: 1.0\n"
          ]
        }
      ]
    },
    {
      "cell_type": "code",
      "source": [
        "list_1 = [1,2,3]\n",
        "list_2 = list([1,'a',3])\n",
        "list_3 = ['Hello', True, 'Hola']"
      ],
      "metadata": {
        "id": "yDb-60Dv1Tc_"
      },
      "execution_count": null,
      "outputs": []
    },
    {
      "cell_type": "code",
      "source": [
        "# Crear una lista de frutas\n",
        "frutas = [\"manzana\", \"banana\", \"naranja\", \"uva\"]\n",
        "\n",
        "# Acceder a elementos por índice\n",
        "print(frutas[0])  # manzana\n",
        "print(frutas[2])  # naranja"
      ],
      "metadata": {
        "id": "aknk9B-c1RJu"
      },
      "execution_count": null,
      "outputs": []
    },
    {
      "cell_type": "code",
      "source": [
        "frutas[1] = \"pera\"\n",
        "print(frutas)  # ['manzana', 'pera', 'naranja', 'uva']"
      ],
      "metadata": {
        "id": "5wOXmbjl2S_o"
      },
      "execution_count": null,
      "outputs": []
    },
    {
      "cell_type": "code",
      "source": [
        "# Lista dentro de otra lista (anidada)\n",
        "matriz = [[1, 2], [3, 4], [5, 6]]\n",
        "print(matriz[1][0])  # 3"
      ],
      "metadata": {
        "colab": {
          "base_uri": "https://localhost:8080/"
        },
        "id": "l1bBFJDX2QFX",
        "outputId": "3b6de7e6-2945-4e96-cbc8-b56e6785e560"
      },
      "execution_count": null,
      "outputs": [
        {
          "output_type": "stream",
          "name": "stdout",
          "text": [
            "3\n"
          ]
        }
      ]
    },
    {
      "cell_type": "code",
      "source": [
        "persona = {\n",
        "    \"nombre\": \"Juan\",\n",
        "    \"edad\": 30,\n",
        "    \"ciudad\": \"Madrid\"\n",
        "}\n",
        "\n",
        "print(persona)"
      ],
      "metadata": {
        "id": "gW-xh4n26jhR"
      },
      "execution_count": null,
      "outputs": []
    },
    {
      "cell_type": "code",
      "source": [
        "print(persona[\"nombre\"])   # Accede al valor asociado a la clave 'nombre'"
      ],
      "metadata": {
        "id": "AhO5rYm86pgA"
      },
      "execution_count": null,
      "outputs": []
    },
    {
      "cell_type": "code",
      "source": [
        "print(persona.get(\"profesion\", \"No especificado\"))"
      ],
      "metadata": {
        "id": "luEvbZWF6sRl"
      },
      "execution_count": null,
      "outputs": []
    },
    {
      "cell_type": "code",
      "source": [
        "persona[\"edad\"] = 31\n",
        "print(persona[\"edad\"])"
      ],
      "metadata": {
        "id": "oMSvVpTC6uTH"
      },
      "execution_count": null,
      "outputs": []
    },
    {
      "cell_type": "code",
      "source": [
        "persona[\"profesion\"] = \"Ingeniero\"\n",
        "print(persona)"
      ],
      "metadata": {
        "id": "HX_KJylB6v4x"
      },
      "execution_count": null,
      "outputs": []
    },
    {
      "cell_type": "code",
      "source": [
        "del persona[\"ciudad\"]\n",
        "print(persona)"
      ],
      "metadata": {
        "id": "Db0-00TW6xVc"
      },
      "execution_count": null,
      "outputs": []
    },
    {
      "cell_type": "code",
      "source": [
        "print(persona.keys())     # dict_keys(['nombre', 'edad', 'profesion'])\n",
        "print(persona.values())"
      ],
      "metadata": {
        "id": "e2YWhU8a61Qm"
      },
      "execution_count": null,
      "outputs": []
    },
    {
      "cell_type": "code",
      "source": [
        "calificaciones = {\n",
        "    \"Juan\": [7, 8, 9],\n",
        "    \"Ana\": [10, 9, 10]\n",
        "}\n",
        "\n",
        "print(calificaciones[\"Ana\"])"
      ],
      "metadata": {
        "id": "jzIu7Nnw66rr"
      },
      "execution_count": null,
      "outputs": []
    },
    {
      "cell_type": "code",
      "source": [
        "usuarios = {\n",
        "    \"andresb\": {\"nombre\": \"Andres\", \"carrera\": 'matemáticas'},\n",
        "    \"ana45\": {\"nombre\": \"Ana\", \"carrera\": 'biología'}\n",
        "}\n",
        "\n",
        "print(usuarios[\"ana45\"][\"carrera\"])"
      ],
      "metadata": {
        "colab": {
          "base_uri": "https://localhost:8080/"
        },
        "id": "eRbeU2eV6_Qy",
        "outputId": "f17061a7-f4b3-411c-b576-0f171a0be2e7"
      },
      "execution_count": null,
      "outputs": [
        {
          "output_type": "stream",
          "name": "stdout",
          "text": [
            "biología\n"
          ]
        }
      ]
    },
    {
      "cell_type": "markdown",
      "source": [
        "### Mutabilidad"
      ],
      "metadata": {
        "id": "CJ2-repF7N1k"
      }
    },
    {
      "cell_type": "code",
      "source": [
        "lista = [1, 2, 3]\n",
        "print(\"Antes:\", lista)\n",
        "\n",
        "lista.append(4)\n",
        "print(\"Después:\", lista)"
      ],
      "metadata": {
        "id": "sZPBx8FJ7gan"
      },
      "execution_count": null,
      "outputs": []
    },
    {
      "cell_type": "code",
      "source": [
        "tupla = (1, 2, 3)\n",
        "tupla.append(4)  # Esto lanzaría un error"
      ],
      "metadata": {
        "id": "RN7nQCR57jbz"
      },
      "execution_count": null,
      "outputs": []
    },
    {
      "cell_type": "code",
      "source": [
        "# Intentar modificarla directamente también falla\n",
        "tupla[0] = 10    # TypeError"
      ],
      "metadata": {
        "id": "6KXmyR2U7m4I"
      },
      "execution_count": null,
      "outputs": []
    },
    {
      "cell_type": "code",
      "source": [
        "texto = \"Hola\"\n",
        "texto[0] = \"h\""
      ],
      "metadata": {
        "id": "NM0Cu7IR7pss"
      },
      "execution_count": null,
      "outputs": []
    },
    {
      "cell_type": "code",
      "source": [
        "nuevo_texto = texto.lower()  # Crea una NUEVA cadena\n",
        "print(nuevo_texto)\n",
        "print(texto)"
      ],
      "metadata": {
        "id": "gI7mRmvSgeqw"
      },
      "execution_count": null,
      "outputs": []
    },
    {
      "cell_type": "code",
      "source": [
        "x = [1, 2, 3]\n",
        "print(id(x))   # ID antes\n",
        "x.append(4)\n",
        "print(id(x))"
      ],
      "metadata": {
        "colab": {
          "base_uri": "https://localhost:8080/"
        },
        "id": "bxUr3z2O7tPK",
        "outputId": "587f0d30-6ac8-48bd-8a7f-6633fb6e5fb1"
      },
      "execution_count": null,
      "outputs": [
        {
          "output_type": "stream",
          "name": "stdout",
          "text": [
            "132795009848064\n",
            "132795009848064\n"
          ]
        }
      ]
    },
    {
      "cell_type": "code",
      "source": [
        "y = \"abc\"\n",
        "print(id(y))   # ID antes\n",
        "y = y + \"d\"\n",
        "print(id(y))"
      ],
      "metadata": {
        "colab": {
          "base_uri": "https://localhost:8080/"
        },
        "id": "Ga3IaJYT8LQS",
        "outputId": "757df63e-93a8-43a3-cd07-1274b429da1b"
      },
      "execution_count": null,
      "outputs": [
        {
          "output_type": "stream",
          "name": "stdout",
          "text": [
            "10785632\n",
            "132795008234048\n"
          ]
        }
      ]
    },
    {
      "cell_type": "code",
      "source": [
        "tupla = ([1, 2], 3)\n",
        "tupla[0].append(4)\n",
        "print(tupla)"
      ],
      "metadata": {
        "colab": {
          "base_uri": "https://localhost:8080/"
        },
        "id": "D9bp1KGW8NQR",
        "outputId": "e2ebaab0-27f4-4036-8e84-f13c24c66821"
      },
      "execution_count": null,
      "outputs": [
        {
          "output_type": "stream",
          "name": "stdout",
          "text": [
            "([1, 2, 4], 3)\n"
          ]
        }
      ]
    },
    {
      "cell_type": "code",
      "source": [
        "numeros = set([1, 2, 3, 2, 1])\n",
        "print(numeros)"
      ],
      "metadata": {
        "id": "QP1Hd9z8DXzs"
      },
      "execution_count": null,
      "outputs": []
    },
    {
      "cell_type": "code",
      "source": [
        "colores = {'rojo', 'verde'}\n",
        "colores.add('azul')\n",
        "print(colores)"
      ],
      "metadata": {
        "id": "nh3UDhnZDZ2w"
      },
      "execution_count": null,
      "outputs": []
    },
    {
      "cell_type": "markdown",
      "source": [
        "### Ejercicios"
      ],
      "metadata": {
        "id": "oAPjicF22kZ5"
      }
    },
    {
      "cell_type": "markdown",
      "source": [
        "1. Escribe código en python que te permita calcular la suma, resta y producto punto de vectores en $\\mathbb{R^3}$, representados como variables tipo lista."
      ],
      "metadata": {
        "id": "g-Zcb0782mWo"
      }
    },
    {
      "cell_type": "markdown",
      "source": [
        "2. Escribe un programa que calcule el determinante de una matriz de 2x2 cualquiera"
      ],
      "metadata": {
        "id": "oN3CZBWi3uxn"
      }
    },
    {
      "cell_type": "markdown",
      "source": [
        "3. Dado los coeficientes $a$,$b$ y $c$ de una ecuación de segundo grado, esto es, una ecuación de la forma $ax^2 + bx + c = 0$, escribe un programa que calcule las raices. ¿Existe algún tipo que pueda ayudar a modelar números complejos?"
      ],
      "metadata": {
        "id": "acE8VZUn39lg"
      }
    },
    {
      "cell_type": "markdown",
      "source": [
        "## Estructuras de control"
      ],
      "metadata": {
        "id": "MO6T2B33xn43"
      }
    },
    {
      "cell_type": "code",
      "source": [
        "edad = 25\n",
        "\n",
        "if edad < 18:\n",
        "    print(\"Eres menor de edad\")\n",
        "elif edad < 65:\n",
        "    print(\"Eres adulto\")\n",
        "else:\n",
        "    print(\"Eres adulto mayor\")\n"
      ],
      "metadata": {
        "id": "Qy0hhyP-yPFl"
      },
      "execution_count": null,
      "outputs": []
    },
    {
      "cell_type": "code",
      "source": [
        "contador = 0\n",
        "\n",
        "while contador < 5:\n",
        "    print(\"Contador:\", contador)\n",
        "    contador += 1"
      ],
      "metadata": {
        "id": "FAmP3Gj2ySaz"
      },
      "execution_count": null,
      "outputs": []
    },
    {
      "cell_type": "code",
      "source": [
        "# Imprimir números del 1 al 10 con for\n",
        "for i in range(1, 11):\n",
        "    print(i)"
      ],
      "metadata": {
        "id": "3vS8BY1QFI_v"
      },
      "execution_count": null,
      "outputs": []
    },
    {
      "cell_type": "code",
      "source": [
        "i = 1\n",
        "suma = 0\n",
        "\n",
        "while i <= 100:\n",
        "    suma += i\n",
        "    i += 1\n",
        "\n",
        "print(\"Suma total:\", suma)"
      ],
      "metadata": {
        "id": "7oGbqsc0FKlF",
        "colab": {
          "base_uri": "https://localhost:8080/"
        },
        "outputId": "90aa062e-e7a6-48fa-c574-e0e002e09e3d"
      },
      "execution_count": null,
      "outputs": [
        {
          "output_type": "stream",
          "name": "stdout",
          "text": [
            "Suma total: 5050\n"
          ]
        }
      ]
    },
    {
      "cell_type": "code",
      "source": [
        "# Imprimir números pares del 1 al 20\n",
        "for i in range(1, 21):\n",
        "    if i % 2 == 0:\n",
        "        print(i)\n"
      ],
      "metadata": {
        "id": "efu9CAuqFMk_",
        "colab": {
          "base_uri": "https://localhost:8080/"
        },
        "outputId": "22b1220d-a4fb-41fe-893d-877cec96465f"
      },
      "execution_count": null,
      "outputs": [
        {
          "output_type": "stream",
          "name": "stdout",
          "text": [
            "2\n",
            "4\n",
            "6\n",
            "8\n",
            "10\n",
            "12\n",
            "14\n",
            "16\n",
            "18\n",
            "20\n"
          ]
        }
      ]
    },
    {
      "cell_type": "code",
      "source": [
        "for clave, valor in persona.items():\n",
        "    print(f\"{clave}: {valor}\")"
      ],
      "metadata": {
        "id": "XdkS_y106znQ"
      },
      "execution_count": null,
      "outputs": []
    },
    {
      "cell_type": "code",
      "source": [
        "colores = [\"rojo\", \"verde\", \"azul\"]\n",
        "\n",
        "for indice, color in enumerate(colores):\n",
        "    print(f\"Índice {indice}: {color}\")"
      ],
      "metadata": {
        "colab": {
          "base_uri": "https://localhost:8080/"
        },
        "id": "1G41hCoIyaYq",
        "outputId": "796de355-251f-4fa3-bef5-0a89d103ec9a"
      },
      "execution_count": null,
      "outputs": [
        {
          "output_type": "stream",
          "name": "stdout",
          "text": [
            "Índice 0: rojo\n",
            "Índice 1: verde\n",
            "Índice 2: azul\n"
          ]
        }
      ]
    },
    {
      "cell_type": "code",
      "source": [
        "n = 0\n",
        "\n",
        "while True:\n",
        "    n += 1\n",
        "    if n == 3:\n",
        "        print(\"Saltamos el 3\")\n",
        "        continue\n",
        "    if n > 5:\n",
        "        break\n",
        "    print(\"n =\", n)"
      ],
      "metadata": {
        "colab": {
          "base_uri": "https://localhost:8080/"
        },
        "id": "oD7I2fetynfu",
        "outputId": "a40cdd12-ebe7-4962-e5b9-004b109f04cc"
      },
      "execution_count": null,
      "outputs": [
        {
          "output_type": "stream",
          "name": "stdout",
          "text": [
            "n = 1\n",
            "n = 2\n",
            "Saltamos el 3\n",
            "n = 4\n",
            "n = 5\n"
          ]
        }
      ]
    },
    {
      "cell_type": "markdown",
      "source": [
        "### Objetos iterables"
      ],
      "metadata": {
        "id": "3guw3RV5CahA"
      }
    },
    {
      "cell_type": "code",
      "source": [
        "frutas = ['manzana', 'banana', 'naranja']\n",
        "\n",
        "for fruta in frutas:\n",
        "    print(fruta)"
      ],
      "metadata": {
        "id": "EZLe_7whCaMD"
      },
      "execution_count": null,
      "outputs": []
    },
    {
      "cell_type": "code",
      "source": [
        "numeros = [1, 2, 3]\n",
        "iterador = iter(numeros)\n",
        "\n",
        "print(next(iterador))  # 1\n",
        "print(next(iterador))  # 2\n",
        "print(next(iterador))  # 3"
      ],
      "metadata": {
        "id": "ZU0R7OIGCe1b"
      },
      "execution_count": null,
      "outputs": []
    },
    {
      "cell_type": "code",
      "source": [
        "persona = {'nombre': 'Ana', 'edad': 30}\n",
        "\n",
        "for clave in persona:\n",
        "    print(clave, '=>', persona[clave])"
      ],
      "metadata": {
        "id": "vKOiaimLChLI"
      },
      "execution_count": null,
      "outputs": []
    },
    {
      "cell_type": "code",
      "source": [
        "colores = {'rojo', 'verde', 'azul'}\n",
        "\n",
        "for color in colores:\n",
        "    print(color)"
      ],
      "metadata": {
        "id": "LxVbFWhvCk1w"
      },
      "execution_count": null,
      "outputs": []
    },
    {
      "cell_type": "markdown",
      "source": [
        "### Comprensión de listas"
      ],
      "metadata": {
        "id": "_MEMiCesCn9_"
      }
    },
    {
      "cell_type": "code",
      "source": [
        "cuadrados = [x**2 for x in range(5)]\n",
        "print(cuadrados)"
      ],
      "metadata": {
        "id": "i3ctIbHpCvuP"
      },
      "execution_count": null,
      "outputs": []
    },
    {
      "cell_type": "code",
      "source": [
        "pares = [x for x in range(10) if x % 2 == 0]\n",
        "print(pares)  # [0, 2, 4, 6, 8]"
      ],
      "metadata": {
        "id": "U-NqY9GrC73Y"
      },
      "execution_count": null,
      "outputs": []
    },
    {
      "cell_type": "code",
      "source": [
        "palabras = ['hola', 'mundo', 'python']\n",
        "mayusculas = [p.upper() for p in palabras]\n",
        "print(mayusculas)"
      ],
      "metadata": {
        "id": "cobu0bQ_C_u3"
      },
      "execution_count": null,
      "outputs": []
    },
    {
      "cell_type": "markdown",
      "source": [
        "### Ejercicios"
      ],
      "metadata": {
        "id": "H4wgZniA4C_k"
      }
    },
    {
      "cell_type": "markdown",
      "source": [
        "1. Escribe código para verificar que un número entero es par o impar.\n",
        "\n",
        "2. Escribe un código que aproxime el número $\\pi$ con $n$ términos utilizando la siguiente serie: $\\pi = 4(1-\\frac{1}{3} + \\frac{1}{5} - \\frac{1}{7} + \\frac{1}{9} + ...)$\n",
        "\n",
        "3. Escribe código para saber si una cadena de caracteres es un palíndromo. Realiza el mismo ejercicio para checar si un número es capicúa. Puedes utilizar la función len().\n",
        "\n",
        "4. Escribe código que verifique si un número $n$ es primo o no.\n",
        "\n",
        "5. Dado $n \\in \\mathbb{N}$, imprime todos los números primos del 1 al $n$."
      ],
      "metadata": {
        "id": "EQXSQnOa4EkJ"
      }
    }
  ]
}
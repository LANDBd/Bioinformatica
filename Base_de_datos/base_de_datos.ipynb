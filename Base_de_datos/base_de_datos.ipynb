{
 "cells": [
  {
   "cell_type": "code",
   "execution_count": 59,
   "id": "1e654568",
   "metadata": {},
   "outputs": [],
   "source": [
    "import sqlite3"
   ]
  },
  {
   "cell_type": "code",
   "execution_count": 60,
   "id": "148d5869",
   "metadata": {},
   "outputs": [],
   "source": [
    "# Conectar (crea la base de datos si no existe)\n",
    "conn = sqlite3.connect(\"mi_base_de_datos.db\")\n",
    "cursor = conn.cursor()"
   ]
  },
  {
   "cell_type": "code",
   "execution_count": null,
   "id": "c9f70110",
   "metadata": {},
   "outputs": [],
   "source": [
    "# Crear cursor\n",
    "cursor = conn.cursor()\n",
    "\n",
    "# Crear tabla\n",
    "cursor.execute(\"\"\"\n",
    "CREATE TABLE IF NOT EXISTS empleados (\n",
    "    id INTEGER PRIMARY KEY AUTOINCREMENT,\n",
    "    nombre TEXT NOT NULL,\n",
    "    edad INTEGER,\n",
    "    puesto TEXT\n",
    ")\n",
    "\"\"\")"
   ]
  },
  {
   "cell_type": "code",
   "execution_count": null,
   "id": "b3270941",
   "metadata": {},
   "outputs": [],
   "source": [
    "# Insertar un registro\n",
    "cursor.execute(\"\"\"\n",
    "INSERT INTO empleados (nombre, edad, puesto)\n",
    "VALUES (?, ?, ?)\n",
    "\"\"\", (\"Juan Pérez\", 30, \"Desarrollador\"))\n",
    "\n",
    "# Insertar múltiples registros\n",
    "empleados = [\n",
    "    (\"Ana García\", 25, \"Diseñadora\"),\n",
    "    (\"Luis Gómez\", 35, \"Gerente\"),\n",
    "    (\"Marta Díaz\", 28, \"Analista\")\n",
    "]\n",
    "cursor.executemany(\"\"\"\n",
    "INSERT INTO empleados (nombre, edad, puesto)\n",
    "VALUES (?, ?, ?)\n",
    "\"\"\", empleados)\n"
   ]
  },
  {
   "cell_type": "code",
   "execution_count": null,
   "id": "7de91b61",
   "metadata": {},
   "outputs": [],
   "source": [
    "# Obtener todos los registros\n",
    "cursor.execute(\"SELECT * FROM empleados\")\n",
    "todos = cursor.fetchall()\n",
    "for fila in todos:\n",
    "    print(fila)"
   ]
  },
  {
   "cell_type": "code",
   "execution_count": null,
   "id": "3db274ee",
   "metadata": {},
   "outputs": [],
   "source": [
    "# Obtener registros con condición\n",
    "cursor.execute(\"SELECT nombre, puesto FROM empleados WHERE edad > 30\")\n",
    "mayores_30 = cursor.fetchall()\n",
    "for fila in mayores_30:\n",
    "    print(fila)"
   ]
  },
  {
   "cell_type": "code",
   "execution_count": null,
   "id": "fea69b91",
   "metadata": {},
   "outputs": [],
   "source": [
    "cursor.execute(\"\"\"\n",
    "UPDATE empleados\n",
    "SET edad = ?\n",
    "WHERE nombre = ?\n",
    "\"\"\", (32, \"Juan Pérez\"))\n",
    "\n",
    "# Eliminar un empleado\n",
    "cursor.execute(\"\"\"\n",
    "DELETE FROM empleados\n",
    "WHERE nombre = ?\n",
    "\"\"\", (\"Luis Gómez\",))"
   ]
  },
  {
   "cell_type": "code",
   "execution_count": 66,
   "id": "f169f5bc",
   "metadata": {},
   "outputs": [],
   "source": [
    "conn.commit()\n",
    "conn.close()"
   ]
  },
  {
   "cell_type": "code",
   "execution_count": 67,
   "id": "d830a97b",
   "metadata": {},
   "outputs": [],
   "source": [
    "conn = sqlite3.connect(\"Chinook_Sqlite.sqlite\")\n",
    "cursor = conn.cursor()"
   ]
  },
  {
   "cell_type": "code",
   "execution_count": null,
   "id": "9b2e278f",
   "metadata": {},
   "outputs": [],
   "source": [
    "# Mostrar el esquema (todas las tablas)\n",
    "cursor.execute(\"SELECT name FROM sqlite_master WHERE type='table';\")\n",
    "tablas = cursor.fetchall()\n",
    "print(\"Tablas:\")\n",
    "for tabla in tablas:\n",
    "    print(\"-\", tabla[0])"
   ]
  },
  {
   "cell_type": "code",
   "execution_count": null,
   "id": "9afc2360",
   "metadata": {},
   "outputs": [],
   "source": [
    "cursor.execute(\"SELECT name FROM sqlite_master WHERE type='table';\")\n",
    "tablas = cursor.fetchall()\n",
    "\n",
    "# Obtener el esquema de cada tabla\n",
    "for (tabla,) in tablas:\n",
    "    print(f\"\\nTabla: {tabla}\")\n",
    "    cursor.execute(f\"PRAGMA table_info({tabla});\")\n",
    "    columnas = cursor.fetchall()\n",
    "    for col in columnas:\n",
    "        cid, name, tipo, notnull, dflt_value, pk = col\n",
    "        print(f\"  - {name} ({tipo}) {'PRIMARY KEY' if pk else ''}\")"
   ]
  },
  {
   "cell_type": "code",
   "execution_count": null,
   "id": "3e51e719",
   "metadata": {},
   "outputs": [],
   "source": [
    "cursor.execute('SELECT * FROM Employee')\n",
    "for row in cursor.fetchall():\n",
    "    print(row)"
   ]
  },
  {
   "cell_type": "code",
   "execution_count": null,
   "id": "7066869f",
   "metadata": {},
   "outputs": [],
   "source": [
    "cursor.execute(\"PRAGMA table_info(Album);\")\n",
    "columnas = cursor.fetchall()\n",
    "print(\"\\nColumnas de la tabla Album:\")\n",
    "for col in columnas:\n",
    "    print(col)"
   ]
  },
  {
   "cell_type": "code",
   "execution_count": null,
   "id": "6b92c54a",
   "metadata": {},
   "outputs": [],
   "source": [
    "# Seleccionar todos los álbumes de un artista específico\n",
    "cursor.execute(\"\"\"\n",
    "SELECT Title\n",
    "FROM Album\n",
    "\"\"\")\n",
    "for fila in cursor.fetchall():\n",
    "    print(fila)"
   ]
  },
  {
   "cell_type": "code",
   "execution_count": null,
   "id": "291319c6",
   "metadata": {},
   "outputs": [],
   "source": [
    "# Seleccionar todos los álbumes de un artista específico\n",
    "cursor.execute(\"\"\"\n",
    "SELECT Title\n",
    "FROM Album\n",
    "WHERE ArtistId = 1\n",
    "\"\"\")\n",
    "for fila in cursor.fetchall():\n",
    "    print(fila)\n"
   ]
  },
  {
   "cell_type": "code",
   "execution_count": null,
   "id": "c28936f0",
   "metadata": {},
   "outputs": [],
   "source": [
    "cursor.execute(\"\"\"\n",
    "SELECT *\n",
    "FROM Artist;\n",
    "\"\"\")\n",
    "for fila in cursor.fetchall():\n",
    "    print(fila)"
   ]
  },
  {
   "cell_type": "code",
   "execution_count": null,
   "id": "4abae922",
   "metadata": {},
   "outputs": [],
   "source": [
    "\n",
    "# Obtener álbumes con el nombre del artista\n",
    "cursor.execute(\"\"\"\n",
    "SELECT Album.Title, Artist.Name\n",
    "FROM Album\n",
    "JOIN Artist ON Album.ArtistId = Artist.ArtistId\n",
    "LIMIT 5\n",
    "\"\"\")\n",
    "for fila in cursor.fetchall():\n",
    "    print(fila)"
   ]
  },
  {
   "cell_type": "code",
   "execution_count": null,
   "id": "917ef08e",
   "metadata": {},
   "outputs": [],
   "source": [
    "cursor.execute(\"\"\"\n",
    "SELECT Album.Title, Artist.Name\n",
    "FROM Album\n",
    "INNER JOIN Artist ON Album.ArtistId = Artist.ArtistId\n",
    "LIMIT 10\n",
    "\"\"\")\n",
    "\n",
    "for row in cursor.fetchall():\n",
    "    print(row)"
   ]
  },
  {
   "cell_type": "code",
   "execution_count": null,
   "id": "5e8dfc44",
   "metadata": {},
   "outputs": [],
   "source": [
    "cursor.execute(\"\"\"\n",
    "SELECT Artist.Name, Album.Title\n",
    "FROM Artist\n",
    "LEFT JOIN Album ON Artist.ArtistId = Album.ArtistId\n",
    "ORDER BY Artist.Name\n",
    "LIMIT 10\n",
    "\"\"\")\n",
    "\n",
    "for row in cursor.fetchall():\n",
    "    print(row)"
   ]
  },
  {
   "cell_type": "code",
   "execution_count": null,
   "id": "4af15d10",
   "metadata": {},
   "outputs": [],
   "source": [
    "cursor.execute(\"PRAGMA table_info(Genre);\")\n",
    "columnas = cursor.fetchall()\n",
    "print(\"\\nColumnas de la tabla Album:\")\n",
    "for col in columnas:\n",
    "    print(col)"
   ]
  },
  {
   "cell_type": "code",
   "execution_count": null,
   "id": "4258c66a",
   "metadata": {},
   "outputs": [],
   "source": [
    "# Contar cuántas pistas tiene cada género\n",
    "cursor.execute(\"\"\"\n",
    "SELECT Genre.Name, COUNT(Track.TrackId) AS NumTracks\n",
    "FROM Track\n",
    "JOIN Genre ON Track.GenreId = Genre.GenreId\n",
    "GROUP BY Genre.Name\n",
    "ORDER BY NumTracks DESC\n",
    "\"\"\")\n",
    "for fila in cursor.fetchall():\n",
    "    print(fila)\n"
   ]
  },
  {
   "cell_type": "code",
   "execution_count": null,
   "id": "1b4d4210",
   "metadata": {},
   "outputs": [],
   "source": [
    "# Mostrar todos los países distintos donde hay clientes, ordenados\n",
    "cursor.execute(\"\"\"\n",
    "SELECT DISTINCT Country\n",
    "FROM Customer\n",
    "ORDER BY Country ASC\n",
    "\"\"\")\n",
    "for fila in cursor.fetchall():\n",
    "    print(fila[0])\n"
   ]
  },
  {
   "cell_type": "code",
   "execution_count": null,
   "id": "996637c7",
   "metadata": {},
   "outputs": [],
   "source": [
    "# Mostrar los primeros 10 clientes\n",
    "cursor.execute(\"\"\"\n",
    "SELECT FirstName, LastName, Country\n",
    "FROM Customer\n",
    "LIMIT 10\n",
    "\"\"\")\n",
    "for fila in cursor.fetchall():\n",
    "    print(fila)"
   ]
  },
  {
   "cell_type": "code",
   "execution_count": null,
   "id": "2bab61f1",
   "metadata": {},
   "outputs": [],
   "source": [
    "# Precio promedio, máximo y mínimo de todas las pistas\n",
    "cursor.execute(\"\"\"\n",
    "SELECT AVG(UnitPrice), MAX(UnitPrice), MIN(UnitPrice)\n",
    "FROM Track\n",
    "\"\"\")\n",
    "promedio, maximo, minimo = cursor.fetchone()\n",
    "print(f\"Promedio: {promedio}, Máximo: {maximo}, Mínimo: {minimo}\")"
   ]
  },
  {
   "cell_type": "code",
   "execution_count": null,
   "id": "90f9cbdc",
   "metadata": {},
   "outputs": [],
   "source": [
    "cursor.execute(\"\"\"\n",
    "SELECT BillingCountry, COUNT(*) AS NumeroFacturas\n",
    "FROM Invoice\n",
    "GROUP BY BillingCountry\n",
    "ORDER BY NumeroFacturas DESC\n",
    "\"\"\")\n",
    "\n",
    "for row in cursor.fetchall():\n",
    "    print(row)"
   ]
  },
  {
   "cell_type": "code",
   "execution_count": null,
   "id": "7f1a9e8b",
   "metadata": {},
   "outputs": [],
   "source": [
    "cursor.execute(\"\"\"\n",
    "SELECT Country, COUNT(DISTINCT CustomerId) AS TotalClientes\n",
    "FROM Customer\n",
    "GROUP BY Country\n",
    "ORDER BY TotalClientes DESC\n",
    "\"\"\")\n",
    "\n",
    "for row in cursor.fetchall():\n",
    "    print(row)"
   ]
  },
  {
   "cell_type": "code",
   "execution_count": null,
   "id": "4a965c59",
   "metadata": {},
   "outputs": [],
   "source": [
    "cursor.execute(\"\"\"\n",
    "SELECT CustomerId, COUNT(InvoiceId) as NumCompras\n",
    "FROM Invoice\n",
    "GROUP BY CustomerId\n",
    "HAVING NumCompras > 5\n",
    "ORDER BY NumCompras DESC\n",
    "\"\"\")\n",
    "for fila in cursor.fetchall():\n",
    "    print(fila)"
   ]
  },
  {
   "cell_type": "code",
   "execution_count": null,
   "id": "e91f22ab",
   "metadata": {},
   "outputs": [],
   "source": [
    "# Total gastado por cada cliente, ordenado por el que más ha gastado\n",
    "cursor.execute(\"\"\"\n",
    "SELECT \n",
    "    Customer.FirstName || ' ' || Customer.LastName AS Cliente,\n",
    "    Customer.Country,\n",
    "    SUM(Invoice.Total) AS TotalGastado\n",
    "FROM Customer\n",
    "JOIN Invoice ON Customer.CustomerId = Invoice.CustomerId\n",
    "GROUP BY Customer.CustomerId\n",
    "ORDER BY TotalGastado DESC\n",
    "LIMIT 10\n",
    "\"\"\")\n",
    "for fila in cursor.fetchall():\n",
    "    print(fila)"
   ]
  },
  {
   "cell_type": "markdown",
   "id": "71bb44f8",
   "metadata": {},
   "source": [
    "### Orden de ejecución en SQL: From/Join, Where, Groupby, Having, Select, Distinct, Order by, Limit."
   ]
  },
  {
   "cell_type": "markdown",
   "id": "bc9869c5",
   "metadata": {},
   "source": []
  }
 ],
 "metadata": {
  "kernelspec": {
   "display_name": "Python 3",
   "language": "python",
   "name": "python3"
  },
  "language_info": {
   "codemirror_mode": {
    "name": "ipython",
    "version": 3
   },
   "file_extension": ".py",
   "mimetype": "text/x-python",
   "name": "python",
   "nbconvert_exporter": "python",
   "pygments_lexer": "ipython3",
   "version": "3.12.1"
  }
 },
 "nbformat": 4,
 "nbformat_minor": 5
}

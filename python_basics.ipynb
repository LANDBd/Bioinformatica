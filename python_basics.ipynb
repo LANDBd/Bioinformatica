{
  "nbformat": 4,
  "nbformat_minor": 0,
  "metadata": {
    "colab": {
      "provenance": []
    },
    "kernelspec": {
      "name": "python3",
      "display_name": "Python 3"
    },
    "language_info": {
      "name": "python"
    }
  },
  "cells": [
    {
      "cell_type": "markdown",
      "source": [
        "# **Conceptos básicos de Python**"
      ],
      "metadata": {
        "id": "4ptNp4fniEmQ"
      }
    },
    {
      "cell_type": "markdown",
      "source": [
        "### Asignación de variables, operaciones básicas, tipado dinámico"
      ],
      "metadata": {
        "id": "MPV_HHSh4hhy"
      }
    },
    {
      "cell_type": "code",
      "execution_count": null,
      "metadata": {
        "colab": {
          "base_uri": "https://localhost:8080/"
        },
        "id": "5-LLA8UrDgo-",
        "outputId": "47c796ce-92ac-4f5c-e2ba-180d071d8bc7"
      },
      "outputs": [
        {
          "output_type": "stream",
          "name": "stdout",
          "text": [
            "Hola, me llamo Andres tengo 30 años\n"
          ]
        }
      ],
      "source": [
        "# Asignación de valores a variables\n",
        "nombre = \"Andres\"\n",
        "edad = 24\n",
        "\n",
        "\n",
        "# Imprimir los valores\n",
        "print(\"Hola, me llamo\", nombre, \"tengo\", edad, \"años\")\n"
      ]
    },
    {
      "cell_type": "code",
      "source": [
        "# Asignación básica\n",
        "x = 10\n",
        "nombre = \"Ana\"\n",
        "pi = 3.1416\n",
        "\n",
        "# Múltiples asignaciones en una línea\n",
        "a, b, c = 1, 2, 3\n",
        "\n",
        "# Asignar el mismo valor a varias variables\n",
        "x = y = z = 0"
      ],
      "metadata": {
        "id": "v05u5zwZwMF8"
      },
      "execution_count": null,
      "outputs": []
    },
    {
      "cell_type": "code",
      "source": [
        "print(\"Asignación de variables:\")\n",
        "print(\"x:\", x, \"nombre:\", nombre, \"pi:\", pi)\n",
        "print(\"a:\", a, \"b:\", b, \"c:\", c)\n",
        "print(\"x, y, z:\", x, y, z)\n",
        "print(\"-\" * 40)"
      ],
      "metadata": {
        "id": "a96P85ILwUVc"
      },
      "execution_count": null,
      "outputs": []
    },
    {
      "cell_type": "code",
      "source": [
        "# Intercambio de valores entre variables\n",
        "a = 5\n",
        "b = 10\n",
        "\n",
        "# Intercambiando sin variable temporal\n",
        "a, b = b, a\n",
        "\n",
        "print(\"a =\", a)\n",
        "print(\"b =\", b)\n"
      ],
      "metadata": {
        "id": "uq-xaYJXFChS",
        "colab": {
          "base_uri": "https://localhost:8080/"
        },
        "outputId": "34cbd319-3d39-42fe-a844-0178e519fa52"
      },
      "execution_count": null,
      "outputs": [
        {
          "output_type": "stream",
          "name": "stdout",
          "text": [
            "a = 10\n",
            "b = 5\n"
          ]
        }
      ]
    },
    {
      "cell_type": "code",
      "source": [
        "nombre = \"Ana\"\n",
        "apellido = \"Pérez\"\n",
        "nombre_completo = nombre + \" \" + apellido\n",
        "\n",
        "print(\"Manejo de Strings:\")\n",
        "print(\"Nombre completo:\", nombre_completo)\n",
        "print(\"Repetición de string:\", \"Hola \" * 3)\n",
        "print(\"Primer carácter:\", nombre[0])\n",
        "print(\"Último carácter:\", nombre[-1])\n",
        "print(\"Slicing (1:3):\", nombre[1:3])\n",
        "print(\"Mayúsculas:\", nombre.upper())\n",
        "print(\"Minúsculas:\", apellido.lower())\n",
        "print(\"Formato título:\", nombre_completo.title())\n",
        "print(\"-\" * 40)"
      ],
      "metadata": {
        "colab": {
          "base_uri": "https://localhost:8080/"
        },
        "id": "COYG_jz_wSpz",
        "outputId": "20fba4c2-d93a-405b-e27e-780946e9a7df"
      },
      "execution_count": null,
      "outputs": [
        {
          "output_type": "stream",
          "name": "stdout",
          "text": [
            "Manejo de Strings:\n",
            "Nombre completo: Ana Pérez\n",
            "Repetición de string: Hola Hola Hola \n",
            "Primer carácter: A\n",
            "Último carácter: a\n",
            "Slicing (1:3): na\n",
            "Mayúsculas: ANA\n",
            "Minúsculas: pérez\n",
            "Formato título: Ana Pérez\n",
            "----------------------------------------\n"
          ]
        }
      ]
    },
    {
      "cell_type": "code",
      "source": [
        "# Declarando diferentes tipos de variables\n",
        "a = 10           # entero\n",
        "b = 3.14         # flotante\n",
        "c = \"Hola\"       # cadena\n",
        "d = True         # booleano\n",
        "\n",
        "# Mostrando tipos\n",
        "print(type(a))\n",
        "print(type(b))\n",
        "print(type(c))\n",
        "print(type(d))"
      ],
      "metadata": {
        "id": "3eaNi0q1FFGm"
      },
      "execution_count": null,
      "outputs": []
    },
    {
      "cell_type": "code",
      "source": [
        "dato = 42\n",
        "print(\"Tipado dinámico:\")\n",
        "print(\"Valor:\", dato, \"Tipo:\", type(dato))\n",
        "\n",
        "dato = \"Ahora soy un string\"\n",
        "print(\"Valor:\", dato, \"Tipo:\", type(dato))\n",
        "\n",
        "dato = 3.14\n",
        "print(\"Valor:\", dato, \"Tipo:\", type(dato))\n",
        "print(\"-\" * 40)"
      ],
      "metadata": {
        "colab": {
          "base_uri": "https://localhost:8080/"
        },
        "id": "VXLrZOIYwt8q",
        "outputId": "d772b52b-d07c-4d59-c5e5-988c6c66bb81"
      },
      "execution_count": null,
      "outputs": [
        {
          "output_type": "stream",
          "name": "stdout",
          "text": [
            "Tipado dinámico:\n",
            "Valor: 42 Tipo: <class 'int'>\n",
            "Valor: Ahora soy un string Tipo: <class 'str'>\n",
            "Valor: 3.14 Tipo: <class 'float'>\n",
            "----------------------------------------\n"
          ]
        }
      ]
    },
    {
      "cell_type": "code",
      "source": [
        "# Conversión de tipos\n",
        "a = \"123\"\n",
        "a_entero = int(a)\n",
        "resultado = a_entero + 10\n",
        "\n",
        "print(\"Resultado:\", resultado)"
      ],
      "metadata": {
        "id": "yZYAxwxjFHWV"
      },
      "execution_count": null,
      "outputs": []
    },
    {
      "cell_type": "code",
      "source": [
        "valor = 10.5\n",
        "\n",
        "print(\"Verificación de tipo con isinstance:\")\n",
        "if isinstance(valor, float):\n",
        "    print(\"Es un número decimal\")\n",
        "elif isinstance(valor, int):\n",
        "    print(\"Es un número entero\")\n",
        "else:\n",
        "    print(\"Es otro tipo\")"
      ],
      "metadata": {
        "id": "L6vViXEtw4mb"
      },
      "execution_count": null,
      "outputs": []
    },
    {
      "cell_type": "code",
      "source": [
        "a = 0.1 + 0.2\n",
        "b = 0.3\n",
        "\n",
        "print(\"a =\", a)\n",
        "print(\"b =\", b)\n",
        "\n",
        "# ¿Son iguales?\n",
        "print(\"¿a == b?\", a == b)\n",
        "\n",
        "# Mostrar la diferencia exacta\n",
        "print(\"Diferencia:\", abs(a - b))"
      ],
      "metadata": {
        "colab": {
          "base_uri": "https://localhost:8080/"
        },
        "id": "XSu-H658xNN8",
        "outputId": "a8332e1f-931a-45d6-9119-f8f6055a22dd"
      },
      "execution_count": null,
      "outputs": [
        {
          "output_type": "stream",
          "name": "stdout",
          "text": [
            "a = 0.30000000000000004\n",
            "b = 0.3\n",
            "¿a == b? False\n",
            "Diferencia: 5.551115123125783e-17\n"
          ]
        }
      ]
    },
    {
      "cell_type": "code",
      "source": [
        "# Sumando un número muy pequeño muchas veces\n",
        "small = 1e-10\n",
        "total = 0.0\n",
        "\n",
        "for _ in range(10_000_000):\n",
        "    total += small\n",
        "\n",
        "# Resultado esperado: 1.0 (aproximadamente)\n",
        "print(\"Resultado esperado: 1.0\")\n",
        "print(\"Resultado real:    \", total)\n",
        "print(\"Diferencia:\", abs(1.0 - total))"
      ],
      "metadata": {
        "colab": {
          "base_uri": "https://localhost:8080/"
        },
        "id": "JB7Q2t06xWC6",
        "outputId": "e8f570ee-eaf6-4856-8f18-94bbe4ee186d"
      },
      "execution_count": null,
      "outputs": [
        {
          "output_type": "stream",
          "name": "stdout",
          "text": [
            "Resultado esperado: 1.0\n",
            "Resultado real:     0.0010000000001300626\n",
            "Diferencia: 0.99899999999987\n"
          ]
        }
      ]
    },
    {
      "cell_type": "code",
      "source": [
        "# Ejemplo de cancelación numérica\n",
        "a = 1e8\n",
        "b = 1\n",
        "c = a + b\n",
        "\n",
        "# Luego restamos a\n",
        "resultado = c - a\n",
        "\n",
        "print(\"Debería ser 1:\", resultado)"
      ],
      "metadata": {
        "colab": {
          "base_uri": "https://localhost:8080/"
        },
        "id": "SjzBbzKaxZM6",
        "outputId": "79e715a8-eb34-44ae-cc66-705324b732c3"
      },
      "execution_count": null,
      "outputs": [
        {
          "output_type": "stream",
          "name": "stdout",
          "text": [
            "Debería ser 1: 1.0\n"
          ]
        }
      ]
    },
    {
      "cell_type": "markdown",
      "source": [
        "## Estructuras de control"
      ],
      "metadata": {
        "id": "MO6T2B33xn43"
      }
    },
    {
      "cell_type": "code",
      "source": [
        "edad = 25\n",
        "\n",
        "if edad < 18:\n",
        "    print(\"Eres menor de edad\")\n",
        "elif edad < 65:\n",
        "    print(\"Eres adulto\")\n",
        "else:\n",
        "    print(\"Eres adulto mayor\")\n"
      ],
      "metadata": {
        "id": "Qy0hhyP-yPFl"
      },
      "execution_count": null,
      "outputs": []
    },
    {
      "cell_type": "code",
      "source": [
        "contador = 0\n",
        "\n",
        "while contador < 5:\n",
        "    print(\"Contador:\", contador)\n",
        "    contador += 1"
      ],
      "metadata": {
        "id": "FAmP3Gj2ySaz"
      },
      "execution_count": null,
      "outputs": []
    },
    {
      "cell_type": "code",
      "source": [
        "# Imprimir números del 1 al 10 con for\n",
        "for i in range(1, 11):\n",
        "    print(i)"
      ],
      "metadata": {
        "id": "3vS8BY1QFI_v"
      },
      "execution_count": null,
      "outputs": []
    },
    {
      "cell_type": "code",
      "source": [
        "i = 1\n",
        "suma = 0\n",
        "\n",
        "while i <= 100:\n",
        "    suma += i\n",
        "    i += 1\n",
        "\n",
        "print(\"Suma total:\", suma)"
      ],
      "metadata": {
        "id": "7oGbqsc0FKlF",
        "colab": {
          "base_uri": "https://localhost:8080/"
        },
        "outputId": "90aa062e-e7a6-48fa-c574-e0e002e09e3d"
      },
      "execution_count": null,
      "outputs": [
        {
          "output_type": "stream",
          "name": "stdout",
          "text": [
            "Suma total: 5050\n"
          ]
        }
      ]
    },
    {
      "cell_type": "code",
      "source": [
        "# Imprimir números pares del 1 al 20\n",
        "for i in range(1, 21):\n",
        "    if i % 2 == 0:\n",
        "        print(i)\n"
      ],
      "metadata": {
        "id": "efu9CAuqFMk_",
        "colab": {
          "base_uri": "https://localhost:8080/"
        },
        "outputId": "22b1220d-a4fb-41fe-893d-877cec96465f"
      },
      "execution_count": null,
      "outputs": [
        {
          "output_type": "stream",
          "name": "stdout",
          "text": [
            "2\n",
            "4\n",
            "6\n",
            "8\n",
            "10\n",
            "12\n",
            "14\n",
            "16\n",
            "18\n",
            "20\n"
          ]
        }
      ]
    },
    {
      "cell_type": "code",
      "source": [
        "colores = [\"rojo\", \"verde\", \"azul\"]\n",
        "\n",
        "for indice, color in enumerate(colores):\n",
        "    print(f\"Índice {indice}: {color}\")"
      ],
      "metadata": {
        "colab": {
          "base_uri": "https://localhost:8080/"
        },
        "id": "1G41hCoIyaYq",
        "outputId": "796de355-251f-4fa3-bef5-0a89d103ec9a"
      },
      "execution_count": null,
      "outputs": [
        {
          "output_type": "stream",
          "name": "stdout",
          "text": [
            "Índice 0: rojo\n",
            "Índice 1: verde\n",
            "Índice 2: azul\n"
          ]
        }
      ]
    },
    {
      "cell_type": "code",
      "source": [
        "n = 0\n",
        "\n",
        "while True:\n",
        "    n += 1\n",
        "    if n == 3:\n",
        "        print(\"Saltamos el 3\")\n",
        "        continue\n",
        "    if n > 5:\n",
        "        break\n",
        "    print(\"n =\", n)"
      ],
      "metadata": {
        "colab": {
          "base_uri": "https://localhost:8080/"
        },
        "id": "oD7I2fetynfu",
        "outputId": "a40cdd12-ebe7-4962-e5b9-004b109f04cc"
      },
      "execution_count": null,
      "outputs": [
        {
          "output_type": "stream",
          "name": "stdout",
          "text": [
            "n = 1\n",
            "n = 2\n",
            "Saltamos el 3\n",
            "n = 4\n",
            "n = 5\n"
          ]
        }
      ]
    },
    {
      "cell_type": "markdown",
      "source": [],
      "metadata": {
        "id": "jtMMy8YmytBQ"
      }
    },
    {
      "cell_type": "markdown",
      "source": [
        "## **Funciones**"
      ],
      "metadata": {
        "id": "_dAKKZtzx5VA"
      }
    },
    {
      "cell_type": "code",
      "source": [
        "def saludar(nombre):\n",
        "    print(\"¡Hola,\", nombre + \"!\")\n",
        "\n",
        "saludar(\"Carlos\")"
      ],
      "metadata": {
        "id": "Zk8YFfUZFN_E"
      },
      "execution_count": null,
      "outputs": []
    },
    {
      "cell_type": "code",
      "source": [
        "def es_par(n):\n",
        "    return n % 2 == 0\n",
        "\n",
        "print(es_par(4))  # True\n",
        "print(es_par(7))  # False"
      ],
      "metadata": {
        "id": "C_PFgiG6FRHG"
      },
      "execution_count": null,
      "outputs": []
    },
    {
      "cell_type": "code",
      "source": [
        "# Crear una lista de frutas\n",
        "frutas = [\"manzana\", \"banana\", \"naranja\", \"uva\"]\n",
        "\n",
        "# Acceder a elementos por índice\n",
        "print(frutas[0])  # manzana\n",
        "print(frutas[2])  # naranja\n",
        "\n",
        "# Último elemento\n",
        "print(frutas[-1])  # uva"
      ],
      "metadata": {
        "id": "yc-1b1olFT6l",
        "colab": {
          "base_uri": "https://localhost:8080/"
        },
        "outputId": "379abeb7-f12e-42f7-e6f6-34c2d0fc10c3"
      },
      "execution_count": null,
      "outputs": [
        {
          "output_type": "stream",
          "name": "stdout",
          "text": [
            "manzana\n",
            "naranja\n",
            "uva\n"
          ]
        }
      ]
    },
    {
      "cell_type": "code",
      "source": [
        "frutas[1] = \"pera\"\n",
        "print(frutas)  # ['manzana', 'pera', 'naranja', 'uva']"
      ],
      "metadata": {
        "id": "3Vw0q4PHFWA_",
        "colab": {
          "base_uri": "https://localhost:8080/"
        },
        "outputId": "ffc98bf9-2a0e-4034-a4ee-6c4fffac44a9"
      },
      "execution_count": null,
      "outputs": [
        {
          "output_type": "stream",
          "name": "stdout",
          "text": [
            "['manzana', 'pera', 'naranja', 'uva']\n"
          ]
        }
      ]
    },
    {
      "cell_type": "code",
      "source": [
        "for fruta in frutas:\n",
        "    print(\"Fruta:\", fruta)"
      ],
      "metadata": {
        "id": "MlDYjWPeFYB-",
        "colab": {
          "base_uri": "https://localhost:8080/"
        },
        "outputId": "fbf1ae94-504b-4bb0-c5f2-fc0203b7c8ca"
      },
      "execution_count": null,
      "outputs": [
        {
          "output_type": "stream",
          "name": "stdout",
          "text": [
            "Fruta: manzana\n",
            "Fruta: pera\n",
            "Fruta: naranja\n",
            "Fruta: uva\n"
          ]
        }
      ]
    },
    {
      "cell_type": "code",
      "source": [
        "if \"pera\" in frutas:\n",
        "    print(\"Sí, está en la lista\")\n",
        "\n",
        "# Contar elementos\n",
        "print(\"Cantidad de elementos:\", len(frutas))"
      ],
      "metadata": {
        "id": "rRF3SFKGFat8",
        "colab": {
          "base_uri": "https://localhost:8080/"
        },
        "outputId": "e4821efc-1c17-40e5-cf3d-a0c5264f8a59"
      },
      "execution_count": null,
      "outputs": [
        {
          "output_type": "stream",
          "name": "stdout",
          "text": [
            "Sí, está en la lista\n",
            "Cantidad de elementos: 4\n"
          ]
        }
      ]
    },
    {
      "cell_type": "code",
      "source": [
        "# Lista con diferentes tipos de datos\n",
        "mi_lista = [1, \"hola\", 3.14, True]\n",
        "print(mi_lista)\n",
        "\n",
        "# Lista dentro de otra lista (anidada)\n",
        "matriz = [[1, 2], [3, 4], [5, 6]]\n",
        "print(matriz[1][0])  # 3"
      ],
      "metadata": {
        "id": "SKWsWFLIFdK0",
        "colab": {
          "base_uri": "https://localhost:8080/"
        },
        "outputId": "d9ae2101-4f87-4a05-d670-9e4832ca196e"
      },
      "execution_count": null,
      "outputs": [
        {
          "output_type": "stream",
          "name": "stdout",
          "text": [
            "[1, 'hola', 3.14, True]\n",
            "3\n"
          ]
        }
      ]
    },
    {
      "cell_type": "markdown",
      "source": [
        "### Objetos"
      ],
      "metadata": {
        "id": "4HWThvApil-9"
      }
    },
    {
      "cell_type": "code",
      "source": [
        "class Person:\n",
        "  def __init__(self, name, age):\n",
        "    self.name = name\n",
        "    self.age = age\n",
        "\n",
        "p1 = Person(\"John\", 36)"
      ],
      "metadata": {
        "id": "JTG8dDZNim9J"
      },
      "execution_count": null,
      "outputs": []
    },
    {
      "cell_type": "code",
      "source": [
        "print(p1.name)\n",
        "print(p1.age)"
      ],
      "metadata": {
        "colab": {
          "base_uri": "https://localhost:8080/"
        },
        "id": "8eWWN8RdioHK",
        "outputId": "ee4d3b86-6334-4d86-c1b4-efe93d83a7d4"
      },
      "execution_count": null,
      "outputs": [
        {
          "output_type": "stream",
          "name": "stdout",
          "text": [
            "John\n",
            "36\n"
          ]
        }
      ]
    },
    {
      "cell_type": "markdown",
      "source": [
        "### Durante el curso utilizaremos algunas librerías básicas de manejo de datos, como numpy y pandas."
      ],
      "metadata": {
        "id": "JLHbbXr5iv_Q"
      }
    },
    {
      "cell_type": "code",
      "source": [
        "import numpy as np"
      ],
      "metadata": {
        "id": "UbxRAtl9ivmz"
      },
      "execution_count": null,
      "outputs": []
    },
    {
      "cell_type": "code",
      "source": [
        "example = np.array([1,4,3])"
      ],
      "metadata": {
        "id": "FWrvHNiHi8DV"
      },
      "execution_count": null,
      "outputs": []
    },
    {
      "cell_type": "code",
      "source": [
        "example.max()"
      ],
      "metadata": {
        "colab": {
          "base_uri": "https://localhost:8080/"
        },
        "id": "_ycWpUnsjGys",
        "outputId": "12170d2e-35cb-450d-9e8c-54aff5513fa4"
      },
      "execution_count": null,
      "outputs": [
        {
          "output_type": "execute_result",
          "data": {
            "text/plain": [
              "np.int64(4)"
            ]
          },
          "metadata": {},
          "execution_count": 10
        }
      ]
    },
    {
      "cell_type": "code",
      "source": [
        "example.sort()\n",
        "example"
      ],
      "metadata": {
        "colab": {
          "base_uri": "https://localhost:8080/"
        },
        "id": "nd5iYtP_jIyF",
        "outputId": "51bba7d5-f46f-4926-c76d-882ab33b9d41"
      },
      "execution_count": null,
      "outputs": [
        {
          "output_type": "execute_result",
          "data": {
            "text/plain": [
              "array([1, 3, 4])"
            ]
          },
          "metadata": {},
          "execution_count": 16
        }
      ]
    },
    {
      "cell_type": "code",
      "source": [
        "random_array = np.random.rand(10,10)"
      ],
      "metadata": {
        "id": "Pvt9jdoPjQyh"
      },
      "execution_count": null,
      "outputs": []
    },
    {
      "cell_type": "code",
      "source": [
        "random_array"
      ],
      "metadata": {
        "colab": {
          "base_uri": "https://localhost:8080/"
        },
        "id": "EDYwiW8WjhzU",
        "outputId": "e6acc6b2-286f-4a8f-ac92-fc00363c26f6"
      },
      "execution_count": null,
      "outputs": [
        {
          "output_type": "execute_result",
          "data": {
            "text/plain": [
              "array([[0.88898418, 0.23459182, 0.35812854, 0.30991748, 0.59190525,\n",
              "        0.11392249, 0.50910343, 0.56119565, 0.9236293 , 0.37125631],\n",
              "       [0.1386057 , 0.76753871, 0.23942087, 0.48789553, 0.96883424,\n",
              "        0.31415894, 0.56706095, 0.14247074, 0.7196943 , 0.72834616],\n",
              "       [0.87136194, 0.92557415, 0.89532693, 0.16708584, 0.63905773,\n",
              "        0.71896968, 0.68767611, 0.75058363, 0.55841672, 0.72080852],\n",
              "       [0.32342222, 0.6861211 , 0.95075868, 0.93755411, 0.76793795,\n",
              "        0.28222054, 0.63136028, 0.69751464, 0.24331958, 0.084045  ],\n",
              "       [0.22057258, 0.1851987 , 0.20970739, 0.46019915, 0.03324903,\n",
              "        0.41147162, 0.49961133, 0.10669514, 0.35294929, 0.94164517],\n",
              "       [0.98045396, 0.32564251, 0.57121022, 0.68551732, 0.78935991,\n",
              "        0.17910229, 0.37171039, 0.1475635 , 0.72120313, 0.89744213],\n",
              "       [0.91224509, 0.07557114, 0.15453679, 0.64616022, 0.4343657 ,\n",
              "        0.69558436, 0.1453352 , 0.61200372, 0.39644383, 0.60337224],\n",
              "       [0.97173786, 0.83503223, 0.93848769, 0.92507532, 0.35517424,\n",
              "        0.10750339, 0.31124943, 0.55845238, 0.36227686, 0.79409227],\n",
              "       [0.23100322, 0.50447401, 0.35824638, 0.57848429, 0.0951664 ,\n",
              "        0.97719275, 0.95596568, 0.22890715, 0.62164045, 0.20893473],\n",
              "       [0.09247827, 0.17140276, 0.69094442, 0.71633729, 0.12372978,\n",
              "        0.20245063, 0.02344319, 0.48422331, 0.44739544, 0.2961902 ]])"
            ]
          },
          "metadata": {},
          "execution_count": 25
        }
      ]
    },
    {
      "cell_type": "markdown",
      "source": [
        "### Implementación de un algoritmo"
      ],
      "metadata": {
        "id": "vtBAF6ULmwQM"
      }
    },
    {
      "cell_type": "code",
      "source": [
        "def burbuja(lista):\n",
        "    n = len(lista)\n",
        "    for i in range(n):\n",
        "        for j in range(0, n - i - 1):\n",
        "            if lista[j] > lista[j + 1]:\n",
        "                # Intercambiar los elementos si están en el orden incorrecto\n",
        "                lista[j], lista[j + 1] = lista[j + 1], lista[j]\n",
        "    return lista\n",
        "\n",
        "# Ejemplo de uso\n",
        "numeros = [5, 3, 8, 4, 2]\n",
        "print(\"Lista original:\", numeros)\n",
        "ordenada = burbuja(numeros.copy())\n",
        "print(\"Lista ordenada:\", ordenada)"
      ],
      "metadata": {
        "id": "xSIQFtxamcE5",
        "colab": {
          "base_uri": "https://localhost:8080/"
        },
        "outputId": "ed15718a-ff27-438b-e791-d91e333a2cad"
      },
      "execution_count": null,
      "outputs": [
        {
          "output_type": "stream",
          "name": "stdout",
          "text": [
            "Lista original: [5, 3, 8, 4, 2]\n",
            "Lista ordenada: [2, 3, 4, 5, 8]\n"
          ]
        }
      ]
    },
    {
      "cell_type": "markdown",
      "source": [
        "### Algo más complicado"
      ],
      "metadata": {
        "id": "ur668yspjzCs"
      }
    },
    {
      "cell_type": "code",
      "source": [
        "import matplotlib.pyplot as plt\n",
        "import numpy as np\n",
        "\n",
        "from sklearn import datasets, linear_model\n",
        "from sklearn.metrics import mean_squared_error, r2_score"
      ],
      "metadata": {
        "id": "ABbJiNe8qwQY"
      },
      "execution_count": null,
      "outputs": []
    },
    {
      "cell_type": "code",
      "source": [
        "diabetes_X, diabetes_y = datasets.load_diabetes(return_X_y=True)\n",
        "diabetes_X = diabetes_X[:, np.newaxis, 2]\n",
        "\n",
        "diabetes_X_train = diabetes_X[:-20]\n",
        "diabetes_X_test = diabetes_X[-20:]\n",
        "\n",
        "diabetes_y_train = diabetes_y[:-20]\n",
        "diabetes_y_test = diabetes_y[-20:]"
      ],
      "metadata": {
        "id": "C8PjktGBkzZC"
      },
      "execution_count": null,
      "outputs": []
    },
    {
      "cell_type": "code",
      "source": [
        "# Create linear regression object\n",
        "regr = linear_model.LinearRegression()\n",
        "\n",
        "# Train the model using the training sets\n",
        "regr.fit(diabetes_X_train, diabetes_y_train)\n",
        "\n",
        "# Make predictions using the testing set\n",
        "diabetes_y_pred = regr.predict(diabetes_X_test)\n",
        "\n",
        "plt.scatter(diabetes_X_test, diabetes_y_test, color=\"black\")\n",
        "plt.plot(diabetes_X_test, diabetes_y_pred, color=\"blue\", linewidth=3)\n",
        "plt.xticks(())\n",
        "plt.yticks(())\n",
        "plt.show()"
      ],
      "metadata": {
        "colab": {
          "base_uri": "https://localhost:8080/",
          "height": 406
        },
        "id": "X7S3t-_ooPFM",
        "outputId": "74ee3a1a-3c60-4334-b526-45141313258c"
      },
      "execution_count": null,
      "outputs": [
        {
          "output_type": "display_data",
          "data": {
            "text/plain": [
              "<Figure size 640x480 with 1 Axes>"
            ],
            "image/png": "[encoded data removed]"
          },
          "metadata": {}
        }
      ]
    },
    {
      "cell_type": "markdown",
      "source": [
        "Podemos acceder a información del modelo que acabamos de hacer? Claro que si"
      ],
      "metadata": {
        "id": "Bgr55k9vrRdJ"
      }
    },
    {
      "cell_type": "code",
      "source": [
        "regr.coef_"
      ],
      "metadata": {
        "colab": {
          "base_uri": "https://localhost:8080/"
        },
        "id": "2rKfVOIArIXi",
        "outputId": "90e5d0fb-a22e-4709-f308-8e7386b73499"
      },
      "execution_count": null,
      "outputs": [
        {
          "output_type": "execute_result",
          "data": {
            "text/plain": [
              "array([938.23786125])"
            ]
          },
          "metadata": {},
          "execution_count": 118
        }
      ]
    },
    {
      "cell_type": "code",
      "source": [
        "regr.intercept_"
      ],
      "metadata": {
        "colab": {
          "base_uri": "https://localhost:8080/"
        },
        "id": "01IehRhoqss2",
        "outputId": "fc22d16b-b69a-496d-f0f9-aea13dedd518"
      },
      "execution_count": null,
      "outputs": [
        {
          "output_type": "execute_result",
          "data": {
            "text/plain": [
              "np.float64(152.91886182616113)"
            ]
          },
          "metadata": {},
          "execution_count": 119
        }
      ]
    },
    {
      "cell_type": "code",
      "source": [
        "regr.n_features_in_"
      ],
      "metadata": {
        "colab": {
          "base_uri": "https://localhost:8080/"
        },
        "id": "il8Q8fqmrLlf",
        "outputId": "3e2ed6eb-487f-4555-cfdf-ea9afbdb2d1d"
      },
      "execution_count": null,
      "outputs": [
        {
          "output_type": "execute_result",
          "data": {
            "text/plain": [
              "1"
            ]
          },
          "metadata": {},
          "execution_count": 120
        }
      ]
    },
    {
      "cell_type": "code",
      "source": [],
      "metadata": {
        "id": "HfIwnIsfrP6V"
      },
      "execution_count": null,
      "outputs": []
    }
  ]
}
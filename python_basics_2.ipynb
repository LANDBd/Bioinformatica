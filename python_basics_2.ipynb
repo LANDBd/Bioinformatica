{
  "cells": [
    {
      "cell_type": "markdown",
      "metadata": {
        "id": "69Ltm9SA9Hx6"
      },
      "source": [
        "### Funciones en Python"
      ]
    },
    {
      "cell_type": "code",
      "execution_count": 1,
      "metadata": {
        "id": "ww0kbCuSGoTT"
      },
      "outputs": [],
      "source": [
        "import time\n",
        "from math import sqrt"
      ]
    },
    {
      "cell_type": "code",
      "execution_count": 5,
      "metadata": {},
      "outputs": [],
      "source": [
        "# 1+1"
      ]
    },
    {
      "cell_type": "code",
      "execution_count": 40,
      "metadata": {},
      "outputs": [],
      "source": [
        "def suma(a,b,c=10):\n",
        "    # Operaciones \n",
        "    doble = 2*a\n",
        "    triple = 3*b\n",
        "    ocho = 8*c\n",
        "\n",
        "    print(ocho)\n",
        "\n",
        "    return doble + triple + ocho "
      ]
    },
    {
      "cell_type": "code",
      "execution_count": 41,
      "metadata": {},
      "outputs": [
        {
          "name": "stdout",
          "output_type": "stream",
          "text": [
            "160\n"
          ]
        },
        {
          "data": {
            "text/plain": [
              "168"
            ]
          },
          "execution_count": 41,
          "metadata": {},
          "output_type": "execute_result"
        }
      ],
      "source": [
        "suma(1,2, 20) #1,2,10"
      ]
    },
    {
      "cell_type": "code",
      "execution_count": 4,
      "metadata": {
        "colab": {
          "base_uri": "https://localhost:8080/"
        },
        "id": "MWmgahdK9HlT",
        "outputId": "58c9c9e5-d7b0-467d-d9eb-01a80ed391e7"
      },
      "outputs": [
        {
          "name": "stdout",
          "output_type": "stream",
          "text": [
            "Hola, Ximena!\n"
          ]
        }
      ],
      "source": [
        "def saludar(nombre):\n",
        "    return f\"Hola, {nombre}!\"\n",
        "\n",
        "print(saludar(\"Ximena\"))"
      ]
    },
    {
      "cell_type": "code",
      "execution_count": 11,
      "metadata": {
        "colab": {
          "base_uri": "https://localhost:8080/"
        },
        "id": "mIUXnQPw9KLc",
        "outputId": "8e3d1e7d-7bb9-4a57-e20f-0ac4d7e296d7"
      },
      "outputs": [
        {
          "name": "stdout",
          "output_type": "stream",
          "text": [
            "(3, 1)\n",
            "3 1\n"
          ]
        }
      ],
      "source": [
        "def dividir(dividendo, divisor):\n",
        "    cociente = dividendo // divisor\n",
        "    resto = dividendo % divisor\n",
        "    return cociente, resto\n",
        "\n",
        "resultado = dividir(10, 3)\n",
        "print(resultado)\n",
        "cociente, resto = dividir(10, 3)\n",
        "print(cociente, resto)"
      ]
    },
    {
      "cell_type": "code",
      "execution_count": 12,
      "metadata": {
        "colab": {
          "base_uri": "https://localhost:8080/"
        },
        "id": "AIjZdTld9SbX",
        "outputId": "0b6a9261-e55a-4580-cd6e-75ea46717154"
      },
      "outputs": [
        {
          "name": "stdout",
          "output_type": "stream",
          "text": [
            "Args: (1, 2, 3)\n",
            "Kwargs: {'a': 10, 'b': 20, 'c': 30}\n"
          ]
        }
      ],
      "source": [
        "def mostrar_args_kwargs(*args, **kwargs):\n",
        "    print(\"Args:\", args)\n",
        "    print(\"Kwargs:\", kwargs)\n",
        "\n",
        "mostrar_args_kwargs(1, 2, 3, a=10, b=20, c = 30)"
      ]
    },
    {
      "cell_type": "code",
      "execution_count": 13,
      "metadata": {
        "id": "8ucVFfZ3FW7G"
      },
      "outputs": [],
      "source": [
        "def es_primo(n):\n",
        "\n",
        "  if(n==1):\n",
        "    return False\n",
        "\n",
        "  for i in range(2,n):\n",
        "    if(n % i == 0):\n",
        "      return False\n",
        "  \n",
        "  return True"
      ]
    },
    {
      "cell_type": "code",
      "execution_count": 17,
      "metadata": {},
      "outputs": [
        {
          "data": {
            "text/plain": [
              "False"
            ]
          },
          "execution_count": 17,
          "metadata": {},
          "output_type": "execute_result"
        }
      ],
      "source": [
        "es_primo(12)"
      ]
    },
    {
      "cell_type": "code",
      "execution_count": 14,
      "metadata": {
        "colab": {
          "base_uri": "https://localhost:8080/",
          "height": 266
        },
        "id": "8dX6srWxFyll",
        "outputId": "cbda769a-0507-4340-fcb8-5761a9e62eff"
      },
      "outputs": [
        {
          "ename": "KeyboardInterrupt",
          "evalue": "",
          "output_type": "error",
          "traceback": [
            "\u001b[1;31m---------------------------------------------------------------------------\u001b[0m",
            "\u001b[1;31mKeyboardInterrupt\u001b[0m                         Traceback (most recent call last)",
            "Cell \u001b[1;32mIn[14], line 1\u001b[0m\n\u001b[1;32m----> 1\u001b[0m \u001b[43mes_primo\u001b[49m\u001b[43m(\u001b[49m\u001b[38;5;241;43m29996224275833\u001b[39;49m\u001b[43m)\u001b[49m\n",
            "Cell \u001b[1;32mIn[13], line 7\u001b[0m, in \u001b[0;36mes_primo\u001b[1;34m(n)\u001b[0m\n\u001b[0;32m      4\u001b[0m   \u001b[38;5;28;01mreturn\u001b[39;00m \u001b[38;5;28;01mFalse\u001b[39;00m\n\u001b[0;32m      6\u001b[0m \u001b[38;5;28;01mfor\u001b[39;00m i \u001b[38;5;129;01min\u001b[39;00m \u001b[38;5;28mrange\u001b[39m(\u001b[38;5;241m2\u001b[39m,n):\n\u001b[1;32m----> 7\u001b[0m   \u001b[38;5;28;01mif\u001b[39;00m(\u001b[43mn\u001b[49m\u001b[43m \u001b[49m\u001b[38;5;241;43m%\u001b[39;49m\u001b[43m \u001b[49m\u001b[43mi\u001b[49m \u001b[38;5;241m==\u001b[39m \u001b[38;5;241m0\u001b[39m):\n\u001b[0;32m      8\u001b[0m     \u001b[38;5;28;01mreturn\u001b[39;00m \u001b[38;5;28;01mFalse\u001b[39;00m\n\u001b[0;32m     10\u001b[0m \u001b[38;5;28;01mreturn\u001b[39;00m \u001b[38;5;28;01mTrue\u001b[39;00m\n",
            "\u001b[1;31mKeyboardInterrupt\u001b[0m: "
          ]
        }
      ],
      "source": [
        "es_primo(29996224275833)"
      ]
    },
    {
      "cell_type": "code",
      "execution_count": 18,
      "metadata": {
        "id": "TVHFF0hSGTWe"
      },
      "outputs": [],
      "source": [
        "def es_primo_rapido(n):\n",
        "\n",
        "  if(n==1):\n",
        "    return False\n",
        "\n",
        "  for i in range(2,int(sqrt(n) + 1)):\n",
        "    if(n % i == 0):\n",
        "      return False\n",
        "\n",
        "  return True"
      ]
    },
    {
      "cell_type": "code",
      "execution_count": 22,
      "metadata": {},
      "outputs": [
        {
          "data": {
            "text/plain": [
              "False"
            ]
          },
          "execution_count": 22,
          "metadata": {},
          "output_type": "execute_result"
        }
      ],
      "source": [
        "es_primo_rapido(54)"
      ]
    },
    {
      "cell_type": "code",
      "execution_count": 34,
      "metadata": {},
      "outputs": [
        {
          "data": {
            "text/plain": [
              "5476880.889323138"
            ]
          },
          "execution_count": 34,
          "metadata": {},
          "output_type": "execute_result"
        }
      ],
      "source": [
        "sqrt(29996224275833)"
      ]
    },
    {
      "cell_type": "code",
      "execution_count": 33,
      "metadata": {
        "colab": {
          "base_uri": "https://localhost:8080/"
        },
        "id": "5qMv5fXVGkC7",
        "outputId": "60426987-87e5-4ec1-a180-2495b3b813f0"
      },
      "outputs": [
        {
          "data": {
            "text/plain": [
              "True"
            ]
          },
          "execution_count": 33,
          "metadata": {},
          "output_type": "execute_result"
        }
      ],
      "source": [
        "es_primo_rapido(29996224275833)"
      ]
    },
    {
      "cell_type": "markdown",
      "metadata": {
        "id": "j9SI7RHR92_1"
      },
      "source": [
        "# Recursividad"
      ]
    },
    {
      "cell_type": "code",
      "execution_count": 35,
      "metadata": {
        "colab": {
          "base_uri": "https://localhost:8080/"
        },
        "id": "iAcahRYJ94se",
        "outputId": "4853097a-70e5-4ca2-d69e-2e056103d952"
      },
      "outputs": [
        {
          "name": "stdout",
          "output_type": "stream",
          "text": [
            "120\n"
          ]
        }
      ],
      "source": [
        "def factorial(n):\n",
        "    if n < 0:\n",
        "        raise ValueError(\"El número debe ser no negativo\")\n",
        "    if n == 0 or n == 1:\n",
        "        return 1\n",
        "    return n * factorial(n - 1)\n",
        "\n",
        "print(factorial(5))"
      ]
    },
    {
      "cell_type": "code",
      "execution_count": 43,
      "metadata": {},
      "outputs": [
        {
          "ename": "RecursionError",
          "evalue": "maximum recursion depth exceeded",
          "output_type": "error",
          "traceback": [
            "\u001b[1;31m---------------------------------------------------------------------------\u001b[0m",
            "\u001b[1;31mRecursionError\u001b[0m                            Traceback (most recent call last)",
            "Cell \u001b[1;32mIn[43], line 1\u001b[0m\n\u001b[1;32m----> 1\u001b[0m \u001b[43mfactorial\u001b[49m\u001b[43m(\u001b[49m\u001b[38;5;241;43m10000000\u001b[39;49m\u001b[43m)\u001b[49m\n",
            "Cell \u001b[1;32mIn[35], line 6\u001b[0m, in \u001b[0;36mfactorial\u001b[1;34m(n)\u001b[0m\n\u001b[0;32m      4\u001b[0m \u001b[38;5;28;01mif\u001b[39;00m n \u001b[38;5;241m==\u001b[39m \u001b[38;5;241m0\u001b[39m \u001b[38;5;129;01mor\u001b[39;00m n \u001b[38;5;241m==\u001b[39m \u001b[38;5;241m1\u001b[39m:\n\u001b[0;32m      5\u001b[0m     \u001b[38;5;28;01mreturn\u001b[39;00m \u001b[38;5;241m1\u001b[39m\n\u001b[1;32m----> 6\u001b[0m \u001b[38;5;28;01mreturn\u001b[39;00m n \u001b[38;5;241m*\u001b[39m \u001b[43mfactorial\u001b[49m\u001b[43m(\u001b[49m\u001b[43mn\u001b[49m\u001b[43m \u001b[49m\u001b[38;5;241;43m-\u001b[39;49m\u001b[43m \u001b[49m\u001b[38;5;241;43m1\u001b[39;49m\u001b[43m)\u001b[49m\n",
            "Cell \u001b[1;32mIn[35], line 6\u001b[0m, in \u001b[0;36mfactorial\u001b[1;34m(n)\u001b[0m\n\u001b[0;32m      4\u001b[0m \u001b[38;5;28;01mif\u001b[39;00m n \u001b[38;5;241m==\u001b[39m \u001b[38;5;241m0\u001b[39m \u001b[38;5;129;01mor\u001b[39;00m n \u001b[38;5;241m==\u001b[39m \u001b[38;5;241m1\u001b[39m:\n\u001b[0;32m      5\u001b[0m     \u001b[38;5;28;01mreturn\u001b[39;00m \u001b[38;5;241m1\u001b[39m\n\u001b[1;32m----> 6\u001b[0m \u001b[38;5;28;01mreturn\u001b[39;00m n \u001b[38;5;241m*\u001b[39m \u001b[43mfactorial\u001b[49m\u001b[43m(\u001b[49m\u001b[43mn\u001b[49m\u001b[43m \u001b[49m\u001b[38;5;241;43m-\u001b[39;49m\u001b[43m \u001b[49m\u001b[38;5;241;43m1\u001b[39;49m\u001b[43m)\u001b[49m\n",
            "    \u001b[1;31m[... skipping similar frames: factorial at line 6 (2974 times)]\u001b[0m\n",
            "Cell \u001b[1;32mIn[35], line 6\u001b[0m, in \u001b[0;36mfactorial\u001b[1;34m(n)\u001b[0m\n\u001b[0;32m      4\u001b[0m \u001b[38;5;28;01mif\u001b[39;00m n \u001b[38;5;241m==\u001b[39m \u001b[38;5;241m0\u001b[39m \u001b[38;5;129;01mor\u001b[39;00m n \u001b[38;5;241m==\u001b[39m \u001b[38;5;241m1\u001b[39m:\n\u001b[0;32m      5\u001b[0m     \u001b[38;5;28;01mreturn\u001b[39;00m \u001b[38;5;241m1\u001b[39m\n\u001b[1;32m----> 6\u001b[0m \u001b[38;5;28;01mreturn\u001b[39;00m n \u001b[38;5;241m*\u001b[39m \u001b[43mfactorial\u001b[49m\u001b[43m(\u001b[49m\u001b[43mn\u001b[49m\u001b[43m \u001b[49m\u001b[38;5;241;43m-\u001b[39;49m\u001b[43m \u001b[49m\u001b[38;5;241;43m1\u001b[39;49m\u001b[43m)\u001b[49m\n",
            "\u001b[1;31mRecursionError\u001b[0m: maximum recursion depth exceeded"
          ]
        }
      ],
      "source": [
        "factorial(10000000)"
      ]
    },
    {
      "cell_type": "code",
      "execution_count": 44,
      "metadata": {
        "id": "EsjtbNJoDu2_"
      },
      "outputs": [],
      "source": [
        "def fibonacci(n):\n",
        "  # Esta función regresa el n-ésimo término de Fibonacci\n",
        "\n",
        "  if(n==1):\n",
        "    return 0\n",
        "  elif(n==2):\n",
        "    return 1\n",
        "  else:\n",
        "    return fibonacci(n-1) + fibonacci(n-2)"
      ]
    },
    {
      "cell_type": "code",
      "execution_count": 45,
      "metadata": {},
      "outputs": [
        {
          "data": {
            "text/plain": [
              "8"
            ]
          },
          "execution_count": 45,
          "metadata": {},
          "output_type": "execute_result"
        }
      ],
      "source": [
        "fibonacci(7)"
      ]
    },
    {
      "cell_type": "code",
      "execution_count": 46,
      "metadata": {
        "id": "w6s7YnuwEgJU"
      },
      "outputs": [],
      "source": [
        "import time"
      ]
    },
    {
      "cell_type": "code",
      "execution_count": 51,
      "metadata": {
        "colab": {
          "base_uri": "https://localhost:8080/"
        },
        "id": "t3xL4_85EI81",
        "outputId": "a6989800-ed27-4817-ae11-e6daf3159e26"
      },
      "outputs": [
        {
          "name": "stdout",
          "output_type": "stream",
          "text": [
            "El termino de fibonacci calculado es 63245986\n",
            "9.042293548583984\n"
          ]
        }
      ],
      "source": [
        "inicio = time.time()\n",
        "numero = fibonacci(40)\n",
        "fin = time.time()\n",
        "\n",
        "print(f'El termino de fibonacci calculado es {numero}')\n",
        "print(fin - inicio)"
      ]
    },
    {
      "cell_type": "markdown",
      "metadata": {
        "id": "vvojNoTV-pcX"
      },
      "source": [
        "# Funciones lambda"
      ]
    },
    {
      "cell_type": "code",
      "execution_count": 53,
      "metadata": {
        "id": "QwZl8Rjz9WUT"
      },
      "outputs": [
        {
          "name": "stdout",
          "output_type": "stream",
          "text": [
            "50\n"
          ]
        }
      ],
      "source": [
        "function_lambda = lambda x: x * 10\n",
        "print(function_lambda(5))  # Output: 10"
      ]
    },
    {
      "cell_type": "code",
      "execution_count": 54,
      "metadata": {
        "id": "LQYoXRY59Xy4"
      },
      "outputs": [
        {
          "name": "stdout",
          "output_type": "stream",
          "text": [
            "7\n"
          ]
        }
      ],
      "source": [
        "sumar = lambda a, b: a + b\n",
        "print(sumar(3, 4))  # Output: 7"
      ]
    },
    {
      "cell_type": "code",
      "execution_count": 55,
      "metadata": {
        "id": "CZ5VS9bl9aG5"
      },
      "outputs": [
        {
          "name": "stdout",
          "output_type": "stream",
          "text": [
            "[1, 4, 9, 16]\n"
          ]
        }
      ],
      "source": [
        "numeros = [1, 2, 3, 4]\n",
        "cuadrados = list(map(lambda x: x ** 2, numeros))\n",
        "print(cuadrados)"
      ]
    },
    {
      "cell_type": "code",
      "execution_count": 56,
      "metadata": {
        "id": "h2jKGo1i9cFU"
      },
      "outputs": [
        {
          "name": "stdout",
          "output_type": "stream",
          "text": [
            "[2, 4, 6]\n"
          ]
        }
      ],
      "source": [
        "numeros = [1, 2, 3, 4, 5, 6]\n",
        "pares = list(filter(lambda x: x % 2 == 0, numeros))\n",
        "print(pares)"
      ]
    },
    {
      "cell_type": "markdown",
      "metadata": {
        "id": "439ZkgGE-s1Y"
      },
      "source": [
        "# Algo más complicado"
      ]
    },
    {
      "cell_type": "code",
      "execution_count": null,
      "metadata": {
        "id": "eL6po-SI8ZGl"
      },
      "outputs": [],
      "source": [
        "def burbuja(lista):\n",
        "    n = len(lista)\n",
        "    for i in range(n):\n",
        "        for j in range(0, n - i - 1):\n",
        "            if lista[j] > lista[j + 1]:\n",
        "                # Intercambiar los elementos si están en el orden incorrecto\n",
        "                lista[j], lista[j + 1] = lista[j + 1], lista[j]\n",
        "    return lista\n",
        "\n",
        "# Ejemplo de uso\n",
        "numeros = [5, 3, 8, 4, 2]\n",
        "print(\"Lista original:\", numeros)\n",
        "ordenada = burbuja(numeros.copy())\n",
        "print(\"Lista ordenada:\", ordenada)"
      ]
    },
    {
      "cell_type": "markdown",
      "metadata": {
        "id": "izfixOo7BMO2"
      },
      "source": [
        "### Ejercicios\n",
        "\n",
        "1. Escribe una función que permita convertir de grados Fahrenheit a Celsius y viceversa.\n",
        "\n",
        "2. Escribe una función que, dada una lista de números, regrese la distancia mínima y máxima entre los números dentro de esa lista.\n",
        "\n",
        "2. Escribe una función que dada una cadena de caracteres regrese un diccionario que contenga el número de veces que aparece cada caracter. (Ejemplo, 'AABC' debe regresar {'A':2, 'B': 1, 'C':1})"
      ]
    },
    {
      "cell_type": "markdown",
      "metadata": {
        "id": "PhAIC5iZ_Ye0"
      },
      "source": [
        "# Programación orientada a objetos"
      ]
    },
    {
      "cell_type": "code",
      "execution_count": 3,
      "metadata": {
        "colab": {
          "base_uri": "https://localhost:8080/"
        },
        "id": "tn1QzUIV_YJi",
        "outputId": "5539c8a5-d078-44ce-bc10-5b779ca0dca2"
      },
      "outputs": [
        {
          "name": "stdout",
          "output_type": "stream",
          "text": [
            "Hola, me llamo Andres y tengo 30 años.\n"
          ]
        }
      ],
      "source": [
        "class Persona:\n",
        "    def __init__(self, nombre, edad):\n",
        "        self.nombre = nombre\n",
        "        self.edad = edad\n",
        "\n",
        "    def saludar(self):\n",
        "        return f\"Hola, me llamo {self.nombre} y tengo {self.edad} años.\"\n",
        "\n",
        "# Uso\n",
        "p1 = Persona(\"Andres\", 30)\n",
        "print(p1.saludar())"
      ]
    },
    {
      "cell_type": "markdown",
      "metadata": {},
      "source": [
        "### Atributos e instancias de una clase"
      ]
    },
    {
      "cell_type": "markdown",
      "metadata": {},
      "source": [
        "Una primera clase"
      ]
    },
    {
      "cell_type": "code",
      "execution_count": 10,
      "metadata": {},
      "outputs": [
        {
          "name": "stdout",
          "output_type": "stream",
          "text": [
            "Saldo de Pedro: 120\n"
          ]
        }
      ],
      "source": [
        "class CuentaBancaria:\n",
        "    def __init__(self, titular, saldo=0):\n",
        "        self.titular = titular\n",
        "        self.saldo = saldo\n",
        "\n",
        "    def depositar(self, cantidad):\n",
        "        self.saldo += cantidad\n",
        "\n",
        "    def retirar(self, cantidad):\n",
        "        if cantidad <= self.saldo:\n",
        "            self.saldo -= cantidad\n",
        "        else:\n",
        "            print(\"Fondos insuficientes.\")\n",
        "\n",
        "    def mostrar_saldo(self):\n",
        "        return f\"Saldo de {self.titular}: {self.saldo}\"\n",
        "\n",
        "# Uso\n",
        "cuenta = CuentaBancaria(\"Pedro\", 100)\n",
        "cuenta.depositar(50)\n",
        "cuenta.retirar(30)\n",
        "print(cuenta.mostrar_saldo())"
      ]
    },
    {
      "cell_type": "markdown",
      "metadata": {},
      "source": [
        "Atributos de instancia y clase"
      ]
    },
    {
      "cell_type": "code",
      "execution_count": 15,
      "metadata": {},
      "outputs": [],
      "source": [
        "class Persona:\n",
        "    # Atributo de clase (compartido entre todas las instancias)\n",
        "    especie = \"Homo sapiens\"\n",
        "    \n",
        "    def __init__(self, nombre, edad):\n",
        "        # Atributos de instancia (específicos de cada objeto)\n",
        "        self.nombre = nombre\n",
        "        self.edad = edad\n",
        "\n",
        "    def presentar(self):\n",
        "        # Método que accede a atributos de instancia\n",
        "        print(f\"Hola, mi nombre es {self.nombre} y tengo {self.edad} años.\")\n"
      ]
    },
    {
      "cell_type": "code",
      "execution_count": 16,
      "metadata": {},
      "outputs": [
        {
          "name": "stdout",
          "output_type": "stream",
          "text": [
            "Hola, mi nombre es Carlos y tengo 30 años.\n",
            "Hola, mi nombre es Ana y tengo 25 años.\n"
          ]
        }
      ],
      "source": [
        "# Crear instancias\n",
        "persona1 = Persona(\"Carlos\", 30)\n",
        "persona2 = Persona(\"Ana\", 25)\n",
        "\n",
        "# Llamada a métodos\n",
        "persona1.presentar()\n",
        "persona2.presentar()"
      ]
    },
    {
      "cell_type": "markdown",
      "metadata": {},
      "source": [
        "Ejemplo de atributo de instancia"
      ]
    },
    {
      "cell_type": "code",
      "execution_count": 18,
      "metadata": {},
      "outputs": [
        {
          "data": {
            "text/plain": [
              "'Carlos'"
            ]
          },
          "execution_count": 18,
          "metadata": {},
          "output_type": "execute_result"
        }
      ],
      "source": [
        "persona1.nombre"
      ]
    },
    {
      "cell_type": "markdown",
      "metadata": {},
      "source": [
        "Ejemplo de atributo de clase"
      ]
    },
    {
      "cell_type": "code",
      "execution_count": 17,
      "metadata": {},
      "outputs": [
        {
          "data": {
            "text/plain": [
              "'Homo sapiens'"
            ]
          },
          "execution_count": 17,
          "metadata": {},
          "output_type": "execute_result"
        }
      ],
      "source": [
        "Persona.especie"
      ]
    },
    {
      "cell_type": "markdown",
      "metadata": {},
      "source": [
        "Método de clase"
      ]
    },
    {
      "cell_type": "code",
      "execution_count": 11,
      "metadata": {},
      "outputs": [],
      "source": [
        "class Carro:\n",
        "    # Atributo de clase\n",
        "    marca = \"Toyota\"\n",
        "\n",
        "    def __init__(self, modelo, color):\n",
        "        self.modelo = modelo\n",
        "        self.color = color\n",
        "\n",
        "    @classmethod\n",
        "    def cambiar_marca(cls, nueva_marca):\n",
        "        cls.marca = nueva_marca\n",
        "        print(f\"Marca cambiada a {cls.marca}\")"
      ]
    },
    {
      "cell_type": "code",
      "execution_count": 21,
      "metadata": {},
      "outputs": [
        {
          "name": "stdout",
          "output_type": "stream",
          "text": [
            "Marca cambiada a Ford\n",
            "La marca del carro es ahora: Ford\n"
          ]
        }
      ],
      "source": [
        "# Crear una instancia\n",
        "mi_carro = Carro(\"Fusion\", \"Rojo\")\n",
        "\n",
        "# Llamar al método de clase para cambiar la marca\n",
        "Carro.cambiar_marca(\"Ford\")\n",
        "\n",
        "# Verificar el cambio de marca\n",
        "print(f\"La marca del carro es ahora: {mi_carro.marca}\")"
      ]
    },
    {
      "cell_type": "code",
      "execution_count": 22,
      "metadata": {},
      "outputs": [
        {
          "data": {
            "text/plain": [
              "'Fusion'"
            ]
          },
          "execution_count": 22,
          "metadata": {},
          "output_type": "execute_result"
        }
      ],
      "source": [
        "mi_carro.modelo"
      ]
    },
    {
      "cell_type": "markdown",
      "metadata": {},
      "source": [
        "Métodos especiales"
      ]
    },
    {
      "cell_type": "code",
      "execution_count": 25,
      "metadata": {},
      "outputs": [],
      "source": [
        "class Punto:\n",
        "    def __init__(self, x, y):\n",
        "        self.x = x\n",
        "        self.y = y\n",
        "\n",
        "    # Método para la representación del objeto\n",
        "    def __repr__(self):\n",
        "        return f\"Punto({self.x}, {self.y})\"\n",
        "\n",
        "    # Método para sumar puntos\n",
        "    def __add__(self, otro_punto):\n",
        "        return Punto(self.x + otro_punto.x, self.y + otro_punto.y)\n"
      ]
    },
    {
      "cell_type": "code",
      "execution_count": 26,
      "metadata": {},
      "outputs": [
        {
          "name": "stdout",
          "output_type": "stream",
          "text": [
            "Punto(7, 10)\n"
          ]
        }
      ],
      "source": [
        "# Crear dos instancias de Punto\n",
        "punto1 = Punto(2, 3)\n",
        "punto2 = Punto(5, 7)\n",
        "\n",
        "# Sumar los puntos\n",
        "resultado = punto1 + punto2\n",
        "print(resultado)  "
      ]
    },
    {
      "cell_type": "markdown",
      "metadata": {},
      "source": [
        "### Ejercicio"
      ]
    },
    {
      "cell_type": "markdown",
      "metadata": {},
      "source": [
        "1. Construye una clase cuyo objeto sea un vector en $\\mathbb{R}^n$ ($n$ siendo cualquier entero positivo). Implementa las operaciones de suma, resta, producto punto y producto de Hadamard entre vectores."
      ]
    },
    {
      "cell_type": "markdown",
      "metadata": {},
      "source": [
        "2. Construye una clase cuyo objeto sean secuencias genómicas, esto es, cuyo objeto sea una secuencia del tipo \"AGTCAAGTAA\". Añade los métodos y atributos que consideres. Posibles métodos: cálculo de la longitud de la secuencia, cálculo de ocurrencia de cada uno de los nucleótidos, producir el complemento de la cadena, generar el complemento inverso."
      ]
    },
    {
      "cell_type": "markdown",
      "metadata": {
        "id": "piKYBneMARxj"
      },
      "source": [
        "# Ejemplos con Numpy"
      ]
    },
    {
      "cell_type": "code",
      "execution_count": 28,
      "metadata": {
        "colab": {
          "base_uri": "https://localhost:8080/"
        },
        "id": "tv92l6BUARV0",
        "outputId": "9e8a0582-d7bc-4b8d-f8fa-b9e7ca85a6d6"
      },
      "outputs": [
        {
          "name": "stdout",
          "output_type": "stream",
          "text": [
            "Array 1D: [1 2 3]\n",
            "Array 2D:\n",
            " [[1 2]\n",
            " [3 4]]\n"
          ]
        }
      ],
      "source": [
        "import numpy as np\n",
        "\n",
        "# Crear un array desde una lista\n",
        "a = np.array([1, 2, 3])\n",
        "print(\"Array 1D:\", a)\n",
        "\n",
        "# Crear un array 2D (matriz)\n",
        "b = np.array([[1, 2], [3, 4]])\n",
        "print(\"Array 2D:\\n\", b)"
      ]
    },
    {
      "cell_type": "code",
      "execution_count": 29,
      "metadata": {},
      "outputs": [
        {
          "name": "stdout",
          "output_type": "stream",
          "text": [
            "Zeros:\n",
            " [[0. 0. 0.]\n",
            " [0. 0. 0.]]\n",
            "Ones:\n",
            " [[1. 1. 1.]\n",
            " [1. 1. 1.]]\n",
            "Random:\n",
            " [[0.85721121 0.00219001 0.27194684]\n",
            " [0.05615751 0.16327696 0.70006647]]\n"
          ]
        }
      ],
      "source": [
        "\n",
        "# Crear arrays de ceros, unos, o valores aleatorios\n",
        "print(\"Zeros:\\n\", np.zeros((2, 3)))\n",
        "print(\"Ones:\\n\", np.ones((2, 3)))\n",
        "print(\"Random:\\n\", np.random.rand(2, 3))"
      ]
    },
    {
      "cell_type": "code",
      "execution_count": 30,
      "metadata": {},
      "outputs": [
        {
          "name": "stdout",
          "output_type": "stream",
          "text": [
            "Shape: (2, 3)\n",
            "Size: 6\n",
            "Dimensiones: 2\n",
            "Tipo de datos: int32\n"
          ]
        }
      ],
      "source": [
        "a = np.array([[1, 2, 3], [4, 5, 6]])\n",
        "print(\"Shape:\", a.shape)     # (2, 3)\n",
        "print(\"Size:\", a.size)       # 6\n",
        "print(\"Dimensiones:\", a.ndim)  # 2\n",
        "print(\"Tipo de datos:\", a.dtype)  # int64 (por ejemplo)"
      ]
    },
    {
      "cell_type": "code",
      "execution_count": 31,
      "metadata": {},
      "outputs": [
        {
          "name": "stdout",
          "output_type": "stream",
          "text": [
            "20\n",
            "[20 50]\n",
            "[40 50 60]\n",
            "[[20 30]\n",
            " [50 60]]\n"
          ]
        }
      ],
      "source": [
        "a = np.array([[10, 20, 30], [40, 50, 60]])\n",
        "\n",
        "print(a[0, 1])    # Accede al elemento en fila 0, columna 1 → 20\n",
        "print(a[:, 1])    # Accede a toda la columna 1 → [20 50]\n",
        "print(a[1, :])    # Accede a toda la fila 1 → [40 50 60]\n",
        "print(a[0:2, 1:]) # Submatriz → [[20 30], [50 60]]"
      ]
    },
    {
      "cell_type": "code",
      "execution_count": 32,
      "metadata": {},
      "outputs": [
        {
          "name": "stdout",
          "output_type": "stream",
          "text": [
            "Suma: [11 22 33]\n",
            "Multiplicación: [10 40 90]\n",
            "Potencia: [1 4 9]\n",
            "Seno: [0.84147098 0.90929743 0.14112001]\n"
          ]
        }
      ],
      "source": [
        "a = np.array([1, 2, 3])\n",
        "b = np.array([10, 20, 30])\n",
        "\n",
        "print(\"Suma:\", a + b)       # [11 22 33]\n",
        "print(\"Multiplicación:\", a * b)  # [10 40 90]\n",
        "print(\"Potencia:\", a ** 2)  # [1 4 9]\n",
        "print(\"Seno:\", np.sin(a))   # Seno de cada elemento"
      ]
    },
    {
      "cell_type": "code",
      "execution_count": 38,
      "metadata": {},
      "outputs": [
        {
          "name": "stdout",
          "output_type": "stream",
          "text": [
            "Máximo: 4\n",
            "Mínimo: 1\n",
            "Promedio: 2.5\n",
            "Desviación estándar: 1.118033988749895\n"
          ]
        }
      ],
      "source": [
        "data = np.array([[1, 2], [3, 4]])\n",
        "\n",
        "print(\"Máximo:\", np.max(data))       # 4\n",
        "print(\"Mínimo:\", np.min(data))       # 1\n",
        "print(\"Promedio:\", np.mean(data))    # 2.5\n",
        "print(\"Desviación estándar:\", np.std(data))  # ~1.118"
      ]
    },
    {
      "cell_type": "code",
      "execution_count": 40,
      "metadata": {},
      "outputs": [
        {
          "name": "stdout",
          "output_type": "stream",
          "text": [
            "Suma por filas: [3 7]\n",
            "Suma por columnas: [4 6]\n"
          ]
        }
      ],
      "source": [
        "print(\"Suma por filas:\", np.sum(data, axis=1))\n",
        "print(\"Suma por columnas:\", np.sum(data, axis=0))"
      ]
    },
    {
      "cell_type": "code",
      "execution_count": 35,
      "metadata": {},
      "outputs": [],
      "source": [
        "from numpy.linalg import inv, det\n",
        "\n",
        "A = np.array([[1, 2], [3, 4]])\n",
        "B = np.array([[2, 0], [1, 2]])"
      ]
    },
    {
      "cell_type": "code",
      "execution_count": 36,
      "metadata": {},
      "outputs": [
        {
          "name": "stdout",
          "output_type": "stream",
          "text": [
            "[[1 2]\n",
            " [3 4]]\n"
          ]
        }
      ],
      "source": [
        "print(A)"
      ]
    },
    {
      "cell_type": "code",
      "execution_count": 37,
      "metadata": {},
      "outputs": [
        {
          "name": "stdout",
          "output_type": "stream",
          "text": [
            "A @ B:\n",
            " [[ 4  4]\n",
            " [10  8]]\n",
            "Determinante de A: -2.0000000000000004\n",
            "Inversa de A:\n",
            " [[-2.   1. ]\n",
            " [ 1.5 -0.5]]\n"
          ]
        }
      ],
      "source": [
        "# Multiplicación de matrices\n",
        "print(\"A @ B:\\n\", A @ B)\n",
        "\n",
        "# Determinante\n",
        "print(\"Determinante de A:\", det(A))  # -2.0\n",
        "\n",
        "# Inversa de una matriz\n",
        "print(\"Inversa de A:\\n\", inv(A))"
      ]
    },
    {
      "cell_type": "markdown",
      "metadata": {},
      "source": [
        "¿Dónde puedo ver más sobre los métodos y funciones de la librería Numpy? En la documentación oficial."
      ]
    },
    {
      "cell_type": "markdown",
      "metadata": {},
      "source": [
        "Otra librería: random"
      ]
    },
    {
      "cell_type": "code",
      "execution_count": 1,
      "metadata": {},
      "outputs": [],
      "source": [
        "import random"
      ]
    },
    {
      "cell_type": "code",
      "execution_count": 11,
      "metadata": {},
      "outputs": [
        {
          "name": "stdout",
          "output_type": "stream",
          "text": [
            "Fruta aleatoria: manzana\n"
          ]
        }
      ],
      "source": [
        "frutas = ['manzana', 'banana', 'naranja', 'pera']\n",
        "fruta_aleatoria = random.choice(frutas)\n",
        "print(f\"Fruta aleatoria: {fruta_aleatoria}\")"
      ]
    },
    {
      "cell_type": "code",
      "execution_count": 10,
      "metadata": {},
      "outputs": [
        {
          "name": "stdout",
          "output_type": "stream",
          "text": [
            "Número aleatorio entre 1 y 100: 30\n"
          ]
        }
      ],
      "source": [
        "numero = random.randint(1, 100)\n",
        "print(f\"Número aleatorio entre 1 y 100: {numero}\")"
      ]
    },
    {
      "cell_type": "code",
      "execution_count": 9,
      "metadata": {},
      "outputs": [
        {
          "name": "stdout",
          "output_type": "stream",
          "text": [
            "Número decimal aleatorio entre 1.5 y 5.5: 1.8747809594463698\n"
          ]
        }
      ],
      "source": [
        "decimal = random.uniform(1.5, 5.5)\n",
        "print(f\"Número decimal aleatorio entre 1.5 y 5.5: {decimal}\")"
      ]
    },
    {
      "cell_type": "code",
      "execution_count": 8,
      "metadata": {},
      "outputs": [
        {
          "name": "stdout",
          "output_type": "stream",
          "text": [
            "Números seleccionados: [35, 6, 38, 28, 3, 2]\n"
          ]
        }
      ],
      "source": [
        "numeros = list(range(1, 50))\n",
        "seleccionados = random.sample(numeros, 6)\n",
        "print(f\"Números seleccionados: {seleccionados}\")"
      ]
    },
    {
      "cell_type": "code",
      "execution_count": 7,
      "metadata": {},
      "outputs": [
        {
          "name": "stdout",
          "output_type": "stream",
          "text": [
            "Colores seleccionados: ['rojo', 'rojo', 'rojo', 'verde', 'verde']\n"
          ]
        }
      ],
      "source": [
        "colores = ['rojo', 'azul', 'verde']\n",
        "seleccion = random.choices(colores, k=5)\n",
        "print(f\"Colores seleccionados: {seleccion}\")"
      ]
    },
    {
      "cell_type": "code",
      "execution_count": 2,
      "metadata": {},
      "outputs": [
        {
          "name": "stdout",
          "output_type": "stream",
          "text": [
            "Valor con distribución normal (media=0, desv=1): -0.38907038515701686\n"
          ]
        }
      ],
      "source": [
        "\n",
        "valor = random.gauss(mu=0, sigma=1)\n",
        "print(f\"Valor con distribución normal (media=0, desv=1): {valor}\")"
      ]
    },
    {
      "cell_type": "code",
      "execution_count": 6,
      "metadata": {},
      "outputs": [
        {
          "name": "stdout",
          "output_type": "stream",
          "text": [
            "2\n"
          ]
        }
      ],
      "source": [
        "random.seed(42)\n",
        "print(random.randint(1, 10)) "
      ]
    },
    {
      "cell_type": "markdown",
      "metadata": {},
      "source": [
        "Otra librería: scipy"
      ]
    },
    {
      "cell_type": "code",
      "execution_count": 3,
      "metadata": {},
      "outputs": [
        {
          "name": "stdout",
          "output_type": "stream",
          "text": [
            "Solución: x = [1.4 0.9]\n"
          ]
        }
      ],
      "source": [
        "from scipy import linalg\n",
        "import numpy as np\n",
        "\n",
        "# Resolver Ax = b\n",
        "A = np.array([[3, 2], [1, 4]])\n",
        "b = np.array([6, 5])\n",
        "x = linalg.solve(A, b)\n",
        "\n",
        "print(f\"Solución: x = {x}\")\n"
      ]
    },
    {
      "cell_type": "code",
      "execution_count": 4,
      "metadata": {},
      "outputs": [
        {
          "name": "stdout",
          "output_type": "stream",
          "text": [
            "Mínimo encontrado en: [-2.37910001e-08 -2.37910001e-08], valor mínimo: 3.0000000000000013\n"
          ]
        }
      ],
      "source": [
        "from scipy.optimize import minimize\n",
        "\n",
        "def f(x):\n",
        "    return x[0]**2 + x[1]**2 + 3\n",
        "\n",
        "res = minimize(f, x0=[1, 1])\n",
        "print(f\"Mínimo encontrado en: {res.x}, valor mínimo: {res.fun}\")"
      ]
    },
    {
      "cell_type": "code",
      "execution_count": 5,
      "metadata": {},
      "outputs": [
        {
          "name": "stdout",
          "output_type": "stream",
          "text": [
            "Resultado de la integral: 0.33333333333333337, Error estimado: 3.700743415417189e-15\n"
          ]
        }
      ],
      "source": [
        "from scipy import integrate\n",
        "\n",
        "# Integrar f(x) = x^2 de 0 a 1\n",
        "result, error = integrate.quad(lambda x: x**2, 0, 1)\n",
        "\n",
        "print(f\"Resultado de la integral: {result}, Error estimado: {error}\")"
      ]
    },
    {
      "cell_type": "markdown",
      "metadata": {},
      "source": []
    }
  ],
  "metadata": {
    "colab": {
      "provenance": []
    },
    "kernelspec": {
      "display_name": "Python 3",
      "name": "python3"
    },
    "language_info": {
      "codemirror_mode": {
        "name": "ipython",
        "version": 3
      },
      "file_extension": ".py",
      "mimetype": "text/x-python",
      "name": "python",
      "nbconvert_exporter": "python",
      "pygments_lexer": "ipython3",
      "version": "3.12.1"
    }
  },
  "nbformat": 4,
  "nbformat_minor": 0
}

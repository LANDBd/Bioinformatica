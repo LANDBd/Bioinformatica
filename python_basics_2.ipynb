{
  "nbformat": 4,
  "nbformat_minor": 0,
  "metadata": {
    "colab": {
      "provenance": []
    },
    "kernelspec": {
      "name": "python3",
      "display_name": "Python 3"
    },
    "language_info": {
      "name": "python"
    }
  },
  "cells": [
    {
      "cell_type": "markdown",
      "source": [
        "### Funciones en Python"
      ],
      "metadata": {
        "id": "69Ltm9SA9Hx6"
      }
    },
    {
      "cell_type": "code",
      "source": [
        "import time\n",
        "from math import sqrt"
      ],
      "metadata": {
        "id": "ww0kbCuSGoTT"
      },
      "execution_count": 43,
      "outputs": []
    },
    {
      "cell_type": "code",
      "source": [
        "def saludar(nombre):\n",
        "    return f\"Hola, {nombre}!\"\n",
        "\n",
        "print(saludar(\"Andres\"))"
      ],
      "metadata": {
        "colab": {
          "base_uri": "https://localhost:8080/"
        },
        "id": "MWmgahdK9HlT",
        "outputId": "58c9c9e5-d7b0-467d-d9eb-01a80ed391e7"
      },
      "execution_count": 1,
      "outputs": [
        {
          "output_type": "stream",
          "name": "stdout",
          "text": [
            "Hola, Andres!\n"
          ]
        }
      ]
    },
    {
      "cell_type": "code",
      "source": [
        "def dividir(dividendo, divisor):\n",
        "    cociente = dividendo // divisor\n",
        "    resto = dividendo % divisor\n",
        "    return cociente, resto\n",
        "\n",
        "resultado = dividir(10, 3)\n",
        "print(resultado)\n",
        "cociente, resto = dividir(10, 3)\n",
        "print(cociente, resto)"
      ],
      "metadata": {
        "colab": {
          "base_uri": "https://localhost:8080/"
        },
        "id": "mIUXnQPw9KLc",
        "outputId": "8e3d1e7d-7bb9-4a57-e20f-0ac4d7e296d7"
      },
      "execution_count": 50,
      "outputs": [
        {
          "output_type": "stream",
          "name": "stdout",
          "text": [
            "(3, 1)\n",
            "3 1\n"
          ]
        }
      ]
    },
    {
      "cell_type": "code",
      "source": [
        "def mostrar_args_kwargs(*args, **kwargs):\n",
        "    print(\"Args:\", args)\n",
        "    print(\"Kwargs:\", kwargs)\n",
        "\n",
        "mostrar_args_kwargs(1, 2, 3, a=10, b=20)"
      ],
      "metadata": {
        "colab": {
          "base_uri": "https://localhost:8080/"
        },
        "id": "AIjZdTld9SbX",
        "outputId": "0b6a9261-e55a-4580-cd6e-75ea46717154"
      },
      "execution_count": 22,
      "outputs": [
        {
          "output_type": "stream",
          "name": "stdout",
          "text": [
            "Args: (1, 2, 3)\n",
            "Kwargs: {'a': 10, 'b': 20}\n"
          ]
        }
      ]
    },
    {
      "cell_type": "code",
      "source": [
        "def es_primo(n):\n",
        "\n",
        "  if(n==1):\n",
        "    return False\n",
        "\n",
        "  for i in range(2,n):\n",
        "    if(n % i == 0):\n",
        "      return False\n",
        "\n",
        "  return True"
      ],
      "metadata": {
        "id": "8ucVFfZ3FW7G"
      },
      "execution_count": 29,
      "outputs": []
    },
    {
      "cell_type": "code",
      "source": [
        "es_primo(29996224275833)"
      ],
      "metadata": {
        "colab": {
          "base_uri": "https://localhost:8080/",
          "height": 266
        },
        "id": "8dX6srWxFyll",
        "outputId": "cbda769a-0507-4340-fcb8-5761a9e62eff"
      },
      "execution_count": 51,
      "outputs": [
        {
          "output_type": "error",
          "ename": "KeyboardInterrupt",
          "evalue": "",
          "traceback": [
            "\u001b[0;31m---------------------------------------------------------------------------\u001b[0m",
            "\u001b[0;31mKeyboardInterrupt\u001b[0m                         Traceback (most recent call last)",
            "\u001b[0;32m/tmp/ipython-input-2996905757.py\u001b[0m in \u001b[0;36m<cell line: 0>\u001b[0;34m()\u001b[0m\n\u001b[0;32m----> 1\u001b[0;31m \u001b[0mes_primo\u001b[0m\u001b[0;34m(\u001b[0m\u001b[0;36m29996224275833\u001b[0m\u001b[0;34m)\u001b[0m\u001b[0;34m\u001b[0m\u001b[0;34m\u001b[0m\u001b[0m\n\u001b[0m",
            "\u001b[0;32m/tmp/ipython-input-1953969419.py\u001b[0m in \u001b[0;36mes_primo\u001b[0;34m(n)\u001b[0m\n\u001b[1;32m      5\u001b[0m \u001b[0;34m\u001b[0m\u001b[0m\n\u001b[1;32m      6\u001b[0m   \u001b[0;32mfor\u001b[0m \u001b[0mi\u001b[0m \u001b[0;32min\u001b[0m \u001b[0mrange\u001b[0m\u001b[0;34m(\u001b[0m\u001b[0;36m2\u001b[0m\u001b[0;34m,\u001b[0m\u001b[0mn\u001b[0m\u001b[0;34m)\u001b[0m\u001b[0;34m:\u001b[0m\u001b[0;34m\u001b[0m\u001b[0;34m\u001b[0m\u001b[0m\n\u001b[0;32m----> 7\u001b[0;31m     \u001b[0;32mif\u001b[0m\u001b[0;34m(\u001b[0m\u001b[0mn\u001b[0m \u001b[0;34m%\u001b[0m \u001b[0mi\u001b[0m \u001b[0;34m==\u001b[0m \u001b[0;36m0\u001b[0m\u001b[0;34m)\u001b[0m\u001b[0;34m:\u001b[0m\u001b[0;34m\u001b[0m\u001b[0;34m\u001b[0m\u001b[0m\n\u001b[0m\u001b[1;32m      8\u001b[0m       \u001b[0;32mreturn\u001b[0m \u001b[0;32mFalse\u001b[0m\u001b[0;34m\u001b[0m\u001b[0;34m\u001b[0m\u001b[0m\n\u001b[1;32m      9\u001b[0m \u001b[0;34m\u001b[0m\u001b[0m\n",
            "\u001b[0;31mKeyboardInterrupt\u001b[0m: "
          ]
        }
      ]
    },
    {
      "cell_type": "code",
      "source": [
        "def es_primo_rapido(n):\n",
        "\n",
        "  if(n==1):\n",
        "    return False\n",
        "\n",
        "  for i in range(2,int(sqrt(n) + 1)):\n",
        "    if(n % i == 0):\n",
        "      return False\n",
        "\n",
        "  return True"
      ],
      "metadata": {
        "id": "TVHFF0hSGTWe"
      },
      "execution_count": 42,
      "outputs": []
    },
    {
      "cell_type": "code",
      "source": [
        "es_primo_rapido(29996224275833)"
      ],
      "metadata": {
        "colab": {
          "base_uri": "https://localhost:8080/"
        },
        "id": "5qMv5fXVGkC7",
        "outputId": "60426987-87e5-4ec1-a180-2495b3b813f0"
      },
      "execution_count": 45,
      "outputs": [
        {
          "output_type": "execute_result",
          "data": {
            "text/plain": [
              "True"
            ]
          },
          "metadata": {},
          "execution_count": 45
        }
      ]
    },
    {
      "cell_type": "markdown",
      "source": [
        "# Recursividad"
      ],
      "metadata": {
        "id": "j9SI7RHR92_1"
      }
    },
    {
      "cell_type": "code",
      "source": [
        "def factorial(n):\n",
        "    if n < 0:\n",
        "        raise ValueError(\"El número debe ser no negativo\")\n",
        "    if n == 0 or n == 1:\n",
        "        return 1\n",
        "    return n * factorial(n - 1)\n",
        "\n",
        "print(factorial(5))"
      ],
      "metadata": {
        "colab": {
          "base_uri": "https://localhost:8080/"
        },
        "id": "iAcahRYJ94se",
        "outputId": "4853097a-70e5-4ca2-d69e-2e056103d952"
      },
      "execution_count": 21,
      "outputs": [
        {
          "output_type": "stream",
          "name": "stdout",
          "text": [
            "120\n"
          ]
        }
      ]
    },
    {
      "cell_type": "code",
      "source": [
        "def fibonacci(n):\n",
        "  # Esta función regresa el n-ésimo término de Fibonacci\n",
        "\n",
        "  if(n==1):\n",
        "    return 0\n",
        "  elif(n==2):\n",
        "    return 1\n",
        "  else:\n",
        "    return fibonacci(n-1) + fibonacci(n-2)"
      ],
      "metadata": {
        "id": "EsjtbNJoDu2_"
      },
      "execution_count": 8,
      "outputs": []
    },
    {
      "cell_type": "code",
      "source": [
        "import time"
      ],
      "metadata": {
        "id": "w6s7YnuwEgJU"
      },
      "execution_count": 15,
      "outputs": []
    },
    {
      "cell_type": "code",
      "source": [
        "inicio = time.time()\n",
        "numero = fibonacci(41)\n",
        "fin = time.time()\n",
        "\n",
        "print(f'El termino de fibonacci calculado es {numero}')\n",
        "print(fin - inicio)"
      ],
      "metadata": {
        "colab": {
          "base_uri": "https://localhost:8080/"
        },
        "id": "t3xL4_85EI81",
        "outputId": "a6989800-ed27-4817-ae11-e6daf3159e26"
      },
      "execution_count": 20,
      "outputs": [
        {
          "output_type": "stream",
          "name": "stdout",
          "text": [
            "El termino de fibonacci calculado es 102334155\n",
            "26.071067571640015\n"
          ]
        }
      ]
    },
    {
      "cell_type": "markdown",
      "source": [
        "# Funciones lambda"
      ],
      "metadata": {
        "id": "vvojNoTV-pcX"
      }
    },
    {
      "cell_type": "code",
      "source": [
        "doble = lambda x: x * 2\n",
        "print(doble(5))  # Output: 10"
      ],
      "metadata": {
        "id": "QwZl8Rjz9WUT"
      },
      "execution_count": null,
      "outputs": []
    },
    {
      "cell_type": "code",
      "source": [
        "sumar = lambda a, b: a + b\n",
        "print(sumar(3, 4))  # Output: 7"
      ],
      "metadata": {
        "id": "LQYoXRY59Xy4"
      },
      "execution_count": null,
      "outputs": []
    },
    {
      "cell_type": "code",
      "source": [
        "numeros = [1, 2, 3, 4]\n",
        "cuadrados = list(map(lambda x: x ** 2, numeros))\n",
        "print(cuadrados)"
      ],
      "metadata": {
        "id": "CZ5VS9bl9aG5"
      },
      "execution_count": null,
      "outputs": []
    },
    {
      "cell_type": "code",
      "source": [
        "numeros = [1, 2, 3, 4, 5, 6]\n",
        "pares = list(filter(lambda x: x % 2 == 0, numeros))\n",
        "print(pares)"
      ],
      "metadata": {
        "id": "h2jKGo1i9cFU"
      },
      "execution_count": null,
      "outputs": []
    },
    {
      "cell_type": "markdown",
      "source": [
        "# Algo más complicado"
      ],
      "metadata": {
        "id": "439ZkgGE-s1Y"
      }
    },
    {
      "cell_type": "code",
      "execution_count": null,
      "metadata": {
        "id": "eL6po-SI8ZGl"
      },
      "outputs": [],
      "source": [
        "def burbuja(lista):\n",
        "    n = len(lista)\n",
        "    for i in range(n):\n",
        "        for j in range(0, n - i - 1):\n",
        "            if lista[j] > lista[j + 1]:\n",
        "                # Intercambiar los elementos si están en el orden incorrecto\n",
        "                lista[j], lista[j + 1] = lista[j + 1], lista[j]\n",
        "    return lista\n",
        "\n",
        "# Ejemplo de uso\n",
        "numeros = [5, 3, 8, 4, 2]\n",
        "print(\"Lista original:\", numeros)\n",
        "ordenada = burbuja(numeros.copy())\n",
        "print(\"Lista ordenada:\", ordenada)"
      ]
    },
    {
      "cell_type": "markdown",
      "source": [
        "### Ejercicios\n",
        "\n",
        "1. Escribe una función que permita convertir de grados Fahrenheit a Celsius y viceversa.\n",
        "\n",
        "2. Escribe una función que, dada una lista de números, regrese la distancia mínima y máxima entre los números dentro de esa lista.\n",
        "\n",
        "2. Escribe una función que dada una cadena de caracteres regrese un diccionario que contenga el número de veces que aparece cada caracter. (Ejemplo, 'AABC' debe regresar {'A':2, 'B': 1, 'C':1})"
      ],
      "metadata": {
        "id": "izfixOo7BMO2"
      }
    },
    {
      "cell_type": "markdown",
      "source": [
        "# Programación orientada a objetos"
      ],
      "metadata": {
        "id": "PhAIC5iZ_Ye0"
      }
    },
    {
      "cell_type": "code",
      "source": [
        "class Persona:\n",
        "    def __init__(self, nombre, edad):\n",
        "        self.nombre = nombre\n",
        "        self.edad = edad\n",
        "\n",
        "    def saludar(self):\n",
        "        return f\"Hola, me llamo {self.nombre} y tengo {self.edad} años.\"\n",
        "\n",
        "# Uso\n",
        "p1 = Persona(\"Andres\", 30)\n",
        "print(p1.saludar())"
      ],
      "metadata": {
        "colab": {
          "base_uri": "https://localhost:8080/"
        },
        "id": "tn1QzUIV_YJi",
        "outputId": "5539c8a5-d078-44ce-bc10-5b779ca0dca2"
      },
      "execution_count": 3,
      "outputs": [
        {
          "output_type": "stream",
          "name": "stdout",
          "text": [
            "Hola, me llamo Andres y tengo 30 años.\n"
          ]
        }
      ]
    },
    {
      "cell_type": "code",
      "source": [
        "class CuentaBancaria:\n",
        "    def __init__(self, titular, saldo=0):\n",
        "        self.titular = titular\n",
        "        self.saldo = saldo\n",
        "\n",
        "    def depositar(self, cantidad):\n",
        "        self.saldo += cantidad\n",
        "\n",
        "    def retirar(self, cantidad):\n",
        "        if cantidad <= self.saldo:\n",
        "            self.saldo -= cantidad\n",
        "        else:\n",
        "            print(\"Fondos insuficientes.\")\n",
        "\n",
        "    def mostrar_saldo(self):\n",
        "        return f\"Saldo de {self.titular}: {self.saldo}\"\n",
        "\n",
        "# Uso\n",
        "cuenta = CuentaBancaria(\"Pedro\", 100)\n",
        "cuenta.depositar(50)\n",
        "cuenta.retirar(30)\n",
        "print(cuenta.mostrar_saldo())"
      ],
      "metadata": {
        "colab": {
          "base_uri": "https://localhost:8080/"
        },
        "id": "N9KjJ0ap_dUI",
        "outputId": "17ca324a-ea78-41ec-cda8-f7c1c20cf9e9"
      },
      "execution_count": 46,
      "outputs": [
        {
          "output_type": "stream",
          "name": "stdout",
          "text": [
            "Saldo de Pedro: 120\n"
          ]
        }
      ]
    },
    {
      "cell_type": "code",
      "source": [
        "cuenta.depositar(1000)"
      ],
      "metadata": {
        "id": "jqi-g6lFHge1"
      },
      "execution_count": 47,
      "outputs": []
    },
    {
      "cell_type": "code",
      "source": [
        "cuenta.mostrar_saldo()"
      ],
      "metadata": {
        "colab": {
          "base_uri": "https://localhost:8080/",
          "height": 35
        },
        "id": "rIcQVaRDHiRc",
        "outputId": "4d75bf64-073e-42da-c725-56c5e013768c"
      },
      "execution_count": 49,
      "outputs": [
        {
          "output_type": "execute_result",
          "data": {
            "text/plain": [
              "'Saldo de Pedro: 1120'"
            ],
            "application/vnd.google.colaboratory.intrinsic+json": {
              "type": "string"
            }
          },
          "metadata": {},
          "execution_count": 49
        }
      ]
    },
    {
      "cell_type": "markdown",
      "source": [
        "# Ejemplos con Numpy"
      ],
      "metadata": {
        "id": "piKYBneMARxj"
      }
    },
    {
      "cell_type": "code",
      "source": [
        "import numpy as np\n",
        "\n",
        "a = np.array([[1, 2], [3, 4]])\n",
        "print(type(a))  # <class 'numpy.ndarray'>\n",
        "print(a.shape)  # (2, 2)\n",
        "print(a.dtype)  # int64 (o int32 según sistema)\n",
        "\n",
        "# Llamando métodos de la clase ndarray\n",
        "print(a.sum())         # 10\n",
        "print(a.mean())        # 2.5\n",
        "print(a.transpose())   # [[1 3] [2 4]]"
      ],
      "metadata": {
        "colab": {
          "base_uri": "https://localhost:8080/"
        },
        "id": "tv92l6BUARV0",
        "outputId": "9e8a0582-d7bc-4b8d-f8fa-b9e7ca85a6d6"
      },
      "execution_count": 5,
      "outputs": [
        {
          "output_type": "stream",
          "name": "stdout",
          "text": [
            "<class 'numpy.ndarray'>\n",
            "(2, 2)\n",
            "int64\n",
            "10\n",
            "2.5\n",
            "[[1 3]\n",
            " [2 4]]\n"
          ]
        }
      ]
    }
  ]
}
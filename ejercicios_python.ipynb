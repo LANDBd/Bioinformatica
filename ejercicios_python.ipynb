{
 "cells": [
  {
   "cell_type": "markdown",
   "id": "68482a50",
   "metadata": {},
   "source": [
    "# **Algunos problemas de programación**"
   ]
  },
  {
   "cell_type": "markdown",
   "id": "aee1d33a",
   "metadata": {},
   "source": [
    "1. Crea una lista de los cuadrados de los números del 1 al 20 que sean pares"
   ]
  },
  {
   "cell_type": "markdown",
   "id": "72a40b1d",
   "metadata": {},
   "source": [
    "2. Dada una lista de palabras, crea una nueva lista solo con las que tienen más de 4 letras."
   ]
  },
  {
   "cell_type": "markdown",
   "id": "048aaf42",
   "metadata": {},
   "source": [
    "3. Dada una cadena que contiene letras y números, extrae todos los dígitos como enteros."
   ]
  },
  {
   "cell_type": "markdown",
   "id": "9a95240d",
   "metadata": {},
   "source": [
    "4. Usa map() y una función lambda para obtener la longitud de cada palabra en la lista."
   ]
  },
  {
   "cell_type": "markdown",
   "id": "b270f278",
   "metadata": {},
   "source": [
    "5. Dada una lista de números, usa map() con una lambda para multiplicar cada uno por 3."
   ]
  },
  {
   "cell_type": "markdown",
   "id": "594f9524",
   "metadata": {},
   "source": [
    "##  **LISTAS**\n",
    "\n",
    "1. **Eliminar duplicados**\n",
    "   Escribe una función que elimine los elementos duplicados de una lista, manteniendo el orden original.\n",
    "\n",
    "2. **Suma de pares**\n",
    "   Dada una lista de enteros, devuelve todas las parejas de números cuya suma sea igual a un número objetivo.\n",
    "\n",
    "3. **Rotar lista**\n",
    "   Rota una lista $n$ posiciones a la derecha.\n",
    "\n",
    "4. **Frecuencia de elementos**\n",
    "   Cuenta cuántas veces aparece cada elemento en una lista.\n",
    "\n",
    "\n",
    "---\n",
    "\n",
    "##  **DICCIONARIOS**\n",
    "\n",
    "1. **Contar palabras**\n",
    "   Dado un string, cuenta cuántas veces aparece cada palabra.\n",
    "\n",
    "\n",
    "2. **Unir diccionarios**\n",
    "   Une dos diccionarios sumando los valores de claves repetidas.\n",
    "\n",
    "\n",
    "---\n",
    "\n",
    "##  **STRINGS**\n",
    "\n",
    "1. **Palíndromo**\n",
    "   Verifica si un string es un palíndromo (se lee igual al derecho y al revés).\n",
    "\n",
    "2. **Anagrama**\n",
    "   Verifica si dos strings son anagramas (mismas letras, diferente orden).\n",
    "\n",
    "3. **Primera letra que no se repite**\n",
    "   Encuentra la primera letra que no se repite en un string.\n",
    "\n"
   ]
  },
  {
   "cell_type": "markdown",
   "id": "bc7bbd42",
   "metadata": {},
   "source": []
  }
 ],
 "metadata": {
  "kernelspec": {
   "display_name": "Python 3",
   "language": "python",
   "name": "python3"
  },
  "language_info": {
   "name": "python",
   "version": "3.12.1"
  }
 },
 "nbformat": 4,
 "nbformat_minor": 5
}

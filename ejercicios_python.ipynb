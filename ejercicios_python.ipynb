{
 "cells": [
  {
   "cell_type": "markdown",
   "id": "68482a50",
   "metadata": {},
   "source": [
    "# **Algunos problemas de programación**"
   ]
  },
  {
   "cell_type": "markdown",
   "id": "594f9524",
   "metadata": {},
   "source": [
    "##  **LISTAS**\n",
    "\n",
    "1. **Eliminar duplicados**\n",
    "   Escribe una función que elimine los elementos duplicados de una lista, manteniendo el orden original.\n",
    "\n",
    "2. **Suma de pares**\n",
    "   Dada una lista de enteros, devuelve todas las parejas de números cuya suma sea igual a un número objetivo.\n",
    "\n",
    "3. **Rotar lista**\n",
    "   Rota una lista $n$ posiciones a la derecha.\n",
    "\n",
    "4. **Frecuencia de elementos**\n",
    "   Cuenta cuántas veces aparece cada elemento en una lista.\n",
    "\n",
    "\n",
    "---\n",
    "\n",
    "##  **DICCIONARIOS**\n",
    "\n",
    "1. **Contar palabras**\n",
    "   Dado un string, cuenta cuántas veces aparece cada palabra.\n",
    "\n",
    "\n",
    "2. **Unir diccionarios**\n",
    "   Une dos diccionarios sumando los valores de claves repetidas.\n",
    "\n",
    "\n",
    "---\n",
    "\n",
    "##  **STRINGS**\n",
    "\n",
    "1. **Palíndromo**\n",
    "   Verifica si un string es un palíndromo (se lee igual al derecho y al revés).\n",
    "\n",
    "2. **Anagrama**\n",
    "   Verifica si dos strings son anagramas (mismas letras, diferente orden).\n",
    "\n",
    "3. **Primera letra que no se repite**\n",
    "   Encuentra la primera letra que no se repite en un string.\n",
    "\n"
   ]
  },
  {
   "cell_type": "markdown",
   "id": "bc7bbd42",
   "metadata": {},
   "source": []
  }
 ],
 "metadata": {
  "language_info": {
   "name": "python"
  }
 },
 "nbformat": 4,
 "nbformat_minor": 5
}

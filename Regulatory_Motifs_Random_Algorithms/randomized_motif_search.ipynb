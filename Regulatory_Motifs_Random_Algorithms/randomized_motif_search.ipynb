{
 "cells": [
  {
   "cell_type": "markdown",
   "id": "6ca866c4",
   "metadata": {},
   "source": [
    "### RandomizedMotifSearch"
   ]
  },
  {
   "cell_type": "code",
   "execution_count": 1,
   "id": "d635cba1",
   "metadata": {},
   "outputs": [],
   "source": [
    "motifs = []"
   ]
  },
  {
   "cell_type": "code",
   "execution_count": 2,
   "id": "8b71a6b0",
   "metadata": {},
   "outputs": [],
   "source": [
    "with open('subtle_motif_dataset.txt') as f:\n",
    "    for line in f:\n",
    "        motifs.append(line.strip())"
   ]
  },
  {
   "cell_type": "code",
   "execution_count": null,
   "id": "8addcd75",
   "metadata": {},
   "outputs": [],
   "source": [
    "motifs"
   ]
  },
  {
   "cell_type": "code",
   "execution_count": 4,
   "id": "b1d7ecdc",
   "metadata": {},
   "outputs": [],
   "source": [
    "nucleotidos = ['A', 'C', 'T', 'G']\n",
    "\n",
    "for i in range(len(motifs)):\n",
    "    motifs[i] = ''.join(nucleotide for nucleotide in motifs[i] if nucleotide in nucleotidos)"
   ]
  },
  {
   "cell_type": "code",
   "execution_count": null,
   "id": "09e17fae",
   "metadata": {},
   "outputs": [],
   "source": [
    "motifs"
   ]
  },
  {
   "cell_type": "markdown",
   "id": "d0beee7d",
   "metadata": {},
   "source": [
    "Comienza tu implementación de RandomizedMotifSearch:"
   ]
  },
  {
   "cell_type": "code",
   "execution_count": null,
   "id": "1eb42693",
   "metadata": {},
   "outputs": [],
   "source": []
  }
 ],
 "metadata": {
  "kernelspec": {
   "display_name": "Python 3",
   "language": "python",
   "name": "python3"
  },
  "language_info": {
   "codemirror_mode": {
    "name": "ipython",
    "version": 3
   },
   "file_extension": ".py",
   "mimetype": "text/x-python",
   "name": "python",
   "nbconvert_exporter": "python",
   "pygments_lexer": "ipython3",
   "version": "3.12.1"
  }
 },
 "nbformat": 4,
 "nbformat_minor": 5
}
